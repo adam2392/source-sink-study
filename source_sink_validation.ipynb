{
 "cells": [
  {
   "cell_type": "markdown",
   "id": "interpreted-thermal",
   "metadata": {},
   "source": [
    "# Source Sink Algorithm Validation Algorithm - Interictal Data\n",
    "\n"
   ]
  },
  {
   "cell_type": "markdown",
   "id": "9fd80c74-1913-41ce-b35e-24c7f0edcf95",
   "metadata": {},
   "source": [
    "# Disc\n",
    "\n",
    "Hypothesis: All indices should be higher in SOZ vs SOZ^C.\n",
    "\n",
    "source_infl, sink_conn, sink_ind all from A matrix, but not directly from each other\n",
    "ss_ind = source_infl * sink_conn * sink_ind\n",
    "\n",
    "Exps:\n",
    "- source_infl -> quantile vectors -> RF -> cv\n",
    "- sink_conn -> ''\n",
    "- sink_ind -> ''\n",
    "- source_infl, sink_conn, sink_ind -> quantile vectors -> RF -> cv\n",
    "- ^ repeat the above 4, but instead take E[A] first, and the average A -> source_infl (vector) -> quantile\n",
    "\n",
    "Note: ss_ind = combination of all three, so no need to add"
   ]
  },
  {
   "cell_type": "code",
   "execution_count": 1,
   "id": "obvious-usage",
   "metadata": {},
   "outputs": [],
   "source": [
    "%load_ext lab_black"
   ]
  },
  {
   "cell_type": "code",
   "execution_count": 2,
   "id": "proper-dutch",
   "metadata": {},
   "outputs": [],
   "source": [
    "import numpy as np\n",
    "import scipy\n",
    "import scipy.io\n",
    "import pandas as pd\n",
    "from pathlib import Path\n",
    "import os\n",
    "import collections\n",
    "from natsort import natsorted\n",
    "import json\n",
    "import pickle\n",
    "\n",
    "from sklearn.preprocessing import OrdinalEncoder\n",
    "from sklearn.dummy import DummyClassifier\n",
    "from sklearn.ensemble import RandomForestClassifier\n",
    "from sklearn.linear_model import LogisticRegression\n",
    "from sklearn.calibration import calibration_curve\n",
    "from sklearn.metrics import (\n",
    "    brier_score_loss,\n",
    "    roc_curve,\n",
    "    average_precision_score,\n",
    "    roc_auc_score,\n",
    "    f1_score,\n",
    "    balanced_accuracy_score,\n",
    "    accuracy_score,\n",
    "    auc,\n",
    "    plot_precision_recall_curve,\n",
    "    average_precision_score,\n",
    "    precision_recall_curve,\n",
    "    confusion_matrix,\n",
    ")\n",
    "from sklearn.inspection import permutation_importance\n",
    "from sklearn.model_selection import (\n",
    "    GroupKFold,\n",
    "    GroupShuffleSplit,\n",
    "    StratifiedShuffleSplit,\n",
    "    ShuffleSplit,\n",
    "    cross_validate,\n",
    ")\n",
    "from sklearn.utils import resample\n",
    "\n",
    "from mne_bids import BIDSPath, get_entities_from_fname, get_entity_vals\n",
    "\n",
    "from rerf.rerfClassifier import rerfClassifier\n",
    "from oblique_forests.sporf import ObliqueForestClassifier\n",
    "\n",
    "import matplotlib as mpl\n",
    "import matplotlib.pyplot as plt\n",
    "import seaborn as sns"
   ]
  },
  {
   "cell_type": "code",
   "execution_count": 3,
   "id": "ec83b85f-c3f5-4b32-8281-020545729801",
   "metadata": {},
   "outputs": [],
   "source": [
    "class NumpyEncoder(json.JSONEncoder):\n",
    "    \"\"\"Special json encoder for numpy types.\n",
    "\n",
    "    Pass to json.dump(), or json.load().\n",
    "    \"\"\"\n",
    "\n",
    "    def default(self, obj):  # noqa\n",
    "        if isinstance(\n",
    "            obj,\n",
    "            (\n",
    "                np.int_,\n",
    "                np.intc,\n",
    "                np.intp,\n",
    "                np.int8,\n",
    "                np.int16,\n",
    "                np.int32,\n",
    "                np.int64,\n",
    "                np.uint8,\n",
    "                np.uint16,\n",
    "                np.uint32,\n",
    "                np.uint64,\n",
    "            ),\n",
    "        ):\n",
    "            return int(obj)\n",
    "        elif isinstance(obj, (np.float_, np.float16, np.float32, np.float64)):\n",
    "            return float(obj)\n",
    "        elif isinstance(obj, (np.ndarray,)):  # This is the fix\n",
    "            return obj.tolist()\n",
    "        elif isinstance(obj, (datetime, date)):\n",
    "            return obj.isoformat()\n",
    "        return json.JSONEncoder.default(self, obj)"
   ]
  },
  {
   "cell_type": "code",
   "execution_count": 4,
   "id": "48f69fa6-2a8b-4c10-9a53-3a252869181a",
   "metadata": {},
   "outputs": [],
   "source": [
    "from sklearn import preprocessing\n",
    "\n",
    "enc = preprocessing.OrdinalEncoder()"
   ]
  },
  {
   "cell_type": "code",
   "execution_count": 5,
   "id": "veterinary-income",
   "metadata": {},
   "outputs": [],
   "source": [
    "class MatReader:\n",
    "    \"\"\"\n",
    "    Object to read mat files into a nested dictionary if need be.\n",
    "    Helps keep strucutre from matlab similar to what is used in python.\n",
    "    \"\"\"\n",
    "\n",
    "    def __init__(self, filename=None):\n",
    "        self.filename = filename\n",
    "\n",
    "    def loadmat(self, filename):\n",
    "        \"\"\"\n",
    "        this function should be called instead of direct spio.loadmat\n",
    "        as it cures the problem of not properly recovering python dictionaries\n",
    "        from mat files. It calls the function check keys to cure all entries\n",
    "        which are still mat-objects\n",
    "        \"\"\"\n",
    "        try:\n",
    "            data = scipy.io.loadmat(\n",
    "                filename, struct_as_record=False, squeeze_me=True, chars_as_strings=True\n",
    "            )\n",
    "        except NotImplementedError as e:\n",
    "            print(e)\n",
    "            data = hdf5storage.loadmat(filename)\n",
    "        return self._check_keys(data)\n",
    "\n",
    "    def _check_keys(self, dict):\n",
    "        \"\"\"\n",
    "        checks if entries in dictionary are mat-objects. If yes\n",
    "        todict is called to change them to nested dictionaries\n",
    "        \"\"\"\n",
    "        for key in dict:\n",
    "            if isinstance(dict[key], scipy.io.matlab.mio5_params.mat_struct):\n",
    "                dict[key] = self._todict(dict[key])\n",
    "        return dict\n",
    "\n",
    "    def _todict(self, matobj):\n",
    "        \"\"\"\n",
    "        A recursive function which constructs from matobjects nested dictionaries\n",
    "        \"\"\"\n",
    "        dict = {}\n",
    "        for strg in matobj._fieldnames:\n",
    "            elem = matobj.__dict__[strg]\n",
    "            if isinstance(elem, scipy.io.matlab.mio5_params.mat_struct):\n",
    "                dict[strg] = self._todict(elem)\n",
    "            elif isinstance(elem, np.ndarray):\n",
    "                dict[strg] = self._tolist(elem)\n",
    "            else:\n",
    "                dict[strg] = elem\n",
    "        return dict\n",
    "\n",
    "    def _tolist(self, ndarray):\n",
    "        \"\"\"\n",
    "        A recursive function which constructs lists from cellarrays\n",
    "        (which are loaded as numpy ndarrays), recursing into the elements\n",
    "        if they contain matobjects.\n",
    "        \"\"\"\n",
    "        elem_list = []\n",
    "        for sub_elem in ndarray:\n",
    "            if isinstance(sub_elem, scipy.io.matlab.mio5_params.mat_struct):\n",
    "                elem_list.append(self._todict(sub_elem))\n",
    "            elif isinstance(sub_elem, np.ndarray):\n",
    "                elem_list.append(self._tolist(sub_elem))\n",
    "            else:\n",
    "                elem_list.append(sub_elem)\n",
    "        return elem_list"
   ]
  },
  {
   "cell_type": "code",
   "execution_count": 6,
   "id": "e9e51de7-c8c9-46c4-83a6-7170e7f1ee61",
   "metadata": {},
   "outputs": [],
   "source": [
    "def plot_subject_feature_map(dataset, desired_subject, feature_name):\n",
    "    for idx, subject in enumerate(dataset[\"subject\"]):\n",
    "        # get the index of the subject\n",
    "        if subject != desired_subject:\n",
    "            continue\n",
    "\n",
    "        # get the metadata\n",
    "        soz_chs = dataset[\"soz_chs\"][idx]\n",
    "        ch_names = dataset[\"ch_names\"][idx]\n",
    "        soz_inds = [idx for idx, ch in enumerate(ch_names) if ch in soz_chs]\n",
    "        nsoz_inds = [idx for idx in range(len(ch_names)) if idx not in soz_inds]\n",
    "\n",
    "        # get the data\n",
    "        feature_map = dataset[feature_name][idx]\n",
    "\n",
    "        # stratify data into two sets of signals\n",
    "        soz_feat = feature_map[soz_inds, :]\n",
    "        nsoz_feat = feature_map[nsoz_inds, :]\n",
    "\n",
    "        x = np.arange(soz_feat.shape[1])\n",
    "\n",
    "        sns.set_context(\"paper\", font_scale=1.75)\n",
    "        fig, ax = plt.subplots()\n",
    "        #     plt.tick_params(labelsize=14)\n",
    "        y_mean = soz_feat.mean(axis=0)\n",
    "        y_sem = scipy.stats.sem(soz_feat, axis=0)\n",
    "        ax.plot(x, y_mean, label=\"soz\", color=\"red\")\n",
    "        ax.fill_between(x, y_mean - y_sem, y_mean + y_sem, color=\"red\", alpha=0.5)\n",
    "\n",
    "        y_mean = nsoz_feat.mean(axis=0)\n",
    "        y_sem = scipy.stats.sem(nsoz_feat, axis=0)\n",
    "        ax.plot(x, y_mean, label=\"soz^c\", color=\"black\")\n",
    "        ax.fill_between(x, y_mean - y_sem, y_mean + y_sem, color=\"black\", alpha=0.5)\n",
    "\n",
    "        ax.set(\n",
    "            title=f\"Subject {subject} - {feature_name}\",\n",
    "            xlabel=\"Time (A.U.)\",\n",
    "            ylabel=f\"{feature_name} Value\",\n",
    "            #         font_size=20,\n",
    "        )\n",
    "        ax.legend()\n",
    "        break"
   ]
  },
  {
   "cell_type": "markdown",
   "id": "superior-monitoring",
   "metadata": {},
   "source": [
    "# Setup Data Directory"
   ]
  },
  {
   "cell_type": "code",
   "execution_count": 7,
   "id": "efficient-flash",
   "metadata": {},
   "outputs": [],
   "source": [
    "root = Path(\"/Users/adam2392/OneDrive - Johns Hopkins/epilepsy_interictal\")\n",
    "# root = Path(\"/home/adam2392/hdd/Dropbox/epilepsy_interictal\")\n",
    "deriv_root = root / \"derivatives\"\n",
    "source_root = root / \"sourcedata\"\n",
    "\n",
    "session = \"presurgery\"\n",
    "task = \"interictal\"\n",
    "acquisition = \"seeg\"  # note not all subjects are actually sEEG\n",
    "reference = \"car\"\n",
    "deriv_chain = Path(\"sourcesink\") / reference / \"remove_artifact_wins\"\n",
    "\n",
    "deriv_path = deriv_root / deriv_chain"
   ]
  },
  {
   "cell_type": "code",
   "execution_count": 8,
   "id": "adverse-quantum",
   "metadata": {},
   "outputs": [],
   "source": [
    "meta_fpath = source_root / \"ieeg_database_all.xlsx\""
   ]
  },
  {
   "cell_type": "code",
   "execution_count": 9,
   "id": "organizational-institute",
   "metadata": {},
   "outputs": [
    {
     "name": "stdout",
     "output_type": "stream",
     "text": [
      "['002', '003', '004', '005', '006', '009', '011', '013', '014', '015', 'NIH1', 'NIH2', 'NIH3', 'NIH4', 'NIH5', 'NIH7', 'NIH8', 'NIH9', 'NIH10', 'NIH11', 'PY18N002', 'PY18N013', 'PY18N015', 'PY19N012', 'PY19N015', 'PY19N023', 'PY19N026', 'la01', 'la02', 'la03', 'la04', 'la05', 'la06', 'la07', 'la08', 'la09', 'la10', 'la11', 'la13', 'la15', 'la16', 'la21', 'la22', 'la23', 'la24', 'nl01', 'nl02', 'nl04', 'nl05', 'nl06', 'nl07', 'nl08', 'nl11', 'nl12', 'nl13', 'nl14', 'nl15', 'nl16', 'nl18', 'nl19', 'nl20', 'pt1', 'pt2', 'pt3', 'pt4', 'pt5', 'pt6', 'pt7', 'pt8', 'pt9', 'pt10', 'pt11', 'pt12', 'pt13', 'upmc1', 'upmc2', 'upmc3', 'upmc5', 'upmc6']\n"
     ]
    }
   ],
   "source": [
    "subjects = natsorted(get_entity_vals(deriv_path, \"subject\"))\n",
    "print(subjects)"
   ]
  },
  {
   "cell_type": "code",
   "execution_count": 10,
   "id": "5821bc51-f11a-4ea1-8da1-21a4fe09e3c8",
   "metadata": {},
   "outputs": [
    {
     "name": "stdout",
     "output_type": "stream",
     "text": [
      "['005', '014', 'PY19N012', 'PY19N026', 'la01', 'la07', 'nl02', 'nl06', 'nl11', 'pt2', 'pt5', 'pt7', 'pt9']\n",
      "['la02', 'la03', 'la04', 'la05', 'la06', 'la08', 'la09', 'la10', 'la11', 'la13', 'la15', 'la16', 'la21', 'la22', 'la23', 'la24', 'nl01', 'nl04', 'nl05', 'nl07', 'nl08', 'nl12', 'nl13', 'nl14', 'nl15', 'nl16', 'nl18', 'nl19', 'nl20', 'pt1', 'pt3', 'pt4', 'pt6', 'pt8', 'pt10', 'pt11', 'pt12', 'pt13', 'PY18N002', 'PY18N013', 'PY18N015', 'PY19N015', 'PY19N023', '002', '003', '004', '006', '009', '011', '013', '015', 'NIH2', 'NIH3', 'NIH4', 'NIH5', 'NIH7', 'NIH8', 'NIH9', 'NIH10', 'NIH11', 'upmc1', 'upmc2', 'upmc3', 'upmc5', 'upmc6']\n"
     ]
    }
   ],
   "source": [
    "# subjects given by Kristin/Group to use\n",
    "subjects_str = (\n",
    "    \"la02, la03, la04, la05, la06, la08, la09, la10, la11, la13, la15, la16, la21, la22, la23, la24, nl01, nl04, nl05, nl07, nl08, nl12, nl13, nl14, nl15, nl16, nl18, nl19, \"\n",
    "    \"nl20, pt1, pt3, pt4, pt6, pt8, pt10, pt11, pt12, pt13, PY18N002, PY18N013, PY18N015, PY19N015, PY19N023, 002, 003, 004, 006, 009, 011, 013, 015, NIH2, NIH3, NIH4, NIH5, NIH7, NIH8, \"\n",
    "    \"NIH9, NIH10, NIH11, upmc1, upmc2, upmc3, upmc5, upmc6\"\n",
    ")\n",
    "print([sub for sub in subjects if sub not in subjects_str])\n",
    "subjects = subjects_str.split(\", \")\n",
    "print(subjects)"
   ]
  },
  {
   "cell_type": "markdown",
   "id": "revolutionary-perfume",
   "metadata": {},
   "source": [
    "## Obtain Labels Using Excel Sheet"
   ]
  },
  {
   "cell_type": "code",
   "execution_count": 11,
   "id": "rural-tomato",
   "metadata": {},
   "outputs": [
    {
     "data": {
      "text/html": [
       "<div>\n",
       "<style scoped>\n",
       "    .dataframe tbody tr th:only-of-type {\n",
       "        vertical-align: middle;\n",
       "    }\n",
       "\n",
       "    .dataframe tbody tr th {\n",
       "        vertical-align: top;\n",
       "    }\n",
       "\n",
       "    .dataframe thead th {\n",
       "        text-align: right;\n",
       "    }\n",
       "</style>\n",
       "<table border=\"1\" class=\"dataframe\">\n",
       "  <thead>\n",
       "    <tr style=\"text-align: right;\">\n",
       "      <th></th>\n",
       "      <th>org_patientid</th>\n",
       "      <th>patient_id</th>\n",
       "      <th>number_datasets</th>\n",
       "      <th>clinical_center</th>\n",
       "      <th>modality</th>\n",
       "      <th>sfreq</th>\n",
       "      <th>previous_surgery?</th>\n",
       "      <th>clinical_complexity</th>\n",
       "      <th>engel_score</th>\n",
       "      <th>ilae_score</th>\n",
       "      <th>...</th>\n",
       "      <th>mri_outcome</th>\n",
       "      <th>postop_progress_info</th>\n",
       "      <th>date_of_recording</th>\n",
       "      <th>date_of_surgery</th>\n",
       "      <th>date_of_last_follow_up</th>\n",
       "      <th>years_follow_up</th>\n",
       "      <th>engel_class_full</th>\n",
       "      <th>notes</th>\n",
       "      <th>Unnamed: 38</th>\n",
       "      <th>Unnamed: 39</th>\n",
       "    </tr>\n",
       "  </thead>\n",
       "  <tbody>\n",
       "    <tr>\n",
       "      <th>0</th>\n",
       "      <td>NaN</td>\n",
       "      <td>la01</td>\n",
       "      <td>1</td>\n",
       "      <td>cc</td>\n",
       "      <td>seeg</td>\n",
       "      <td>1000</td>\n",
       "      <td>Y (SEEG implant 4/2013, craniotomy 4/2013)</td>\n",
       "      <td>4</td>\n",
       "      <td>4</td>\n",
       "      <td>4.0</td>\n",
       "      <td>...</td>\n",
       "      <td>Normal</td>\n",
       "      <td>Seizure free since surgery.</td>\n",
       "      <td>2013-04-10 02:11:44</td>\n",
       "      <td>2014-01-01 00:00:00</td>\n",
       "      <td>2019-10-01 00:00:00</td>\n",
       "      <td>5</td>\n",
       "      <td>NaN</td>\n",
       "      <td>NaN</td>\n",
       "      <td>NaN</td>\n",
       "      <td>NaN</td>\n",
       "    </tr>\n",
       "    <tr>\n",
       "      <th>1</th>\n",
       "      <td>NaN</td>\n",
       "      <td>la02</td>\n",
       "      <td>1</td>\n",
       "      <td>cc</td>\n",
       "      <td>seeg</td>\n",
       "      <td>1000</td>\n",
       "      <td>VNS implant 4/24/2014</td>\n",
       "      <td>1</td>\n",
       "      <td>1</td>\n",
       "      <td>1.0</td>\n",
       "      <td>...</td>\n",
       "      <td>Normal</td>\n",
       "      <td>Seizure free since surgery.</td>\n",
       "      <td>NaN</td>\n",
       "      <td>2015-02-01 00:00:00</td>\n",
       "      <td>2018-11-01 00:00:00</td>\n",
       "      <td>3</td>\n",
       "      <td>NaN</td>\n",
       "      <td>PPT says: Lesion?</td>\n",
       "      <td>NaN</td>\n",
       "      <td>NaN</td>\n",
       "    </tr>\n",
       "  </tbody>\n",
       "</table>\n",
       "<p>2 rows × 40 columns</p>\n",
       "</div>"
      ],
      "text/plain": [
       "  org_patientid patient_id  number_datasets clinical_center modality  sfreq  \\\n",
       "0           NaN       la01                1              cc     seeg   1000   \n",
       "1           NaN       la02                1              cc     seeg   1000   \n",
       "\n",
       "                            previous_surgery? clinical_complexity  \\\n",
       "0  Y (SEEG implant 4/2013, craniotomy 4/2013)                   4   \n",
       "1                       VNS implant 4/24/2014                   1   \n",
       "\n",
       "   engel_score  ilae_score  ... mri_outcome         postop_progress_info  \\\n",
       "0            4         4.0  ...      Normal  Seizure free since surgery.   \n",
       "1            1         1.0  ...      Normal  Seizure free since surgery.   \n",
       "\n",
       "     date_of_recording      date_of_surgery  date_of_last_follow_up  \\\n",
       "0  2013-04-10 02:11:44  2014-01-01 00:00:00     2019-10-01 00:00:00   \n",
       "1                  NaN  2015-02-01 00:00:00     2018-11-01 00:00:00   \n",
       "\n",
       "  years_follow_up engel_class_full              notes Unnamed: 38 Unnamed: 39  \n",
       "0               5              NaN                NaN         NaN         NaN  \n",
       "1               3              NaN  PPT says: Lesion?         NaN         NaN  \n",
       "\n",
       "[2 rows x 40 columns]"
      ]
     },
     "metadata": {},
     "output_type": "display_data"
    }
   ],
   "source": [
    "meta_df = pd.read_excel(meta_fpath)\n",
    "\n",
    "display(meta_df.head(2))"
   ]
  },
  {
   "cell_type": "markdown",
   "id": "83f4ddf4-c6dd-41f8-83cb-a0a3535543fb",
   "metadata": {},
   "source": [
    "# Obtain Source Sink Data From Each File"
   ]
  },
  {
   "cell_type": "code",
   "execution_count": 12,
   "id": "about-river",
   "metadata": {
    "tags": []
   },
   "outputs": [],
   "source": [
    "dataset = collections.defaultdict(list)\n",
    "\n",
    "for subject in subjects:\n",
    "    subj_dir = deriv_path / f\"sub-{subject}\"\n",
    "    fpaths = subj_dir.glob(\"*.mat\")\n",
    "    for idx, fpath in enumerate(fpaths):\n",
    "        data_path = BIDSPath(\n",
    "            subject=subject,\n",
    "            session=session,\n",
    "            task=task,\n",
    "            acquisition=acquisition,\n",
    "            run=idx + 1,\n",
    "            suffix=\"ss_ind\",\n",
    "            extension=\".mat\",\n",
    "            check=False,\n",
    "        )\n",
    "        #         print(f\"Reading {fpath}\")\n",
    "        reader = MatReader()\n",
    "        data_dict = reader.loadmat(fpath)\n",
    "\n",
    "        #         print(data_dict.keys())\n",
    "        ch_names = data_dict[\"labels\"]\n",
    "        soz_chs = data_dict[\"ez_ch\"]\n",
    "        sink_ind = np.array(data_dict[\"sink_index\"])\n",
    "        source_infl = np.array(data_dict[\"source_infl\"])\n",
    "        sink_conn = data_dict[\"sink_conn\"]\n",
    "        ss_ind = data_dict[\"ss_index\"]\n",
    "\n",
    "        dataset[\"subject\"].append(subject)\n",
    "        dataset[\"sink_ind\"].append(sink_ind)\n",
    "        dataset[\"source_infl\"].append(source_infl)\n",
    "        dataset[\"sink_conn\"].append(sink_conn)\n",
    "        dataset[\"ss_ind\"].append(ss_ind)\n",
    "        dataset[\"ch_names\"].append(ch_names)\n",
    "        dataset[\"soz_chs\"].append(soz_chs)\n",
    "\n",
    "#         break\n",
    "\n",
    "#     break"
   ]
  },
  {
   "cell_type": "markdown",
   "id": "71041c4c-fdb9-4743-9654-f546b9be13f5",
   "metadata": {},
   "source": [
    "# Obtain HFO Data From Each File"
   ]
  },
  {
   "cell_type": "code",
   "execution_count": 43,
   "id": "9c41fc1d-87bc-408c-91af-3b9ccac88f14",
   "metadata": {},
   "outputs": [],
   "source": [
    "deriv_chain = Path(\"hfo_detection\") / reference\n",
    "\n",
    "deriv_path = deriv_root / deriv_chain"
   ]
  },
  {
   "cell_type": "code",
   "execution_count": 44,
   "id": "f5400335-e6fb-42ed-bac6-61613c543c0a",
   "metadata": {
    "tags": []
   },
   "outputs": [],
   "source": [
    "dataset = collections.defaultdict(list)\n",
    "\n",
    "for subject in subjects:\n",
    "    subj_dir = deriv_path / f\"sub-{subject}\"\n",
    "    fpaths = subj_dir.glob(\"*.mat\")\n",
    "    for idx, fpath in enumerate(fpaths):\n",
    "        data_path = BIDSPath(\n",
    "            subject=subject,\n",
    "            session=session,\n",
    "            task=task,\n",
    "            acquisition=acquisition,\n",
    "            run=idx + 1,\n",
    "            suffix=\"hfo_rates\",\n",
    "            extension=\".mat\",\n",
    "            check=False,\n",
    "        )\n",
    "        #         print(f\"Reading {fpath}\")\n",
    "        reader = MatReader()\n",
    "        data_dict = reader.loadmat(fpath)\n",
    "\n",
    "        #         print(data_dict.keys())\n",
    "        ch_names = data_dict[\"bipolar_labels\"]\n",
    "        soz_chs = data_dict[\"ez_ch\"]\n",
    "        bip_ch_names = [\"-\".join(ch.tolist()) for ch in ch_names]\n",
    "        soz_chs = [ch for ch in bip_ch_names if any(soz in ch for soz in soz_chs)]\n",
    "\n",
    "        hfo_rates = np.array(data_dict[\"hfo_rates\"])\n",
    "\n",
    "        dataset[\"subject\"].append(subject)\n",
    "        dataset[\"hfo_rates\"].append(hfo_rates)\n",
    "        dataset[\"ch_names\"].append(bip_ch_names)\n",
    "        dataset[\"soz_chs\"].append(soz_chs)\n",
    "\n",
    "#         break\n",
    "\n",
    "#     break"
   ]
  },
  {
   "cell_type": "markdown",
   "id": "selected-maker",
   "metadata": {
    "tags": []
   },
   "source": [
    "# Define Cross Validation Function"
   ]
  },
  {
   "cell_type": "code",
   "execution_count": 45,
   "id": "parallel-germany",
   "metadata": {
    "tags": []
   },
   "outputs": [],
   "source": [
    "n_splits = 10\n",
    "train_size = 0.7\n",
    "random_state = 12345\n",
    "\n",
    "subject_groups = np.array(subjects)"
   ]
  },
  {
   "cell_type": "code",
   "execution_count": 46,
   "id": "growing-polls",
   "metadata": {
    "tags": []
   },
   "outputs": [],
   "source": [
    "cv = StratifiedShuffleSplit(\n",
    "    n_splits=n_splits, train_size=train_size, random_state=random_state\n",
    ")"
   ]
  },
  {
   "cell_type": "markdown",
   "id": "e2eb675b-1087-451d-8c1a-0dda1b287c80",
   "metadata": {
    "tags": []
   },
   "source": [
    "# Define Functions to Get XY data"
   ]
  },
  {
   "cell_type": "code",
   "execution_count": 51,
   "id": "e5d76312-67d8-48fe-9787-9c58d2c0fd33",
   "metadata": {},
   "outputs": [],
   "source": [
    "def get_Xy_vector(dataset, feature_set):\n",
    "    # create X, y pair for training\n",
    "    X = []\n",
    "    y = []\n",
    "    engels = []\n",
    "    ilaes = []\n",
    "    subjects = []\n",
    "\n",
    "    for idx, subject in enumerate(dataset[\"subject\"]):\n",
    "        if subject.startswith(\"pt\"):\n",
    "            subject = \"kumc\" + subject.split(\"pt\")[1]\n",
    "        elif subject.isnumeric():\n",
    "            subject = \"rns\" + subject\n",
    "\n",
    "        # get the metadata\n",
    "        soz_chs = dataset[\"soz_chs\"][idx]\n",
    "        ch_names = dataset[\"ch_names\"][idx]\n",
    "        soz_inds = [idx for idx, ch in enumerate(ch_names) if ch in soz_chs]\n",
    "        nsoz_inds = [idx for idx in range(len(ch_names)) if idx not in soz_inds]\n",
    "\n",
    "        # compute quantiles in each\n",
    "        qtiles = np.linspace(0.1, 1.0, 3)\n",
    "\n",
    "        X_buff = []\n",
    "        for feature_name in feature_set:\n",
    "            # get the data\n",
    "            feature_map = dataset[feature_name][idx].copy()\n",
    "\n",
    "            # set threshold\n",
    "            if threshold is not None:\n",
    "                feature_map[feature_map < threshold] = 0.0\n",
    "\n",
    "            # stratify data into two sets of signals\n",
    "            soz_feat = feature_map[soz_inds]\n",
    "            nsoz_feat = feature_map[nsoz_inds]\n",
    "\n",
    "            #             print(soz_chs)\n",
    "            #             print(ch_names)\n",
    "            #             print(soz_feat.shape)\n",
    "            #             print(nsoz_feat.shape)\n",
    "            #             print(feature_map.shape)\n",
    "\n",
    "            # create a time-varying quantile heatmap\n",
    "            soz_quant_map = np.vstack([np.quantile(soz_feat, q=q) for q in qtiles])\n",
    "            nsoz_quant_map = np.vstack([np.quantile(nsoz_feat, q=q) for q in qtiles])\n",
    "            new_data_feat = np.vstack(\n",
    "                (\n",
    "                    np.mean(soz_feat),\n",
    "                    np.std(soz_feat, axis=0),\n",
    "                    #                     soz_quant_map,\n",
    "                    #                     np.median(soz_feat),\n",
    "                    #                     np.median(nsoz_feat),\n",
    "                    np.mean(nsoz_feat),\n",
    "                    np.std(nsoz_feat, axis=0),\n",
    "                    #                     nsoz_quant_map,\n",
    "                    np.mean(soz_feat) - np.mean(nsoz_feat),\n",
    "                )\n",
    "            )\n",
    "            #             new_data_feat = np.mean(new_data_feat, axis=1, keepdims=True)\n",
    "            X_buff.extend(new_data_feat.tolist())\n",
    "\n",
    "        # convert buffer to numpy array for feature vector\n",
    "        X_buff = np.array(X_buff)\n",
    "\n",
    "        # get metadata\n",
    "        outcome = meta_df[meta_df[\"patient_id\"] == subject][\"outcome\"].values[0]\n",
    "        engel = meta_df[meta_df[\"patient_id\"] == subject][\"engel_score\"].values[0]\n",
    "        ilae = meta_df[meta_df[\"patient_id\"] == subject][\"ilae_score\"].values[0]\n",
    "\n",
    "        if outcome == \"NR\":\n",
    "            continue\n",
    "\n",
    "        X.append(X_buff)\n",
    "        y.append(outcome)\n",
    "        engels.append(engel)\n",
    "        ilaes.append(ilae)\n",
    "        subjects.append(subject)\n",
    "\n",
    "    return X, y, subjects"
   ]
  },
  {
   "cell_type": "code",
   "execution_count": 15,
   "id": "fdc3efc2-4532-450f-8578-994ab93ba2b7",
   "metadata": {
    "jupyter": {
     "source_hidden": true
    },
    "tags": []
   },
   "outputs": [],
   "source": [
    "def get_Xy_matrix(dataset, feature_set):\n",
    "    # create X, y pair for training\n",
    "    X = []\n",
    "    y = []\n",
    "    engels = []\n",
    "    ilaes = []\n",
    "    subjects = []\n",
    "\n",
    "    for idx, subject in enumerate(dataset[\"subject\"]):\n",
    "        # get the metadata\n",
    "        soz_chs = dataset[\"soz_chs\"][idx]\n",
    "        ch_names = dataset[\"ch_names\"][idx]\n",
    "        soz_inds = [idx for idx, ch in enumerate(ch_names) if ch in soz_chs]\n",
    "        nsoz_inds = [idx for idx in range(len(ch_names)) if idx not in soz_inds]\n",
    "\n",
    "        # compute quantiles in each\n",
    "        qtiles = np.linspace(0.1, 1.0, 10)\n",
    "\n",
    "        X_buff = []\n",
    "        for feature_name in feature_set:\n",
    "            # get the data\n",
    "            feature_map = dataset[feature_name][idx].copy()\n",
    "\n",
    "            # set threshold\n",
    "            if threshold is not None:\n",
    "                feature_map[feature_map < threshold] = 0.0\n",
    "\n",
    "            # stratify data into two sets of signals\n",
    "            soz_feat = feature_map[soz_inds, :]\n",
    "            nsoz_feat = feature_map[nsoz_inds, :]\n",
    "\n",
    "            # create a time-varying quantile heatmap\n",
    "            soz_quant_map = np.vstack(\n",
    "                [np.quantile(soz_feat, q=q, axis=0) for q in qtiles]\n",
    "            )\n",
    "            nsoz_quant_map = np.vstack(\n",
    "                [np.quantile(nsoz_feat, q=q, axis=0) for q in qtiles]\n",
    "            )\n",
    "            new_data_feat = np.vstack(\n",
    "                (\n",
    "                    np.mean(soz_feat, axis=0),\n",
    "                    #                 np.std(soz_feat, axis=0),\n",
    "                    soz_quant_map,\n",
    "                    np.mean(nsoz_feat, axis=0),\n",
    "                    #                 np.std(nsoz_feat, axis=0),\n",
    "                    nsoz_quant_map,\n",
    "                )\n",
    "            )\n",
    "            new_data_feat = np.mean(new_data_feat, axis=1, keepdims=True)\n",
    "            X_buff.extend(new_data_feat.tolist())\n",
    "\n",
    "        # convert buffer to numpy array for feature vector\n",
    "        X_buff = np.array(X_buff)\n",
    "\n",
    "        # get metadata\n",
    "        outcome = meta_df[meta_df[\"patient_id\"] == subject][\"outcome\"].values[0]\n",
    "        engel = meta_df[meta_df[\"patient_id\"] == subject][\"engel_score\"].values[0]\n",
    "        ilae = meta_df[meta_df[\"patient_id\"] == subject][\"ilae_score\"].values[0]\n",
    "\n",
    "        if outcome == \"NR\":\n",
    "            continue\n",
    "\n",
    "        X.append(X_buff)\n",
    "        y.append(outcome)\n",
    "        engels.append(engel)\n",
    "        ilaes.append(ilae)\n",
    "        subjects.append(subject)\n",
    "\n",
    "    return X, y, subjects"
   ]
  },
  {
   "cell_type": "code",
   "execution_count": 15,
   "id": "02caaee6-8e16-44c2-a0ed-3bfbb7d3343c",
   "metadata": {},
   "outputs": [],
   "source": [
    "def get_Xy_vector(dataset, feature_set):\n",
    "    # create X, y pair for training\n",
    "    X = []\n",
    "    y = []\n",
    "    engels = []\n",
    "    ilaes = []\n",
    "    subjects = []\n",
    "\n",
    "    for idx, subject in enumerate(dataset[\"subject\"]):\n",
    "        if subject.startswith(\"pt\"):\n",
    "            subject = \"kumc\" + subject.split(\"pt\")[1]\n",
    "        elif subject.isnumeric():\n",
    "            subject = \"rns\" + subject\n",
    "\n",
    "        # get the metadata\n",
    "        soz_chs = dataset[\"soz_chs\"][idx]\n",
    "        ch_names = dataset[\"ch_names\"][idx]\n",
    "        soz_inds = [idx for idx, ch in enumerate(ch_names) if ch in soz_chs]\n",
    "        nsoz_inds = [idx for idx in range(len(ch_names)) if idx not in soz_inds]\n",
    "\n",
    "        # compute quantiles in each\n",
    "        qtiles = np.linspace(0.1, 1.0, 3)\n",
    "\n",
    "        X_buff = []\n",
    "        for feature_name in feature_set:\n",
    "            # get the data\n",
    "            feature_map = dataset[feature_name][idx].copy()\n",
    "\n",
    "            # set threshold\n",
    "            if threshold is not None:\n",
    "                feature_map[feature_map < threshold] = 0.0\n",
    "\n",
    "            # stratify data into two sets of signals\n",
    "            soz_feat = feature_map[soz_inds]\n",
    "            nsoz_feat = feature_map[nsoz_inds]\n",
    "\n",
    "            # create a time-varying quantile heatmap\n",
    "            soz_quant_map = np.vstack([np.quantile(soz_feat, q=q) for q in qtiles])\n",
    "            nsoz_quant_map = np.vstack([np.quantile(nsoz_feat, q=q) for q in qtiles])\n",
    "            new_data_feat = np.vstack(\n",
    "                (\n",
    "                    np.mean(soz_feat),\n",
    "                    np.std(soz_feat, axis=0),\n",
    "                    #                     soz_quant_map,\n",
    "                    #                     np.median(soz_feat),\n",
    "                    #                     np.median(nsoz_feat),\n",
    "                    np.mean(nsoz_feat),\n",
    "                    np.std(nsoz_feat, axis=0),\n",
    "                    #                     nsoz_quant_map,\n",
    "                    np.mean(soz_feat) - np.mean(nsoz_feat),\n",
    "                )\n",
    "            )\n",
    "            #             new_data_feat = np.mean(new_data_feat, axis=1, keepdims=True)\n",
    "            X_buff.extend(new_data_feat.tolist())\n",
    "\n",
    "        # convert buffer to numpy array for feature vector\n",
    "        X_buff = np.array(X_buff)\n",
    "\n",
    "        # get metadata\n",
    "        outcome = meta_df[meta_df[\"patient_id\"] == subject][\"outcome\"].values[0]\n",
    "        engel = meta_df[meta_df[\"patient_id\"] == subject][\"engel_score\"].values[0]\n",
    "        ilae = meta_df[meta_df[\"patient_id\"] == subject][\"ilae_score\"].values[0]\n",
    "\n",
    "        if outcome == \"NR\":\n",
    "            continue\n",
    "\n",
    "        X.append(X_buff)\n",
    "        y.append(outcome)\n",
    "        engels.append(engel)\n",
    "        ilaes.append(ilae)\n",
    "        subjects.append(subject)\n",
    "\n",
    "    return X, y, subjects"
   ]
  },
  {
   "cell_type": "markdown",
   "id": "romantic-banks",
   "metadata": {},
   "source": [
    "# Run from here"
   ]
  },
  {
   "cell_type": "code",
   "execution_count": 31,
   "id": "passive-slave",
   "metadata": {},
   "outputs": [
    {
     "name": "stderr",
     "output_type": "stream",
     "text": [
      "<ipython-input-6-4398bbcb7524>:10: DeprecationWarning: elementwise comparison failed; this will raise an error in the future.\n",
      "  soz_inds = [idx for idx, ch in enumerate(ch_names) if ch in soz_chs]\n"
     ]
    },
    {
     "ename": "IndexError",
     "evalue": "list index out of range",
     "output_type": "error",
     "traceback": [
      "\u001b[0;31m---------------------------------------------------------------------------\u001b[0m",
      "\u001b[0;31mIndexError\u001b[0m                                Traceback (most recent call last)",
      "\u001b[0;32m<ipython-input-31-c2bb3eb184e7>\u001b[0m in \u001b[0;36m<module>\u001b[0;34m\u001b[0m\n\u001b[1;32m      2\u001b[0m \u001b[0mfeature_name\u001b[0m \u001b[0;34m=\u001b[0m \u001b[0;34m\"source_infl\"\u001b[0m\u001b[0;34m\u001b[0m\u001b[0;34m\u001b[0m\u001b[0m\n\u001b[1;32m      3\u001b[0m \u001b[0;34m\u001b[0m\u001b[0m\n\u001b[0;32m----> 4\u001b[0;31m \u001b[0mplot_subject_feature_map\u001b[0m\u001b[0;34m(\u001b[0m\u001b[0mdataset\u001b[0m\u001b[0;34m,\u001b[0m \u001b[0mdesired_subject\u001b[0m\u001b[0;34m,\u001b[0m \u001b[0mfeature_name\u001b[0m\u001b[0;34m)\u001b[0m\u001b[0;34m\u001b[0m\u001b[0;34m\u001b[0m\u001b[0m\n\u001b[0m",
      "\u001b[0;32m<ipython-input-6-4398bbcb7524>\u001b[0m in \u001b[0;36mplot_subject_feature_map\u001b[0;34m(dataset, desired_subject, feature_name)\u001b[0m\n\u001b[1;32m     12\u001b[0m \u001b[0;34m\u001b[0m\u001b[0m\n\u001b[1;32m     13\u001b[0m         \u001b[0;31m# get the data\u001b[0m\u001b[0;34m\u001b[0m\u001b[0;34m\u001b[0m\u001b[0;34m\u001b[0m\u001b[0m\n\u001b[0;32m---> 14\u001b[0;31m         \u001b[0mfeature_map\u001b[0m \u001b[0;34m=\u001b[0m \u001b[0mdataset\u001b[0m\u001b[0;34m[\u001b[0m\u001b[0mfeature_name\u001b[0m\u001b[0;34m]\u001b[0m\u001b[0;34m[\u001b[0m\u001b[0midx\u001b[0m\u001b[0;34m]\u001b[0m\u001b[0;34m\u001b[0m\u001b[0;34m\u001b[0m\u001b[0m\n\u001b[0m\u001b[1;32m     15\u001b[0m \u001b[0;34m\u001b[0m\u001b[0m\n\u001b[1;32m     16\u001b[0m         \u001b[0;31m# stratify data into two sets of signals\u001b[0m\u001b[0;34m\u001b[0m\u001b[0;34m\u001b[0m\u001b[0;34m\u001b[0m\u001b[0m\n",
      "\u001b[0;31mIndexError\u001b[0m: list index out of range"
     ]
    }
   ],
   "source": [
    "desired_subject = \"la02\"\n",
    "feature_name = \"source_infl\"\n",
    "\n",
    "plot_subject_feature_map(dataset, desired_subject, feature_name)"
   ]
  },
  {
   "cell_type": "code",
   "execution_count": 32,
   "id": "9712261e-88c4-433e-a391-7c2c92ca5992",
   "metadata": {},
   "outputs": [
    {
     "ename": "NameError",
     "evalue": "name 'get_Xy_matrix' is not defined",
     "output_type": "error",
     "traceback": [
      "\u001b[0;31m---------------------------------------------------------------------------\u001b[0m",
      "\u001b[0;31mNameError\u001b[0m                                 Traceback (most recent call last)",
      "\u001b[0;32m<ipython-input-32-6c7de94a4a88>\u001b[0m in \u001b[0;36m<module>\u001b[0;34m\u001b[0m\n\u001b[0;32m----> 1\u001b[0;31m \u001b[0mX\u001b[0m\u001b[0;34m,\u001b[0m \u001b[0my\u001b[0m\u001b[0;34m,\u001b[0m \u001b[0msubject\u001b[0m \u001b[0;34m=\u001b[0m \u001b[0mget_Xy_matrix\u001b[0m\u001b[0;34m(\u001b[0m\u001b[0mdataset\u001b[0m\u001b[0;34m,\u001b[0m \u001b[0mfeature_name\u001b[0m\u001b[0;34m)\u001b[0m\u001b[0;34m\u001b[0m\u001b[0;34m\u001b[0m\u001b[0m\n\u001b[0m",
      "\u001b[0;31mNameError\u001b[0m: name 'get_Xy_matrix' is not defined"
     ]
    }
   ],
   "source": [
    "X, y, subject = get_Xy_matrix(dataset, feature_name)"
   ]
  },
  {
   "cell_type": "markdown",
   "id": "069a6ca3-12b9-4eda-b9a4-40b6d4ee56c6",
   "metadata": {},
   "source": [
    "## Run for averaged A matrices"
   ]
  },
  {
   "cell_type": "code",
   "execution_count": null,
   "id": "3bf987bc-b75d-474e-8730-b2a4f09dcc99",
   "metadata": {},
   "outputs": [],
   "source": [
    "feature_name = [\"source_infl\"]"
   ]
  },
  {
   "cell_type": "code",
   "execution_count": 30,
   "id": "71bde0c4-78bd-47c2-aeff-00be741df3c8",
   "metadata": {},
   "outputs": [
    {
     "ename": "NameError",
     "evalue": "name 'feature_name' is not defined",
     "output_type": "error",
     "traceback": [
      "\u001b[0;31m---------------------------------------------------------------------------\u001b[0m",
      "\u001b[0;31mNameError\u001b[0m                                 Traceback (most recent call last)",
      "\u001b[0;32m<ipython-input-30-54e387c1c372>\u001b[0m in \u001b[0;36m<module>\u001b[0;34m\u001b[0m\n\u001b[0;32m----> 1\u001b[0;31m \u001b[0mX\u001b[0m\u001b[0;34m,\u001b[0m \u001b[0my\u001b[0m\u001b[0;34m,\u001b[0m \u001b[0msubject\u001b[0m \u001b[0;34m=\u001b[0m \u001b[0mget_Xy_vector\u001b[0m\u001b[0;34m(\u001b[0m\u001b[0mdataset\u001b[0m\u001b[0;34m,\u001b[0m \u001b[0mfeature_name\u001b[0m\u001b[0;34m)\u001b[0m\u001b[0;34m\u001b[0m\u001b[0;34m\u001b[0m\u001b[0m\n\u001b[0m",
      "\u001b[0;31mNameError\u001b[0m: name 'feature_name' is not defined"
     ]
    }
   ],
   "source": [
    "X, y, subject = get_Xy_vector(dataset, feature_name)"
   ]
  },
  {
   "cell_type": "code",
   "execution_count": 91,
   "id": "compound-citizen",
   "metadata": {},
   "outputs": [
    {
     "name": "stdout",
     "output_type": "stream",
     "text": [
      "(22, 1)\n",
      "(76, 22)\n",
      "(76,)\n",
      "[0. 0. 0. 0. 1. 0. 0. 0. 0. 0. 1. 1. 1. 1. 1. 0. 0. 0. 0. 0. 0. 1. 1. 0.\n",
      " 0. 1. 1. 0. 1. 0. 0. 0. 0. 1. 0. 0. 0. 0. 1. 0. 0. 1. 0. 1. 0. 0. 1. 1.\n",
      " 1. 1. 0. 1. 0. 1. 1. 1. 0. 1. 1. 1. 1. 0. 0. 0. 0. 0. 1. 1. 0. 0. 1. 1.\n",
      " 1. 0. 0. 1.]\n"
     ]
    }
   ],
   "source": [
    "X = np.array(X).squeeze()\n",
    "y = np.array(y).squeeze()\n",
    "subjects = np.array(subjects)\n",
    "y = enc.fit_transform(y[:, np.newaxis]).squeeze()\n",
    "\n",
    "print(new_data_feat.shape)\n",
    "print(X.shape)\n",
    "print(y.shape)\n",
    "print(y)"
   ]
  },
  {
   "cell_type": "markdown",
   "id": "ancient-homeless",
   "metadata": {},
   "source": [
    "# Run Classification Validation Pipeline"
   ]
  },
  {
   "cell_type": "code",
   "execution_count": 65,
   "id": "covered-starter",
   "metadata": {},
   "outputs": [],
   "source": [
    "n_features = X.shape[1]\n",
    "model_params = {\n",
    "    #     \"projection_matrix\": \"RerF\",\n",
    "    \"n_estimators\": 500,\n",
    "    \"max_features\": n_features * 2,\n",
    "    \"n_jobs\": -1,\n",
    "    \"random_state\": random_state,\n",
    "}\n",
    "\n",
    "\n",
    "# model_params[\"projection_matrix\"] = \"S-RerF\"\n",
    "# model_params[\"image_height\"] = 24\n",
    "# model_params[\"image_width\"] = 30\n",
    "\n",
    "\n",
    "# clf = rerfClassifier(**model_params)\n",
    "clf = ObliqueForestClassifier(**model_params)\n",
    "clf = RandomForestClassifier(**model_params)"
   ]
  },
  {
   "cell_type": "code",
   "execution_count": 66,
   "id": "smaller-instrumentation",
   "metadata": {},
   "outputs": [],
   "source": [
    "# perform CV using Sklearn\n",
    "scoring_funcs = {\n",
    "    \"roc_auc\": roc_auc_score,\n",
    "    \"accuracy\": accuracy_score,\n",
    "    \"balanced_accuracy\": balanced_accuracy_score,\n",
    "    \"average_precision\": average_precision_score,\n",
    "    \"precision\": \"\",\n",
    "    \"neg_brier_score\": brier_score_loss,\n",
    "    \"recall\": \"\",\n",
    "    \"f1\": \"\",\n",
    "}\n",
    "\n",
    "# run cross-validation\n",
    "scores = cross_validate(\n",
    "    clf,\n",
    "    X,\n",
    "    y,\n",
    "    #     groups=subject_groups,\n",
    "    #     cv=zip(train_index, test_index),\n",
    "    cv=cv,\n",
    "    scoring=list(scoring_funcs.keys()),\n",
    "    return_estimator=True,\n",
    "    return_train_score=True,\n",
    "    n_jobs=1,\n",
    ")"
   ]
  },
  {
   "cell_type": "code",
   "execution_count": 67,
   "id": "9371d36c-b05e-44b5-ba06-6e0028cbe7c1",
   "metadata": {},
   "outputs": [
    {
     "name": "stdout",
     "output_type": "stream",
     "text": [
      "Using estimator  ObliqueForestClassifier(max_features=44, n_estimators=500, n_jobs=-1,\n",
      "                        random_state=12345)\n"
     ]
    }
   ],
   "source": [
    "# get the estimators\n",
    "estimators = scores.pop(\"estimator\")\n",
    "\n",
    "print(\"Using estimator \", estimators[0])\n",
    "\n",
    "# initialize keys to list\n",
    "for key in [\n",
    "    \"test_fraction_pos\",\n",
    "    \"test_mean_pred_value\",\n",
    "    \"test_fpr\",\n",
    "    \"test_tpr\",\n",
    "    \"test_fnr\",\n",
    "    \"test_tnr\",\n",
    "    \"test_thresholds\",\n",
    "    \"train_subjects\",\n",
    "    \"test_subjects\",\n",
    "]:\n",
    "    scores[key] = []\n",
    "\n",
    "for idx, (train_inds, test_inds) in enumerate(cv.split(X, y)):\n",
    "    estimator = estimators[idx]\n",
    "    # evaluate on the test set\n",
    "    y_test = y[test_inds]\n",
    "    X_test = X[test_inds, :]\n",
    "    y_pred_prob = estimator.predict_proba(X_test)[:, 1]\n",
    "\n",
    "    # compute calibration curve\n",
    "    fraction_of_positives, mean_predicted_value = calibration_curve(\n",
    "        y_test, y_pred_prob, n_bins=10, strategy=\"quantile\"\n",
    "    )\n",
    "    scores[\"train_subjects\"].append(subjects[train_inds])\n",
    "    scores[\"test_subjects\"].append(subjects[test_inds])\n",
    "    scores[\"test_fraction_pos\"].append(fraction_of_positives)\n",
    "    scores[\"test_mean_pred_value\"].append(mean_predicted_value)\n",
    "\n",
    "    # store ROC curve metrics on the held-out test set\n",
    "    fpr, tpr, thresholds = roc_curve(y_test, y_pred_prob, pos_label=1)\n",
    "    fnr, tnr, neg_thresholds = roc_curve(y_test, y_pred_prob, pos_label=0)\n",
    "    scores[\"test_fpr\"].append(fpr)\n",
    "    scores[\"test_tpr\"].append(tpr)\n",
    "    scores[\"test_fnr\"].append(fnr)\n",
    "    scores[\"test_tnr\"].append(tnr)\n",
    "    scores[\"test_thresholds\"].append(thresholds)"
   ]
  },
  {
   "cell_type": "code",
   "execution_count": 70,
   "id": "alleged-inspector",
   "metadata": {},
   "outputs": [],
   "source": [
    "fname = deriv_root / f\"cv{n_splits}_exp_{feature_name}.pkl\""
   ]
  },
  {
   "cell_type": "code",
   "execution_count": 71,
   "id": "tough-mambo",
   "metadata": {},
   "outputs": [],
   "source": [
    "with open(fname, \"wb\") as file_name:\n",
    "    pickle.dump(scores, file_name)\n",
    "#     json.dump(scores, file_name)"
   ]
  },
  {
   "cell_type": "markdown",
   "id": "d94c5e4d-1aaf-44d0-a926-d3dbf48d9c68",
   "metadata": {},
   "source": [
    "# Run Classification Using HFO Rates"
   ]
  },
  {
   "cell_type": "code",
   "execution_count": 48,
   "id": "34c49855-214d-47e2-a77e-097c6c44d165",
   "metadata": {},
   "outputs": [],
   "source": [
    "feature_set = [\"hfo_rates\"]"
   ]
  },
  {
   "cell_type": "code",
   "execution_count": 49,
   "id": "c01bb426-5f5c-4423-b827-3e2ad5e5fd77",
   "metadata": {},
   "outputs": [],
   "source": [
    "# optional threshold\n",
    "threshold = None"
   ]
  },
  {
   "cell_type": "code",
   "execution_count": 52,
   "id": "e0825811-3b9b-4a76-a104-6c1b8a16dd4a",
   "metadata": {},
   "outputs": [],
   "source": [
    "X, y, subjects = get_Xy_vector(dataset, feature_set)"
   ]
  },
  {
   "cell_type": "code",
   "execution_count": 53,
   "id": "b7a52e05-b2bd-48f2-85f4-5e93376ea503",
   "metadata": {},
   "outputs": [
    {
     "name": "stdout",
     "output_type": "stream",
     "text": [
      "(65, 5)\n",
      "(65,)\n",
      "[1. 0. 0. 0. 0. 0. 0. 0. 0. 1. 0. 0. 1. 0. 1. 0. 0. 1. 1. 1. 1. 0. 1. 0.\n",
      " 1. 1. 1. 0. 1. 1. 1. 0. 0. 0. 1. 0. 0. 1. 0. 1. 1. 0. 1. 0. 0. 0. 1. 0.\n",
      " 0. 0. 0. 1. 1. 1. 1. 0. 0. 0. 0. 0. 1. 1. 0. 0. 1.]\n"
     ]
    }
   ],
   "source": [
    "X = np.array(X).squeeze()\n",
    "y = np.array(y).squeeze()\n",
    "subjects = np.array(subjects)\n",
    "y = enc.fit_transform(y[:, np.newaxis]).squeeze()\n",
    "print(X.shape)\n",
    "print(y.shape)\n",
    "print(y)"
   ]
  },
  {
   "cell_type": "code",
   "execution_count": 54,
   "id": "31e44eb1-0cda-4a8d-99a5-c459f3f690f4",
   "metadata": {
    "tags": []
   },
   "outputs": [
    {
     "name": "stdout",
     "output_type": "stream",
     "text": [
      "['nl12' 'NIH3' 'nl08' 'NIH9' 'la13' 'PY18N002' 'rns006' 'nl19' 'kumc13'\n",
      " 'la11' 'nl07' 'kumc4' 'nl20' 'la09' 'kumc1' 'rns013' 'la22' 'kumc3'\n",
      " 'NIH8' 'NIH4' 'upmc6' 'rns009' 'PY18N015' 'NIH10' 'kumc12' 'la08' 'nl01'\n",
      " 'la15' 'nl16' 'upmc2' 'la05' 'la06' 'la02' 'kumc11' 'nl04' 'nl15'\n",
      " 'kumc10' 'rns003' 'la23' 'rns004' 'la10' 'la03' 'la24' 'kumc8' 'NIH7']\n",
      "['nl07' 'la21' 'PY18N013' 'rns002' 'PY19N023' 'kumc10' 'nl04' 'rns013'\n",
      " 'NIH3' 'upmc1' 'la10' 'rns015' 'nl16' 'la03' 'NIH10' 'rns006' 'rns009'\n",
      " 'nl19' 'upmc5' 'la24' 'NIH8' 'la16' 'upmc3' 'NIH7' 'NIH11' 'kumc4' 'nl08'\n",
      " 'kumc3' 'nl18' 'la08' 'la06' 'NIH4' 'nl15' 'la22' 'la11' 'rns003' 'NIH5'\n",
      " 'rns011' 'kumc13' 'PY18N002' 'la15' 'kumc8' 'nl14' 'NIH2' 'la23']\n",
      "['la03' 'PY19N015' 'nl19' 'la06' 'nl16' 'nl01' 'la24' 'nl13' 'upmc1'\n",
      " 'la16' 'la02' 'la21' 'la11' 'rns002' 'kumc1' 'kumc10' 'rns013' 'kumc12'\n",
      " 'la08' 'upmc2' 'kumc11' 'NIH10' 'nl15' 'upmc5' 'rns011' 'NIH5' 'NIH11'\n",
      " 'PY18N002' 'la23' 'nl05' 'NIH4' 'rns003' 'la22' 'la04' 'nl08' 'la09'\n",
      " 'NIH2' 'rns006' 'rns009' 'NIH8' 'PY18N015' 'nl20' 'nl12' 'PY19N023'\n",
      " 'la05']\n",
      "['kumc1' 'la23' 'nl01' 'la13' 'NIH10' 'la16' 'kumc6' 'upmc1' 'la11'\n",
      " 'rns003' 'rns006' 'la21' 'nl15' 'NIH8' 'nl04' 'rns002' 'nl14' 'PY18N013'\n",
      " 'kumc11' 'nl12' 'upmc2' 'rns009' 'rns013' 'la04' 'nl08' 'kumc13' 'la06'\n",
      " 'NIH11' 'upmc5' 'upmc3' 'rns011' 'NIH7' 'la05' 'la02' 'PY18N015' 'la09'\n",
      " 'PY18N002' 'la15' 'la22' 'NIH2' 'NIH4' 'kumc3' 'kumc4' 'nl16' 'nl20']\n",
      "['nl14' 'kumc11' 'kumc3' 'NIH10' 'NIH7' 'nl16' 'rns002' 'nl15' 'kumc1'\n",
      " 'nl01' 'upmc5' 'la10' 'rns006' 'upmc6' 'NIH4' 'la11' 'nl07' 'nl08' 'nl19'\n",
      " 'PY19N023' 'la24' 'kumc10' 'upmc2' 'rns004' 'rns015' 'la08' 'nl18'\n",
      " 'rns009' 'la09' 'rns013' 'rns003' 'kumc8' 'la21' 'PY18N002' 'kumc6'\n",
      " 'la04' 'la22' 'la02' 'PY18N015' 'la06' 'la16' 'NIH2' 'NIH9' 'nl04' 'nl13']\n",
      "['la11' 'la23' 'upmc6' 'la05' 'nl07' 'upmc2' 'kumc10' 'upmc3' 'NIH11'\n",
      " 'nl13' 'kumc3' 'la06' 'rns009' 'PY18N013' 'PY19N023' 'kumc8' 'kumc1'\n",
      " 'la22' 'nl05' 'la03' 'nl01' 'nl15' 'rns004' 'NIH7' 'nl12' 'nl08'\n",
      " 'PY19N015' 'upmc5' 'la09' 'NIH9' 'PY18N002' 'la08' 'la16' 'rns006'\n",
      " 'kumc6' 'NIH2' 'kumc13' 'rns015' 'upmc1' 'rns003' 'la10' 'nl16' 'rns013'\n",
      " 'rns002' 'NIH4']\n",
      "['la08' 'kumc3' 'kumc12' 'la24' 'upmc2' 'PY18N013' 'NIH9' 'la16' 'la15'\n",
      " 'la22' 'NIH4' 'kumc1' 'NIH8' 'nl19' 'rns006' 'rns004' 'kumc4' 'NIH3'\n",
      " 'kumc11' 'kumc10' 'NIH2' 'la04' 'rns003' 'NIH10' 'PY18N015' 'nl20' 'la21'\n",
      " 'kumc8' 'la10' 'la03' 'upmc1' 'nl12' 'nl13' 'rns011' 'kumc13' 'upmc6'\n",
      " 'upmc3' 'nl01' 'la09' 'nl18' 'PY18N002' 'la06' 'la13' 'rns013' 'nl04']\n",
      "['nl19' 'upmc5' 'nl12' 'kumc6' 'nl13' 'nl16' 'upmc2' 'PY18N013' 'nl14'\n",
      " 'la15' 'rns006' 'nl20' 'rns011' 'nl01' 'nl05' 'rns004' 'kumc4' 'la06'\n",
      " 'la16' 'nl15' 'nl07' 'NIH8' 'NIH4' 'kumc8' 'NIH7' 'kumc13' 'la04'\n",
      " 'rns015' 'kumc3' 'PY18N015' 'upmc1' 'NIH3' 'NIH9' 'la03' 'rns003' 'la09'\n",
      " 'la11' 'nl18' 'upmc6' 'la13' 'rns002' 'NIH10' 'PY19N015' 'la08'\n",
      " 'PY19N023']\n",
      "['kumc12' 'nl04' 'nl19' 'la13' 'NIH7' 'NIH5' 'kumc13' 'NIH4' 'la05'\n",
      " 'rns011' 'la15' 'kumc8' 'nl20' 'upmc1' 'la09' 'PY18N013' 'nl15' 'kumc10'\n",
      " 'rns013' 'la23' 'rns015' 'la03' 'nl05' 'la06' 'kumc11' 'nl07' 'NIH2'\n",
      " 'upmc5' 'la04' 'rns006' 'rns009' 'la16' 'PY18N002' 'NIH11' 'upmc3' 'nl14'\n",
      " 'nl16' 'la02' 'kumc6' 'kumc4' 'la22' 'nl12' 'NIH3' 'upmc6' 'rns003']\n",
      "['kumc4' 'la16' 'la08' 'nl04' 'PY18N002' 'la09' 'NIH4' 'nl14' 'PY19N015'\n",
      " 'la21' 'nl20' 'nl13' 'rns004' 'kumc13' 'NIH2' 'kumc6' 'la03' 'la11'\n",
      " 'la22' 'la23' 'kumc11' 'rns011' 'NIH10' 'la02' 'rns013' 'kumc3' 'NIH5'\n",
      " 'nl19' 'upmc1' 'NIH11' 'upmc6' 'la24' 'rns006' 'la06' 'la13' 'rns003'\n",
      " 'upmc3' 'kumc8' 'upmc5' 'la04' 'rns002' 'nl07' 'NIH3' 'nl15' 'nl18']\n"
     ]
    }
   ],
   "source": [
    "for train_inds, test_inds in cv.split(X, y):\n",
    "    print(subjects[train_inds])"
   ]
  },
  {
   "cell_type": "markdown",
   "id": "939b05df-6a6b-46c9-8c32-1c810d23e658",
   "metadata": {},
   "source": [
    "## Define Classification Model and Run cross_validate"
   ]
  },
  {
   "cell_type": "code",
   "execution_count": 55,
   "id": "4601fcdf-99bc-411f-8297-10b106cb029e",
   "metadata": {},
   "outputs": [],
   "source": [
    "n_features = X.shape[1]\n",
    "model_params = {\n",
    "    #     \"projection_matrix\": \"RerF\",\n",
    "    \"n_estimators\": 2000,\n",
    "    \"max_features\": 2 * n_features,  # * 2,\n",
    "    \"n_jobs\": -1,\n",
    "    \"random_state\": random_state,\n",
    "}\n",
    "# clf = rerfClassifier(**model_params)\n",
    "clf_name = \"sporf\"\n",
    "clf = ObliqueForestClassifier(**model_params)\n",
    "\n",
    "# clf_name = 'rf'\n",
    "# clf = RandomForestClassifier(**model_params)\n",
    "\n",
    "# clf_name = 'lr'\n",
    "# clf = LogisticRegression(penalty=\"none\", fit_intercept=False)"
   ]
  },
  {
   "cell_type": "code",
   "execution_count": 56,
   "id": "83df80d2-31a9-4cbc-8c25-9b6a30bc5854",
   "metadata": {
    "tags": []
   },
   "outputs": [],
   "source": [
    "# perform CV using Sklearn\n",
    "scoring_funcs = {\n",
    "    \"roc_auc\": roc_auc_score,\n",
    "    \"accuracy\": accuracy_score,\n",
    "    \"balanced_accuracy\": balanced_accuracy_score,\n",
    "    \"average_precision\": average_precision_score,\n",
    "    \"precision\": \"\",\n",
    "    \"neg_brier_score\": brier_score_loss,\n",
    "    \"recall\": \"\",\n",
    "    \"f1\": \"\",\n",
    "}\n",
    "\n",
    "# run cross-validation\n",
    "scores = cross_validate(\n",
    "    clf,\n",
    "    X,\n",
    "    y,\n",
    "    #     groups=subject_groups,\n",
    "    cv=cv,\n",
    "    #     cv=zip(train_index, test_index),\n",
    "    scoring=list(scoring_funcs.keys()),\n",
    "    return_estimator=True,\n",
    "    return_train_score=True,\n",
    "    n_jobs=1,\n",
    ")\n",
    "\n",
    "# get the estimators\n",
    "estimators = scores.pop(\"estimator\")"
   ]
  },
  {
   "cell_type": "code",
   "execution_count": 57,
   "id": "c11a3804-dd31-4f47-93ef-ea69c8d47104",
   "metadata": {},
   "outputs": [
    {
     "name": "stdout",
     "output_type": "stream",
     "text": [
      "Using estimator  ObliqueForestClassifier(max_features=10, n_estimators=2000, n_jobs=-1,\n",
      "                        random_state=12345)\n"
     ]
    }
   ],
   "source": [
    "print(\"Using estimator \", estimators[0])\n",
    "\n",
    "# initialize keys to list\n",
    "for key in [\n",
    "    \"test_fraction_pos\",\n",
    "    \"test_mean_pred_value\",\n",
    "    \"test_fpr\",\n",
    "    \"test_tpr\",\n",
    "    \"test_fnr\",\n",
    "    \"test_tnr\",\n",
    "    \"test_thresholds\",\n",
    "    \"train_fraction_pos\",\n",
    "    \"train_mean_pred_value\",\n",
    "    \"train_y_pred_proba\",\n",
    "    \"train_fpr\",\n",
    "    \"train_tpr\",\n",
    "    \"train_fnr\",\n",
    "    \"train_tnr\",\n",
    "    \"train_thresholds\",\n",
    "    \"train_subjects\",\n",
    "    \"test_subjects\",\n",
    "    \"test_y_pred_proba\",\n",
    "    \"test_importances\",\n",
    "    \"test_specificity\",\n",
    "]:\n",
    "    scores[key] = []\n",
    "\n",
    "for idx, (train_inds, test_inds) in enumerate(cv.split(X, y)):\n",
    "    estimator = estimators[idx]\n",
    "\n",
    "    # append subjects\n",
    "    scores[\"train_subjects\"].append(subjects[train_inds])\n",
    "    scores[\"test_subjects\"].append(subjects[test_inds])\n",
    "\n",
    "    # evaluate on the test set\n",
    "    y_train = y[train_inds]\n",
    "    X_train = X[train_inds, :]\n",
    "    y_pred_prob = estimator.predict_proba(X_train)[:, 1]\n",
    "\n",
    "    # compute calibration curve\n",
    "    fraction_of_positives, mean_predicted_value = calibration_curve(\n",
    "        y_train, y_pred_prob, n_bins=10, strategy=\"quantile\"\n",
    "    )\n",
    "\n",
    "    # append training data\n",
    "    scores[\"train_y_pred_proba\"].append(y_pred_prob)\n",
    "    scores[\"train_fraction_pos\"].append(fraction_of_positives)\n",
    "    scores[\"train_mean_pred_value\"].append(mean_predicted_value)\n",
    "\n",
    "    # store ROC curve metrics on the held-out test set\n",
    "    fpr, tpr, thresholds = roc_curve(y_train, y_pred_prob, pos_label=1)\n",
    "    fnr, tnr, neg_thresholds = roc_curve(y_train, y_pred_prob, pos_label=0)\n",
    "    scores[\"train_fpr\"].append(fpr)\n",
    "    scores[\"train_tpr\"].append(tpr)\n",
    "    scores[\"train_fnr\"].append(fnr)\n",
    "    scores[\"train_tnr\"].append(tnr)\n",
    "    scores[\"train_thresholds\"].append(thresholds)\n",
    "\n",
    "    # evaluate on the test set\n",
    "    y_test = y[test_inds]\n",
    "    X_test = X[test_inds, :]\n",
    "    y_pred_prob = estimator.predict_proba(X_test)[:, 1]\n",
    "\n",
    "    # compute calibration curve\n",
    "    fraction_of_positives, mean_predicted_value = calibration_curve(\n",
    "        y_test, y_pred_prob, n_bins=10, strategy=\"quantile\"\n",
    "    )\n",
    "\n",
    "    # append testing data\n",
    "    scores[\"test_y_pred_proba\"].append(y_pred_prob)\n",
    "    scores[\"test_fraction_pos\"].append(fraction_of_positives)\n",
    "    scores[\"test_mean_pred_value\"].append(mean_predicted_value)\n",
    "\n",
    "    # store ROC curve metrics on the held-out test set\n",
    "    fpr, tpr, thresholds = roc_curve(y_test, y_pred_prob, pos_label=1)\n",
    "    fnr, tnr, neg_thresholds = roc_curve(y_test, y_pred_prob, pos_label=0)\n",
    "    scores[\"test_fpr\"].append(fpr)\n",
    "    scores[\"test_tpr\"].append(tpr)\n",
    "    scores[\"test_fnr\"].append(fnr)\n",
    "    scores[\"test_tnr\"].append(tnr)\n",
    "    scores[\"test_thresholds\"].append(thresholds)\n",
    "\n",
    "    tn, fp, fn, tp = confusion_matrix(\n",
    "        y_test.astype(int), (y_pred_prob > 0.5).astype(int)\n",
    "    ).ravel()\n",
    "    scores[\"test_specificity\"].append(tn / (tn + fp))\n",
    "\n",
    "    # get the permutation importances\n",
    "    r = permutation_importance(\n",
    "        estimator, X_test, y_test, n_repeats=5, random_state=random_state, n_jobs=-1\n",
    "    )\n",
    "    scores[\"test_importances\"].append(r.importances)"
   ]
  },
  {
   "cell_type": "code",
   "execution_count": 77,
   "id": "4d02e450-3e30-4ed8-b0f4-8422954ed476",
   "metadata": {},
   "outputs": [
    {
     "name": "stdout",
     "output_type": "stream",
     "text": [
      "/Users/adam2392/OneDrive - Johns Hopkins/epilepsy_interictal/derivatives/cv10_sporf_mtry10_exp_hforates_meandiff.pkl\n"
     ]
    }
   ],
   "source": [
    "fname = (\n",
    "    deriv_root\n",
    "    / f\"cv{n_splits}_{clf_name}_mtry{model_params['max_features']}_exp_hforates_meandiff.pkl\"\n",
    ")\n",
    "print(fname)"
   ]
  },
  {
   "cell_type": "code",
   "execution_count": 78,
   "id": "9daecade-82bd-410d-b2cf-138a6fb89966",
   "metadata": {},
   "outputs": [],
   "source": [
    "with open(fname.with_suffix(\".json\"), \"w\") as fp:\n",
    "    json.dump(scores, fp, cls=NumpyEncoder)"
   ]
  },
  {
   "cell_type": "markdown",
   "id": "3ca19b52-bfa3-473f-ac96-faa48b18fc0d",
   "metadata": {
    "tags": []
   },
   "source": [
    "## Make Plots of the Data\n",
    "\n",
    "- Box plots probability values of success/failures\n",
    "- ^ for engel, ilae, maybe clinical complexity\n",
    "- ^ for other stuff if available"
   ]
  },
  {
   "cell_type": "code",
   "execution_count": 59,
   "id": "91f2651b-49e4-42d0-ac36-485b0722dbc1",
   "metadata": {},
   "outputs": [],
   "source": [
    "which_set = \"test\"\n",
    "\n",
    "tprs = []\n",
    "aucs = scores[f\"{which_set}_roc_auc\"]\n",
    "mean_fpr = np.linspace(0, 1, 100)\n",
    "\n",
    "for idx in range(n_splits):\n",
    "    fpr = scores[f\"{which_set}_fpr\"][idx]\n",
    "    tpr = scores[f\"{which_set}_tpr\"][idx]\n",
    "\n",
    "    # interpolate the tpr\n",
    "    interp_tpr = np.interp(mean_fpr, fpr, tpr)\n",
    "    interp_tpr[0] = 0.0\n",
    "    tprs.append(interp_tpr)\n",
    "\n",
    "mean_tpr = np.mean(tprs, axis=0)\n",
    "mean_tpr[-1] = 1.0\n",
    "mean_auc = auc(mean_fpr, mean_tpr)\n",
    "mean_auc = np.mean(aucs)\n",
    "std_auc = np.std(aucs)\n",
    "\n",
    "std_tpr = np.std(tprs, axis=0)\n",
    "tprs_upper = np.minimum(mean_tpr + std_tpr, 1)\n",
    "tprs_lower = np.maximum(mean_tpr - std_tpr, 0)"
   ]
  },
  {
   "cell_type": "code",
   "execution_count": 60,
   "id": "1f34c450-2fe5-428d-874f-102e18ac1e37",
   "metadata": {},
   "outputs": [
    {
     "name": "stdout",
     "output_type": "stream",
     "text": [
      "0.7090909090909092 0.09144622462833354\n"
     ]
    }
   ],
   "source": [
    "print(np.mean(aucs), np.std(aucs))"
   ]
  },
  {
   "cell_type": "code",
   "execution_count": 61,
   "id": "28271e9d-d5e8-4186-b8ec-9673314e0066",
   "metadata": {},
   "outputs": [
    {
     "name": "stdout",
     "output_type": "stream",
     "text": [
      "test_balanced_accuracy 0.641919191919192 +/- 0.10245058733168733\n"
     ]
    }
   ],
   "source": [
    "metric = \"test_balanced_accuracy\"\n",
    "print(metric, np.mean(scores[metric]), \"+/-\", np.std(scores[metric]))"
   ]
  },
  {
   "cell_type": "code",
   "execution_count": 62,
   "id": "a5dfb67a-601e-4cb1-8139-99c65323ca5f",
   "metadata": {},
   "outputs": [
    {
     "name": "stdout",
     "output_type": "stream",
     "text": [
      "test_average_precision 0.7124819642002305 +/- 0.08405379562723767\n"
     ]
    }
   ],
   "source": [
    "metric = \"test_average_precision\"\n",
    "print(metric, np.mean(scores[metric]), \"+/-\", np.std(scores[metric]))"
   ]
  },
  {
   "cell_type": "code",
   "execution_count": 63,
   "id": "21b1e397-de7c-451b-bed3-b068c5a52558",
   "metadata": {},
   "outputs": [
    {
     "name": "stdout",
     "output_type": "stream",
     "text": [
      "test_recall 0.5111111111111111 +/- 0.12372809695177826\n"
     ]
    }
   ],
   "source": [
    "metric = \"test_recall\"\n",
    "print(metric, np.mean(scores[metric]), \"+/-\", np.std(scores[metric]))"
   ]
  },
  {
   "cell_type": "code",
   "execution_count": 64,
   "id": "9ea19fc5-4098-4661-88e5-1b0bff37eaaa",
   "metadata": {},
   "outputs": [
    {
     "name": "stdout",
     "output_type": "stream",
     "text": [
      "test_specificity 0.7727272727272728 +/- 0.19177293736117262\n"
     ]
    }
   ],
   "source": [
    "metric = \"test_specificity\"\n",
    "print(metric, np.mean(scores[metric]), \"+/-\", np.std(scores[metric]))"
   ]
  },
  {
   "cell_type": "code",
   "execution_count": 65,
   "id": "4184fb0c-6d7c-40f7-a06c-99763e603215",
   "metadata": {},
   "outputs": [
    {
     "name": "stdout",
     "output_type": "stream",
     "text": [
      "test_f1 0.5712314878104352 +/- 0.1106184326105273\n"
     ]
    }
   ],
   "source": [
    "metric = \"test_f1\"\n",
    "print(metric, np.mean(scores[metric]), \"+/-\", np.std(scores[metric]))"
   ]
  },
  {
   "cell_type": "code",
   "execution_count": 66,
   "id": "5225573b-208d-479c-8d97-a3aa112607d7",
   "metadata": {},
   "outputs": [
    {
     "data": {
      "text/html": [
       "<div>\n",
       "<style scoped>\n",
       "    .dataframe tbody tr th:only-of-type {\n",
       "        vertical-align: middle;\n",
       "    }\n",
       "\n",
       "    .dataframe tbody tr th {\n",
       "        vertical-align: top;\n",
       "    }\n",
       "\n",
       "    .dataframe thead th {\n",
       "        text-align: right;\n",
       "    }\n",
       "</style>\n",
       "<table border=\"1\" class=\"dataframe\">\n",
       "  <thead>\n",
       "    <tr style=\"text-align: right;\">\n",
       "      <th></th>\n",
       "      <th>fit_time</th>\n",
       "      <th>score_time</th>\n",
       "      <th>test_roc_auc</th>\n",
       "      <th>test_accuracy</th>\n",
       "      <th>test_balanced_accuracy</th>\n",
       "      <th>test_average_precision</th>\n",
       "      <th>test_precision</th>\n",
       "      <th>test_neg_brier_score</th>\n",
       "      <th>test_recall</th>\n",
       "      <th>test_f1</th>\n",
       "      <th>test_specificity</th>\n",
       "    </tr>\n",
       "  </thead>\n",
       "  <tbody>\n",
       "    <tr>\n",
       "      <th>0</th>\n",
       "      <td>1.177997</td>\n",
       "      <td>0.158957</td>\n",
       "      <td>0.787879</td>\n",
       "      <td>0.8</td>\n",
       "      <td>0.787879</td>\n",
       "      <td>0.821022</td>\n",
       "      <td>0.857143</td>\n",
       "      <td>-0.191329</td>\n",
       "      <td>0.666667</td>\n",
       "      <td>0.750000</td>\n",
       "      <td>0.909091</td>\n",
       "    </tr>\n",
       "    <tr>\n",
       "      <th>1</th>\n",
       "      <td>0.520818</td>\n",
       "      <td>0.146249</td>\n",
       "      <td>0.656566</td>\n",
       "      <td>0.6</td>\n",
       "      <td>0.575758</td>\n",
       "      <td>0.665096</td>\n",
       "      <td>0.600000</td>\n",
       "      <td>-0.220265</td>\n",
       "      <td>0.333333</td>\n",
       "      <td>0.428571</td>\n",
       "      <td>0.818182</td>\n",
       "    </tr>\n",
       "    <tr>\n",
       "      <th>2</th>\n",
       "      <td>0.507655</td>\n",
       "      <td>0.145479</td>\n",
       "      <td>0.727273</td>\n",
       "      <td>0.7</td>\n",
       "      <td>0.676768</td>\n",
       "      <td>0.636522</td>\n",
       "      <td>0.800000</td>\n",
       "      <td>-0.227865</td>\n",
       "      <td>0.444444</td>\n",
       "      <td>0.571429</td>\n",
       "      <td>0.909091</td>\n",
       "    </tr>\n",
       "    <tr>\n",
       "      <th>3</th>\n",
       "      <td>0.524615</td>\n",
       "      <td>0.146633</td>\n",
       "      <td>0.555556</td>\n",
       "      <td>0.4</td>\n",
       "      <td>0.414141</td>\n",
       "      <td>0.615104</td>\n",
       "      <td>0.384615</td>\n",
       "      <td>-0.315302</td>\n",
       "      <td>0.555556</td>\n",
       "      <td>0.454545</td>\n",
       "      <td>0.272727</td>\n",
       "    </tr>\n",
       "    <tr>\n",
       "      <th>4</th>\n",
       "      <td>0.522776</td>\n",
       "      <td>0.146514</td>\n",
       "      <td>0.707071</td>\n",
       "      <td>0.7</td>\n",
       "      <td>0.696970</td>\n",
       "      <td>0.748319</td>\n",
       "      <td>0.666667</td>\n",
       "      <td>-0.208376</td>\n",
       "      <td>0.666667</td>\n",
       "      <td>0.666667</td>\n",
       "      <td>0.727273</td>\n",
       "    </tr>\n",
       "  </tbody>\n",
       "</table>\n",
       "</div>"
      ],
      "text/plain": [
       "   fit_time  score_time  test_roc_auc  test_accuracy  test_balanced_accuracy  \\\n",
       "0  1.177997    0.158957      0.787879            0.8                0.787879   \n",
       "1  0.520818    0.146249      0.656566            0.6                0.575758   \n",
       "2  0.507655    0.145479      0.727273            0.7                0.676768   \n",
       "3  0.524615    0.146633      0.555556            0.4                0.414141   \n",
       "4  0.522776    0.146514      0.707071            0.7                0.696970   \n",
       "\n",
       "   test_average_precision  test_precision  test_neg_brier_score  test_recall  \\\n",
       "0                0.821022        0.857143             -0.191329     0.666667   \n",
       "1                0.665096        0.600000             -0.220265     0.333333   \n",
       "2                0.636522        0.800000             -0.227865     0.444444   \n",
       "3                0.615104        0.384615             -0.315302     0.555556   \n",
       "4                0.748319        0.666667             -0.208376     0.666667   \n",
       "\n",
       "    test_f1  test_specificity  \n",
       "0  0.750000          0.909091  \n",
       "1  0.428571          0.818182  \n",
       "2  0.571429          0.909091  \n",
       "3  0.454545          0.272727  \n",
       "4  0.666667          0.727273  "
      ]
     },
     "metadata": {},
     "output_type": "display_data"
    }
   ],
   "source": [
    "# create a dataframe from the statistics\n",
    "temp_scores = scores.copy()\n",
    "keys = list(temp_scores.keys())\n",
    "for key in keys:\n",
    "    if any(\n",
    "        [\n",
    "            chars in key\n",
    "            for chars in [\n",
    "                \"fpr\",\n",
    "                \"tpr\",\n",
    "                \"fnr\",\n",
    "                \"tnr\",\n",
    "                \"threshold\",\n",
    "                \"fraction_pos\",\n",
    "                \"mean_pred_value\",\n",
    "                \"subjects\",\n",
    "                \"y_pred_proba\",\n",
    "                \"importances\",\n",
    "                \"train\",\n",
    "            ]\n",
    "        ]\n",
    "    ):\n",
    "        temp_scores.pop(key)\n",
    "score_df = pd.DataFrame(temp_scores)\n",
    "\n",
    "display(score_df.head())"
   ]
  },
  {
   "cell_type": "code",
   "execution_count": 179,
   "id": "990cd477-ed9d-4f55-8e86-e91fe1515f9c",
   "metadata": {},
   "outputs": [],
   "source": [
    "score_df.describe().to_csv(f\"~/Downloads/{clf_name}_mtry=2n_{feature_set}_meansstd.csv\")"
   ]
  },
  {
   "cell_type": "markdown",
   "id": "228951ce-25b6-454c-86d2-009e603b9624",
   "metadata": {},
   "source": [
    "## Making ROC Curve With Confidence Interval"
   ]
  },
  {
   "cell_type": "code",
   "execution_count": 67,
   "id": "1e76f924-7f24-42e5-9fc0-dad06be2ba4f",
   "metadata": {},
   "outputs": [
    {
     "data": {
      "image/png": "[encoded data removed]",
      "text/plain": [
       "<Figure size 432x288 with 1 Axes>"
      ]
     },
     "metadata": {
      "needs_background": "light"
     },
     "output_type": "display_data"
    }
   ],
   "source": [
    "fig, ax = plt.subplots()\n",
    "\n",
    "for idx in range(n_splits):\n",
    "    fpr = scores[f\"{which_set}_fpr\"][idx]\n",
    "    tpr = scores[f\"{which_set}_tpr\"][idx]\n",
    "\n",
    "    ax.plot(fpr, tpr, color=\"b\", lw=2, alpha=0.5)\n",
    "\n",
    "ax.plot([0, 1], [0, 1], linestyle=\"--\", lw=2, color=\"r\", label=\"Chance\", alpha=0.8)\n",
    "ax.plot(\n",
    "    mean_fpr,\n",
    "    mean_tpr,\n",
    "    color=\"b\",\n",
    "    label=r\"Mean ROC (AUC = %0.2f $\\pm$ %0.2f)\" % (mean_auc, std_auc),\n",
    "    lw=2,\n",
    "    alpha=0.8,\n",
    ")\n",
    "\n",
    "\n",
    "ax.fill_between(\n",
    "    mean_fpr,\n",
    "    tprs_lower,\n",
    "    tprs_upper,\n",
    "    color=\"grey\",\n",
    "    alpha=0.2,\n",
    "    label=r\"$\\pm$ 1 std. dev.\",\n",
    ")\n",
    "ax.set(\n",
    "    xlim=[-0.05, 1.05],\n",
    "    ylim=[-0.05, 1.05],\n",
    "    title=f\"Receiver operating characteristic curve {which_set} set - {feature_set}\",\n",
    ")\n",
    "ax.legend(loc=\"lower right\")\n",
    "plt.show()"
   ]
  },
  {
   "cell_type": "markdown",
   "id": "62b6014a-2594-46d1-9f9c-cd844ea5ef09",
   "metadata": {},
   "source": [
    "## Plotting Predicted Probability of Success Scores"
   ]
  },
  {
   "cell_type": "code",
   "execution_count": 68,
   "id": "bcc37fd3-65a0-43b9-a663-b0cacfe5ffd7",
   "metadata": {},
   "outputs": [],
   "source": [
    "y_probas = []\n",
    "subj_list = []\n",
    "outcomes = []\n",
    "centers = []\n",
    "folds = []\n",
    "engels = []\n",
    "ilaes = []\n",
    "\n",
    "for idx in range(n_splits):\n",
    "    y_pred_proba = scores[f\"{which_set}_y_pred_proba\"][idx]\n",
    "    cv_subjects = scores[f\"{which_set}_subjects\"][idx]\n",
    "    for subject in cv_subjects:\n",
    "        outcome = meta_df[meta_df[\"patient_id\"] == subject][\"outcome\"].values[0]\n",
    "        outcomes.append(outcome)\n",
    "\n",
    "        engel = meta_df[meta_df[\"patient_id\"] == subject][\"engel_score\"].values[0]\n",
    "        engels.append(engel)\n",
    "\n",
    "        ilae = meta_df[meta_df[\"patient_id\"] == subject][\"ilae_score\"].values[0]\n",
    "        ilaes.append(ilae)\n",
    "\n",
    "        center = meta_df[meta_df[\"patient_id\"] == subject][\"clinical_center\"].values[0]\n",
    "        centers.append(center)\n",
    "\n",
    "    y_probas.extend(y_pred_proba)\n",
    "    subj_list.extend(cv_subjects)\n",
    "    folds.extend([idx] * len(cv_subjects))"
   ]
  },
  {
   "cell_type": "code",
   "execution_count": 69,
   "id": "303c14fb-17b1-44f5-83f5-7d64dee22b1e",
   "metadata": {},
   "outputs": [
    {
     "data": {
      "text/html": [
       "<div>\n",
       "<style scoped>\n",
       "    .dataframe tbody tr th:only-of-type {\n",
       "        vertical-align: middle;\n",
       "    }\n",
       "\n",
       "    .dataframe tbody tr th {\n",
       "        vertical-align: top;\n",
       "    }\n",
       "\n",
       "    .dataframe thead th {\n",
       "        text-align: right;\n",
       "    }\n",
       "</style>\n",
       "<table border=\"1\" class=\"dataframe\">\n",
       "  <thead>\n",
       "    <tr style=\"text-align: right;\">\n",
       "      <th></th>\n",
       "      <th>y_proba</th>\n",
       "      <th>subject</th>\n",
       "      <th>outcome</th>\n",
       "      <th>engel</th>\n",
       "      <th>ilae</th>\n",
       "      <th>center</th>\n",
       "      <th>fold</th>\n",
       "    </tr>\n",
       "  </thead>\n",
       "  <tbody>\n",
       "    <tr>\n",
       "      <th>0</th>\n",
       "      <td>0.604917</td>\n",
       "      <td>PY19N023</td>\n",
       "      <td>S</td>\n",
       "      <td>1</td>\n",
       "      <td>1.0</td>\n",
       "      <td>jhu</td>\n",
       "      <td>0</td>\n",
       "    </tr>\n",
       "    <tr>\n",
       "      <th>1</th>\n",
       "      <td>0.499267</td>\n",
       "      <td>la16</td>\n",
       "      <td>F</td>\n",
       "      <td>4</td>\n",
       "      <td>5.0</td>\n",
       "      <td>cc</td>\n",
       "      <td>0</td>\n",
       "    </tr>\n",
       "    <tr>\n",
       "      <th>2</th>\n",
       "      <td>0.371425</td>\n",
       "      <td>rns015</td>\n",
       "      <td>F</td>\n",
       "      <td>2</td>\n",
       "      <td>NaN</td>\n",
       "      <td>miami</td>\n",
       "      <td>0</td>\n",
       "    </tr>\n",
       "    <tr>\n",
       "      <th>3</th>\n",
       "      <td>0.30075</td>\n",
       "      <td>upmc3</td>\n",
       "      <td>F</td>\n",
       "      <td>2</td>\n",
       "      <td>3.0</td>\n",
       "      <td>upmc</td>\n",
       "      <td>0</td>\n",
       "    </tr>\n",
       "    <tr>\n",
       "      <th>4</th>\n",
       "      <td>0.248167</td>\n",
       "      <td>la21</td>\n",
       "      <td>S</td>\n",
       "      <td>1</td>\n",
       "      <td>1.0</td>\n",
       "      <td>cc</td>\n",
       "      <td>0</td>\n",
       "    </tr>\n",
       "  </tbody>\n",
       "</table>\n",
       "</div>"
      ],
      "text/plain": [
       "    y_proba   subject outcome engel ilae center fold\n",
       "0  0.604917  PY19N023       S     1  1.0    jhu    0\n",
       "1  0.499267      la16       F     4  5.0     cc    0\n",
       "2  0.371425    rns015       F     2  NaN  miami    0\n",
       "3   0.30075     upmc3       F     2  3.0   upmc    0\n",
       "4  0.248167      la21       S     1  1.0     cc    0"
      ]
     },
     "metadata": {},
     "output_type": "display_data"
    }
   ],
   "source": [
    "proba_df = pd.DataFrame(\n",
    "    (y_probas, subj_list, outcomes, engels, ilaes, centers, folds)\n",
    ").T\n",
    "proba_df.columns = [\"y_proba\", \"subject\", \"outcome\", \"engel\", \"ilae\", \"center\", \"fold\"]\n",
    "\n",
    "display(proba_df.head())"
   ]
  },
  {
   "cell_type": "code",
   "execution_count": 70,
   "id": "edaf6f40-aed0-4aad-9ca1-98b77480d9a3",
   "metadata": {},
   "outputs": [
    {
     "data": {
      "text/plain": [
       "<AxesSubplot:xlabel='outcome', ylabel='y_proba'>"
      ]
     },
     "execution_count": 70,
     "metadata": {},
     "output_type": "execute_result"
    },
    {
     "data": {
      "image/png": "[encoded data removed]",
      "text/plain": [
       "<Figure size 504x360 with 1 Axes>"
      ]
     },
     "metadata": {
      "needs_background": "light"
     },
     "output_type": "display_data"
    }
   ],
   "source": [
    "fig, ax = plt.subplots(figsize=(7, 5))\n",
    "# sns.stripplot(x=\"outcome\", y=\"y_proba\", hue=\"center\", data=proba_df, ax=ax)\n",
    "sns.boxplot(x=\"outcome\", y=\"y_proba\", data=proba_df, ax=ax, boxprops=dict(alpha=0.4))\n",
    "sns.swarmplot(x=\"outcome\", y=\"y_proba\", hue=\"center\", data=proba_df, ax=ax)"
   ]
  },
  {
   "cell_type": "code",
   "execution_count": 71,
   "id": "a288fc97-13cc-4542-b13a-8dd918a00cac",
   "metadata": {},
   "outputs": [
    {
     "data": {
      "text/plain": [
       "<matplotlib.legend.Legend at 0x15b64b1c0>"
      ]
     },
     "execution_count": 71,
     "metadata": {},
     "output_type": "execute_result"
    },
    {
     "data": {
      "image/png": "[encoded data removed]",
      "text/plain": [
       "<Figure size 504x360 with 1 Axes>"
      ]
     },
     "metadata": {
      "needs_background": "light"
     },
     "output_type": "display_data"
    }
   ],
   "source": [
    "fig, ax = plt.subplots(figsize=(7, 5))\n",
    "sns.stripplot(x=\"center\", y=\"y_proba\", hue=\"outcome\", data=proba_df, ax=ax)\n",
    "ax.axhline([0.5], ls=\"--\", label=\"decision boundary\")\n",
    "ax.legend()\n",
    "# sns.boxplot(x=\"outcome\", y=\"y_proba\", hue=\"fold\", data=proba_df, ax=ax)"
   ]
  },
  {
   "cell_type": "code",
   "execution_count": 72,
   "id": "3aa51f4f-f74c-4c25-a24f-4aed87cc57ff",
   "metadata": {},
   "outputs": [
    {
     "data": {
      "text/plain": [
       "<matplotlib.legend.Legend at 0x15c151760>"
      ]
     },
     "execution_count": 72,
     "metadata": {},
     "output_type": "execute_result"
    },
    {
     "data": {
      "image/png": "[encoded data removed]",
      "text/plain": [
       "<Figure size 504x360 with 1 Axes>"
      ]
     },
     "metadata": {
      "needs_background": "light"
     },
     "output_type": "display_data"
    }
   ],
   "source": [
    "fig, ax = plt.subplots(figsize=(7, 5))\n",
    "sns.boxplot(x=\"engel\", y=\"y_proba\", data=proba_df, ax=ax, boxprops=dict(alpha=0.4))\n",
    "sns.swarmplot(x=\"engel\", y=\"y_proba\", hue=\"outcome\", data=proba_df, ax=ax)\n",
    "ax.axhline([0.5], ls=\"--\", label=\"decision boundary\")\n",
    "ax.legend()\n",
    "# sns.boxplot(x=\"outcome\", y=\"y_proba\", hue=\"fold\", data=proba_df, ax=ax)"
   ]
  },
  {
   "cell_type": "code",
   "execution_count": 73,
   "id": "0a3f7499-2869-4f5c-9b64-6b56a4dfd749",
   "metadata": {},
   "outputs": [
    {
     "data": {
      "text/plain": [
       "<matplotlib.legend.Legend at 0x15a784f10>"
      ]
     },
     "execution_count": 73,
     "metadata": {},
     "output_type": "execute_result"
    },
    {
     "data": {
      "image/png": "[encoded data removed]",
      "text/plain": [
       "<Figure size 504x360 with 1 Axes>"
      ]
     },
     "metadata": {
      "needs_background": "light"
     },
     "output_type": "display_data"
    }
   ],
   "source": [
    "fig, ax = plt.subplots(figsize=(7, 5))\n",
    "sns.boxplot(x=\"ilae\", y=\"y_proba\", data=proba_df, ax=ax, boxprops=dict(alpha=0.4))\n",
    "sns.swarmplot(x=\"ilae\", y=\"y_proba\", hue=\"outcome\", data=proba_df, ax=ax)\n",
    "ax.axhline([0.5], ls=\"--\", label=\"decision boundary\")\n",
    "ax.legend()\n",
    "# sns.boxplot(x=\"outcome\", y=\"y_proba\", hue=\"fold\", data=proba_df, ax=ax)"
   ]
  },
  {
   "cell_type": "code",
   "execution_count": 74,
   "id": "67e92bf2-e392-4cb6-bedb-54bb3109eae6",
   "metadata": {},
   "outputs": [
    {
     "data": {
      "text/plain": [
       "<AxesSubplot:xlabel='outcome', ylabel='y_proba'>"
      ]
     },
     "execution_count": 74,
     "metadata": {},
     "output_type": "execute_result"
    },
    {
     "data": {
      "image/png": "[encoded data removed]",
      "text/plain": [
       "<Figure size 504x360 with 1 Axes>"
      ]
     },
     "metadata": {
      "needs_background": "light"
     },
     "output_type": "display_data"
    }
   ],
   "source": [
    "fig, ax = plt.subplots(figsize=(7, 5))\n",
    "# sns.stripplot(x=\"center\", y=\"y_proba\", hue=\"outcome\", data=proba_df, ax=ax)\n",
    "ax.axhline([0.5], ls=\"--\", label=\"decision boundary\")\n",
    "ax.legend()\n",
    "sns.boxplot(x=\"outcome\", y=\"y_proba\", hue=\"fold\", data=proba_df, ax=ax)"
   ]
  },
  {
   "cell_type": "markdown",
   "id": "54a23338-a6fc-4bd7-9795-f74472c34447",
   "metadata": {},
   "source": [
    "## Plotting Calibration Curve"
   ]
  },
  {
   "cell_type": "code",
   "execution_count": 75,
   "id": "d1fc43aa-d9ff-47ac-acab-8a29d63120b5",
   "metadata": {},
   "outputs": [],
   "source": [
    "mean_brier = np.mean(scores[\"test_neg_brier_score\"])\n",
    "std_brier = np.std(scores[\"test_neg_brier_score\"])"
   ]
  },
  {
   "cell_type": "code",
   "execution_count": 76,
   "id": "9919554d-c0e7-4d5f-9ae9-85e04f293d04",
   "metadata": {},
   "outputs": [
    {
     "data": {
      "image/png": "[encoded data removed]",
      "text/plain": [
       "<Figure size 432x288 with 1 Axes>"
      ]
     },
     "metadata": {
      "needs_background": "light"
     },
     "output_type": "display_data"
    }
   ],
   "source": [
    "frac_pred_vals = []\n",
    "mean_pred_values = np.linspace(0, 1.0, 200)\n",
    "\n",
    "fig, ax = plt.subplots()\n",
    "color = \"blue\"\n",
    "for idx in range(n_splits):\n",
    "    y_pred_proba = scores[f\"{which_set}_y_pred_proba\"][idx]\n",
    "\n",
    "    mean_predicted_value = scores[f\"{which_set}_mean_pred_value\"][idx]\n",
    "    fraction_of_positives = scores[f\"{which_set}_fraction_pos\"][idx]\n",
    "\n",
    "    # create a linear interpolation of the calibration\n",
    "    interp_frac_positives = np.interp(\n",
    "        mean_pred_values, mean_predicted_value, fraction_of_positives\n",
    "    )\n",
    "\n",
    "    # store curves\n",
    "    frac_pred_vals.append(interp_frac_positives)\n",
    "#     ax.plot(mean_pred_values, interp_frac_positives, \"s-\", alpha=0.5)\n",
    "\n",
    "# get the mean calibration curve\n",
    "mean_frac_pred_values = np.mean(frac_pred_vals, axis=0)\n",
    "ax.plot(\n",
    "    mean_pred_values,\n",
    "    mean_frac_pred_values,\n",
    "    \"s-\",\n",
    "    label=rf\"({np.round(mean_brier,3)} $\\pm$ {np.round(std_brier, 3)}\",\n",
    ")\n",
    "\n",
    "# get upper and lower bound for tpr\n",
    "std_fpv = np.std(frac_pred_vals, axis=0)\n",
    "tprs_upper = np.minimum(mean_frac_pred_values + std_fpv, 1)\n",
    "tprs_lower = np.maximum(mean_frac_pred_values - std_fpv, 0)\n",
    "ax.fill_between(\n",
    "    mean_pred_values,\n",
    "    tprs_lower,\n",
    "    tprs_upper,\n",
    "    color=color,\n",
    "    alpha=0.2,\n",
    "    # label=r\"$\\pm$ 1 std. dev.\",\n",
    ")\n",
    "ax.plot([0, 1], [0, 1], \"k:\", label=\"Perfectly calibrated\")\n",
    "\n",
    "\n",
    "ax.set(\n",
    "    ylabel=\"Fraction of Success Outcomes\",\n",
    "    ylim=[-0.05, 1.05],\n",
    "    xlabel=\"Mean Predicted Success Probabilities of Subjects\",\n",
    "    title=\"Calibration (Reliability) Curve\",\n",
    ")\n",
    "\n",
    "ax.legend(loc=\"lower right\")\n",
    "plt.show()"
   ]
  },
  {
   "cell_type": "markdown",
   "id": "82da959b-549b-4d8b-a017-6bc8296b2629",
   "metadata": {
    "tags": []
   },
   "source": [
    "# Concatenation of All Feature Representations\n",
    "\n",
    "Here, we'll look at combining all features into one concatenated feature set"
   ]
  },
  {
   "cell_type": "code",
   "execution_count": 16,
   "id": "b7f69c5c-fcd4-4534-934e-69f1558346a6",
   "metadata": {},
   "outputs": [],
   "source": [
    "feature_set = [\"sink_ind\", \"sink_conn\", \"source_infl\"]"
   ]
  },
  {
   "cell_type": "markdown",
   "id": "6faa3961-6241-4abc-884c-65ba3af06179",
   "metadata": {},
   "source": [
    "## Generate X,y data"
   ]
  },
  {
   "cell_type": "markdown",
   "id": "3bec5c27-9e09-4b1d-8b28-379229eb139f",
   "metadata": {
    "tags": []
   },
   "source": [
    "## Thoughts on Feature Rep\n",
    "\n",
    "- std perhaps not as needed\n",
    "- using the average A matrix -> then feature computation instead (perhaps less noisy)\n",
    "\n",
    "In LR:\n",
    "- also took difference between the two average values (i.e. soz_sink - nsoz_sink)"
   ]
  },
  {
   "cell_type": "code",
   "execution_count": 17,
   "id": "ac7028ce-8388-4e27-8bc6-be613f799866",
   "metadata": {},
   "outputs": [],
   "source": [
    "# optional threshold\n",
    "threshold = None"
   ]
  },
  {
   "cell_type": "code",
   "execution_count": 18,
   "id": "addbc284-c1e3-4891-904e-c1baa697f0dd",
   "metadata": {},
   "outputs": [],
   "source": [
    "X, y, subjects = get_Xy_vector(dataset, feature_set)"
   ]
  },
  {
   "cell_type": "code",
   "execution_count": 19,
   "id": "7b3980f0-ec1b-49bc-ba34-182479d2891c",
   "metadata": {},
   "outputs": [
    {
     "name": "stdout",
     "output_type": "stream",
     "text": [
      "(65, 15)\n",
      "(65,)\n",
      "[1. 0. 0. 0. 0. 0. 0. 0. 0. 1. 0. 0. 1. 0. 1. 0. 0. 1. 1. 1. 1. 0. 1. 0.\n",
      " 1. 1. 1. 0. 1. 1. 1. 0. 0. 0. 1. 0. 0. 1. 0. 1. 1. 0. 1. 0. 0. 0. 1. 0.\n",
      " 0. 0. 0. 1. 1. 1. 1. 0. 0. 0. 0. 0. 1. 1. 0. 0. 1.]\n"
     ]
    }
   ],
   "source": [
    "X = np.array(X).squeeze()\n",
    "y = np.array(y).squeeze()\n",
    "subjects = np.array(subjects)\n",
    "y = enc.fit_transform(y[:, np.newaxis]).squeeze()\n",
    "print(X.shape)\n",
    "print(y.shape)\n",
    "print(y)"
   ]
  },
  {
   "cell_type": "code",
   "execution_count": 20,
   "id": "19d4e4f3-42ac-41ff-a0f0-2dadafb45b10",
   "metadata": {
    "tags": []
   },
   "outputs": [
    {
     "name": "stdout",
     "output_type": "stream",
     "text": [
      "['nl12' 'NIH3' 'nl08' 'NIH9' 'la13' 'PY18N002' 'rns006' 'nl19' 'kumc13'\n",
      " 'la11' 'nl07' 'kumc4' 'nl20' 'la09' 'kumc1' 'rns013' 'la22' 'kumc3'\n",
      " 'NIH8' 'NIH4' 'upmc6' 'rns009' 'PY18N015' 'NIH10' 'kumc12' 'la08' 'nl01'\n",
      " 'la15' 'nl16' 'upmc2' 'la05' 'la06' 'la02' 'kumc11' 'nl04' 'nl15'\n",
      " 'kumc10' 'rns003' 'la23' 'rns004' 'la10' 'la03' 'la24' 'kumc8' 'NIH7']\n",
      "['nl07' 'la21' 'PY18N013' 'rns002' 'PY19N023' 'kumc10' 'nl04' 'rns013'\n",
      " 'NIH3' 'upmc1' 'la10' 'rns015' 'nl16' 'la03' 'NIH10' 'rns006' 'rns009'\n",
      " 'nl19' 'upmc5' 'la24' 'NIH8' 'la16' 'upmc3' 'NIH7' 'NIH11' 'kumc4' 'nl08'\n",
      " 'kumc3' 'nl18' 'la08' 'la06' 'NIH4' 'nl15' 'la22' 'la11' 'rns003' 'NIH5'\n",
      " 'rns011' 'kumc13' 'PY18N002' 'la15' 'kumc8' 'nl14' 'NIH2' 'la23']\n",
      "['la03' 'PY19N015' 'nl19' 'la06' 'nl16' 'nl01' 'la24' 'nl13' 'upmc1'\n",
      " 'la16' 'la02' 'la21' 'la11' 'rns002' 'kumc1' 'kumc10' 'rns013' 'kumc12'\n",
      " 'la08' 'upmc2' 'kumc11' 'NIH10' 'nl15' 'upmc5' 'rns011' 'NIH5' 'NIH11'\n",
      " 'PY18N002' 'la23' 'nl05' 'NIH4' 'rns003' 'la22' 'la04' 'nl08' 'la09'\n",
      " 'NIH2' 'rns006' 'rns009' 'NIH8' 'PY18N015' 'nl20' 'nl12' 'PY19N023'\n",
      " 'la05']\n",
      "['kumc1' 'la23' 'nl01' 'la13' 'NIH10' 'la16' 'kumc6' 'upmc1' 'la11'\n",
      " 'rns003' 'rns006' 'la21' 'nl15' 'NIH8' 'nl04' 'rns002' 'nl14' 'PY18N013'\n",
      " 'kumc11' 'nl12' 'upmc2' 'rns009' 'rns013' 'la04' 'nl08' 'kumc13' 'la06'\n",
      " 'NIH11' 'upmc5' 'upmc3' 'rns011' 'NIH7' 'la05' 'la02' 'PY18N015' 'la09'\n",
      " 'PY18N002' 'la15' 'la22' 'NIH2' 'NIH4' 'kumc3' 'kumc4' 'nl16' 'nl20']\n",
      "['nl14' 'kumc11' 'kumc3' 'NIH10' 'NIH7' 'nl16' 'rns002' 'nl15' 'kumc1'\n",
      " 'nl01' 'upmc5' 'la10' 'rns006' 'upmc6' 'NIH4' 'la11' 'nl07' 'nl08' 'nl19'\n",
      " 'PY19N023' 'la24' 'kumc10' 'upmc2' 'rns004' 'rns015' 'la08' 'nl18'\n",
      " 'rns009' 'la09' 'rns013' 'rns003' 'kumc8' 'la21' 'PY18N002' 'kumc6'\n",
      " 'la04' 'la22' 'la02' 'PY18N015' 'la06' 'la16' 'NIH2' 'NIH9' 'nl04' 'nl13']\n",
      "['la11' 'la23' 'upmc6' 'la05' 'nl07' 'upmc2' 'kumc10' 'upmc3' 'NIH11'\n",
      " 'nl13' 'kumc3' 'la06' 'rns009' 'PY18N013' 'PY19N023' 'kumc8' 'kumc1'\n",
      " 'la22' 'nl05' 'la03' 'nl01' 'nl15' 'rns004' 'NIH7' 'nl12' 'nl08'\n",
      " 'PY19N015' 'upmc5' 'la09' 'NIH9' 'PY18N002' 'la08' 'la16' 'rns006'\n",
      " 'kumc6' 'NIH2' 'kumc13' 'rns015' 'upmc1' 'rns003' 'la10' 'nl16' 'rns013'\n",
      " 'rns002' 'NIH4']\n",
      "['la08' 'kumc3' 'kumc12' 'la24' 'upmc2' 'PY18N013' 'NIH9' 'la16' 'la15'\n",
      " 'la22' 'NIH4' 'kumc1' 'NIH8' 'nl19' 'rns006' 'rns004' 'kumc4' 'NIH3'\n",
      " 'kumc11' 'kumc10' 'NIH2' 'la04' 'rns003' 'NIH10' 'PY18N015' 'nl20' 'la21'\n",
      " 'kumc8' 'la10' 'la03' 'upmc1' 'nl12' 'nl13' 'rns011' 'kumc13' 'upmc6'\n",
      " 'upmc3' 'nl01' 'la09' 'nl18' 'PY18N002' 'la06' 'la13' 'rns013' 'nl04']\n",
      "['nl19' 'upmc5' 'nl12' 'kumc6' 'nl13' 'nl16' 'upmc2' 'PY18N013' 'nl14'\n",
      " 'la15' 'rns006' 'nl20' 'rns011' 'nl01' 'nl05' 'rns004' 'kumc4' 'la06'\n",
      " 'la16' 'nl15' 'nl07' 'NIH8' 'NIH4' 'kumc8' 'NIH7' 'kumc13' 'la04'\n",
      " 'rns015' 'kumc3' 'PY18N015' 'upmc1' 'NIH3' 'NIH9' 'la03' 'rns003' 'la09'\n",
      " 'la11' 'nl18' 'upmc6' 'la13' 'rns002' 'NIH10' 'PY19N015' 'la08'\n",
      " 'PY19N023']\n",
      "['kumc12' 'nl04' 'nl19' 'la13' 'NIH7' 'NIH5' 'kumc13' 'NIH4' 'la05'\n",
      " 'rns011' 'la15' 'kumc8' 'nl20' 'upmc1' 'la09' 'PY18N013' 'nl15' 'kumc10'\n",
      " 'rns013' 'la23' 'rns015' 'la03' 'nl05' 'la06' 'kumc11' 'nl07' 'NIH2'\n",
      " 'upmc5' 'la04' 'rns006' 'rns009' 'la16' 'PY18N002' 'NIH11' 'upmc3' 'nl14'\n",
      " 'nl16' 'la02' 'kumc6' 'kumc4' 'la22' 'nl12' 'NIH3' 'upmc6' 'rns003']\n",
      "['kumc4' 'la16' 'la08' 'nl04' 'PY18N002' 'la09' 'NIH4' 'nl14' 'PY19N015'\n",
      " 'la21' 'nl20' 'nl13' 'rns004' 'kumc13' 'NIH2' 'kumc6' 'la03' 'la11'\n",
      " 'la22' 'la23' 'kumc11' 'rns011' 'NIH10' 'la02' 'rns013' 'kumc3' 'NIH5'\n",
      " 'nl19' 'upmc1' 'NIH11' 'upmc6' 'la24' 'rns006' 'la06' 'la13' 'rns003'\n",
      " 'upmc3' 'kumc8' 'upmc5' 'la04' 'rns002' 'nl07' 'NIH3' 'nl15' 'nl18']\n"
     ]
    }
   ],
   "source": [
    "for train_inds, test_inds in cv.split(X, y):\n",
    "    print(subjects[train_inds])"
   ]
  },
  {
   "cell_type": "markdown",
   "id": "0731b89b-2297-42a7-b343-30e9cb620181",
   "metadata": {},
   "source": [
    "## Define Classification Model and Run cross_validate"
   ]
  },
  {
   "cell_type": "code",
   "execution_count": 21,
   "id": "f990f2fd-7c6a-4f4d-a66d-a595ca1f8186",
   "metadata": {},
   "outputs": [],
   "source": [
    "n_features = X.shape[1]\n",
    "model_params = {\n",
    "    #     \"projection_matrix\": \"RerF\",\n",
    "    \"n_estimators\": 2000,\n",
    "    \"max_features\": 2 * n_features,  # * 2,\n",
    "    \"n_jobs\": -1,\n",
    "    \"random_state\": random_state,\n",
    "}\n",
    "# clf = rerfClassifier(**model_params)\n",
    "clf_name = \"sporf\"\n",
    "clf = ObliqueForestClassifier(**model_params)\n",
    "\n",
    "# clf_name = 'rf'\n",
    "# clf = RandomForestClassifier(**model_params)\n",
    "\n",
    "# clf_name = 'lr'\n",
    "# clf = LogisticRegression(penalty=\"none\", fit_intercept=False)"
   ]
  },
  {
   "cell_type": "code",
   "execution_count": 22,
   "id": "df98c29a-6b16-4fac-9664-f0800f542dae",
   "metadata": {
    "tags": []
   },
   "outputs": [],
   "source": [
    "# perform CV using Sklearn\n",
    "scoring_funcs = {\n",
    "    \"roc_auc\": roc_auc_score,\n",
    "    \"accuracy\": accuracy_score,\n",
    "    \"balanced_accuracy\": balanced_accuracy_score,\n",
    "    \"average_precision\": average_precision_score,\n",
    "    \"precision\": \"\",\n",
    "    \"neg_brier_score\": brier_score_loss,\n",
    "    \"recall\": \"\",\n",
    "    \"f1\": \"\",\n",
    "}\n",
    "\n",
    "# run cross-validation\n",
    "scores = cross_validate(\n",
    "    clf,\n",
    "    X,\n",
    "    y,\n",
    "    #     groups=subject_groups,\n",
    "    cv=cv,\n",
    "    #     cv=zip(train_index, test_index),\n",
    "    scoring=list(scoring_funcs.keys()),\n",
    "    return_estimator=True,\n",
    "    return_train_score=True,\n",
    "    n_jobs=1,\n",
    ")\n",
    "\n",
    "# get the estimators\n",
    "estimators = scores.pop(\"estimator\")"
   ]
  },
  {
   "cell_type": "code",
   "execution_count": 23,
   "id": "03f510d7-afe6-42b8-96e5-783cc23c90cf",
   "metadata": {},
   "outputs": [
    {
     "name": "stdout",
     "output_type": "stream",
     "text": [
      "Using estimator  ObliqueForestClassifier(max_features=30, n_estimators=2000, n_jobs=-1,\n",
      "                        random_state=12345)\n"
     ]
    }
   ],
   "source": [
    "print(\"Using estimator \", estimators[0])\n",
    "\n",
    "# initialize keys to list\n",
    "for key in [\n",
    "    \"test_fraction_pos\",\n",
    "    \"test_mean_pred_value\",\n",
    "    \"test_fpr\",\n",
    "    \"test_tpr\",\n",
    "    \"test_fnr\",\n",
    "    \"test_tnr\",\n",
    "    \"test_thresholds\",\n",
    "    \"train_fraction_pos\",\n",
    "    \"train_mean_pred_value\",\n",
    "    \"train_y_pred_proba\",\n",
    "    \"train_fpr\",\n",
    "    \"train_tpr\",\n",
    "    \"train_fnr\",\n",
    "    \"train_tnr\",\n",
    "    \"train_thresholds\",\n",
    "    \"train_subjects\",\n",
    "    \"test_subjects\",\n",
    "    \"test_y_pred_proba\",\n",
    "    \"test_importances\",\n",
    "    \"test_specificity\",\n",
    "]:\n",
    "    scores[key] = []\n",
    "\n",
    "for idx, (train_inds, test_inds) in enumerate(cv.split(X, y)):\n",
    "    estimator = estimators[idx]\n",
    "\n",
    "    # append subjects\n",
    "    scores[\"train_subjects\"].append(subjects[train_inds])\n",
    "    scores[\"test_subjects\"].append(subjects[test_inds])\n",
    "\n",
    "    # evaluate on the test set\n",
    "    y_train = y[train_inds]\n",
    "    X_train = X[train_inds, :]\n",
    "    y_pred_prob = estimator.predict_proba(X_train)[:, 1]\n",
    "\n",
    "    # compute calibration curve\n",
    "    fraction_of_positives, mean_predicted_value = calibration_curve(\n",
    "        y_train, y_pred_prob, n_bins=10, strategy=\"quantile\"\n",
    "    )\n",
    "\n",
    "    # append training data\n",
    "    scores[\"train_y_pred_proba\"].append(y_pred_prob)\n",
    "    scores[\"train_fraction_pos\"].append(fraction_of_positives)\n",
    "    scores[\"train_mean_pred_value\"].append(mean_predicted_value)\n",
    "\n",
    "    # store ROC curve metrics on the held-out test set\n",
    "    fpr, tpr, thresholds = roc_curve(y_train, y_pred_prob, pos_label=1)\n",
    "    fnr, tnr, neg_thresholds = roc_curve(y_train, y_pred_prob, pos_label=0)\n",
    "    scores[\"train_fpr\"].append(fpr)\n",
    "    scores[\"train_tpr\"].append(tpr)\n",
    "    scores[\"train_fnr\"].append(fnr)\n",
    "    scores[\"train_tnr\"].append(tnr)\n",
    "    scores[\"train_thresholds\"].append(thresholds)\n",
    "\n",
    "    # evaluate on the test set\n",
    "    y_test = y[test_inds]\n",
    "    X_test = X[test_inds, :]\n",
    "    y_pred_prob = estimator.predict_proba(X_test)[:, 1]\n",
    "\n",
    "    # compute calibration curve\n",
    "    fraction_of_positives, mean_predicted_value = calibration_curve(\n",
    "        y_test, y_pred_prob, n_bins=10, strategy=\"quantile\"\n",
    "    )\n",
    "\n",
    "    # append testing data\n",
    "    scores[\"test_y_pred_proba\"].append(y_pred_prob)\n",
    "    scores[\"test_fraction_pos\"].append(fraction_of_positives)\n",
    "    scores[\"test_mean_pred_value\"].append(mean_predicted_value)\n",
    "\n",
    "    # store ROC curve metrics on the held-out test set\n",
    "    fpr, tpr, thresholds = roc_curve(y_test, y_pred_prob, pos_label=1)\n",
    "    fnr, tnr, neg_thresholds = roc_curve(y_test, y_pred_prob, pos_label=0)\n",
    "    scores[\"test_fpr\"].append(fpr)\n",
    "    scores[\"test_tpr\"].append(tpr)\n",
    "    scores[\"test_fnr\"].append(fnr)\n",
    "    scores[\"test_tnr\"].append(tnr)\n",
    "    scores[\"test_thresholds\"].append(thresholds)\n",
    "\n",
    "    tn, fp, fn, tp = confusion_matrix(\n",
    "        y_test.astype(int), (y_pred_prob > 0.5).astype(int)\n",
    "    ).ravel()\n",
    "    scores[\"test_specificity\"].append(tn / (tn + fp))\n",
    "\n",
    "    # get the permutation importances\n",
    "    r = permutation_importance(\n",
    "        estimator, X_test, y_test, n_repeats=5, random_state=random_state, n_jobs=-1\n",
    "    )\n",
    "    scores[\"test_importances\"].append(r.importances)"
   ]
  },
  {
   "cell_type": "code",
   "execution_count": 24,
   "id": "4242e95e-d51e-422c-9b3c-901c1202c671",
   "metadata": {},
   "outputs": [
    {
     "name": "stdout",
     "output_type": "stream",
     "text": [
      "/Users/adam2392/OneDrive - Johns Hopkins/epilepsy_interictal/derivatives/cv10_sporf_mtry30_exp_allfeats_meandiff.pkl\n"
     ]
    }
   ],
   "source": [
    "fname = (\n",
    "    deriv_root\n",
    "    / f\"cv{n_splits}_{clf_name}_mtry{model_params['max_features']}_exp_allfeats_meandiff.pkl\"\n",
    ")\n",
    "print(fname)"
   ]
  },
  {
   "cell_type": "code",
   "execution_count": 25,
   "id": "015596aa-62e1-4881-8160-2aee7887237e",
   "metadata": {},
   "outputs": [],
   "source": [
    "with open(fname.with_suffix(\".json\"), \"w\") as fp:\n",
    "    json.dump(scores, fp, cls=NumpyEncoder)"
   ]
  },
  {
   "cell_type": "code",
   "execution_count": 98,
   "id": "7178e058-5f90-434a-8145-e18f7cbbd574",
   "metadata": {},
   "outputs": [],
   "source": [
    "with open(fname, \"wb\") as file_name:\n",
    "    pickle.dump(scores, file_name)\n",
    "#     json.dump(scores, file_name)"
   ]
  },
  {
   "cell_type": "code",
   "execution_count": 43,
   "id": "3a5ce305-d929-4224-8f6e-5edd164c92c2",
   "metadata": {},
   "outputs": [],
   "source": [
    "with open(fname.with_suffix(\".json\"), \"r\") as fp:\n",
    "    scores = json.load(fp)"
   ]
  },
  {
   "cell_type": "markdown",
   "id": "24e3339f-acb8-47f4-ac96-76d9adbb8414",
   "metadata": {
    "tags": []
   },
   "source": [
    "## Make Plots of the Data\n",
    "\n",
    "- Box plots probability values of success/failures\n",
    "- ^ for engel, ilae, maybe clinical complexity\n",
    "- ^ for other stuff if available"
   ]
  },
  {
   "cell_type": "code",
   "execution_count": 26,
   "id": "371ca73e-96bf-4ae2-963b-0f67a4e17013",
   "metadata": {},
   "outputs": [],
   "source": [
    "which_set = \"test\"\n",
    "\n",
    "tprs = []\n",
    "aucs = scores[f\"{which_set}_roc_auc\"]\n",
    "mean_fpr = np.linspace(0, 1, 100)\n",
    "\n",
    "for idx in range(n_splits):\n",
    "    fpr = scores[f\"{which_set}_fpr\"][idx]\n",
    "    tpr = scores[f\"{which_set}_tpr\"][idx]\n",
    "\n",
    "    # interpolate the tpr\n",
    "    interp_tpr = np.interp(mean_fpr, fpr, tpr)\n",
    "    interp_tpr[0] = 0.0\n",
    "    tprs.append(interp_tpr)\n",
    "\n",
    "mean_tpr = np.mean(tprs, axis=0)\n",
    "mean_tpr[-1] = 1.0\n",
    "mean_auc = auc(mean_fpr, mean_tpr)\n",
    "mean_auc = np.mean(aucs)\n",
    "std_auc = np.std(aucs)\n",
    "\n",
    "std_tpr = np.std(tprs, axis=0)\n",
    "tprs_upper = np.minimum(mean_tpr + std_tpr, 1)\n",
    "tprs_lower = np.maximum(mean_tpr - std_tpr, 0)"
   ]
  },
  {
   "cell_type": "code",
   "execution_count": 27,
   "id": "16103c3f-d818-4039-afe5-dcdb392069da",
   "metadata": {},
   "outputs": [
    {
     "name": "stdout",
     "output_type": "stream",
     "text": [
      "0.8575757575757577 0.0678273614715133\n"
     ]
    }
   ],
   "source": [
    "print(np.mean(aucs), np.std(aucs))"
   ]
  },
  {
   "cell_type": "code",
   "execution_count": 28,
   "id": "cc430777-a1a1-4955-a40b-f9a1158dc956",
   "metadata": {},
   "outputs": [
    {
     "name": "stdout",
     "output_type": "stream",
     "text": [
      "test_balanced_accuracy 0.7888888888888889 +/- 0.08089641636434715\n"
     ]
    }
   ],
   "source": [
    "metric = \"test_balanced_accuracy\"\n",
    "print(metric, np.mean(scores[metric]), \"+/-\", np.std(scores[metric]))"
   ]
  },
  {
   "cell_type": "code",
   "execution_count": 29,
   "id": "c5201b80-afef-47a8-a279-487038dadbbd",
   "metadata": {},
   "outputs": [
    {
     "name": "stdout",
     "output_type": "stream",
     "text": [
      "test_average_precision 0.8771193623580105 +/- 0.06047213835142888\n"
     ]
    }
   ],
   "source": [
    "metric = \"test_average_precision\"\n",
    "print(metric, np.mean(scores[metric]), \"+/-\", np.std(scores[metric]))"
   ]
  },
  {
   "cell_type": "code",
   "execution_count": 30,
   "id": "26dabc06-b271-4d46-a244-81d24ccd0f00",
   "metadata": {},
   "outputs": [
    {
     "name": "stdout",
     "output_type": "stream",
     "text": [
      "test_recall 0.7777777777777777 +/- 0.08606629658238704\n"
     ]
    }
   ],
   "source": [
    "metric = \"test_recall\"\n",
    "print(metric, np.mean(scores[metric]), \"+/-\", np.std(scores[metric]))"
   ]
  },
  {
   "cell_type": "code",
   "execution_count": 31,
   "id": "800869a3-e743-4718-a3f3-d40dfc2ce4ba",
   "metadata": {},
   "outputs": [
    {
     "name": "stdout",
     "output_type": "stream",
     "text": [
      "test_specificity 0.8 +/- 0.15102952478032863\n"
     ]
    }
   ],
   "source": [
    "metric = \"test_specificity\"\n",
    "print(metric, np.mean(scores[metric]), \"+/-\", np.std(scores[metric]))"
   ]
  },
  {
   "cell_type": "code",
   "execution_count": 32,
   "id": "fcd6bdde-c30d-4004-b2c2-9e9a1b59249a",
   "metadata": {},
   "outputs": [
    {
     "name": "stdout",
     "output_type": "stream",
     "text": [
      "test_f1 0.7727506319079882 +/- 0.08179035489128354\n"
     ]
    }
   ],
   "source": [
    "metric = \"test_f1\"\n",
    "print(metric, np.mean(scores[metric]), \"+/-\", np.std(scores[metric]))"
   ]
  },
  {
   "cell_type": "code",
   "execution_count": 33,
   "id": "0ea42f74-5e2e-4019-834b-ca69a9d60272",
   "metadata": {},
   "outputs": [
    {
     "data": {
      "text/html": [
       "<div>\n",
       "<style scoped>\n",
       "    .dataframe tbody tr th:only-of-type {\n",
       "        vertical-align: middle;\n",
       "    }\n",
       "\n",
       "    .dataframe tbody tr th {\n",
       "        vertical-align: top;\n",
       "    }\n",
       "\n",
       "    .dataframe thead th {\n",
       "        text-align: right;\n",
       "    }\n",
       "</style>\n",
       "<table border=\"1\" class=\"dataframe\">\n",
       "  <thead>\n",
       "    <tr style=\"text-align: right;\">\n",
       "      <th></th>\n",
       "      <th>fit_time</th>\n",
       "      <th>score_time</th>\n",
       "      <th>test_roc_auc</th>\n",
       "      <th>test_accuracy</th>\n",
       "      <th>test_balanced_accuracy</th>\n",
       "      <th>test_average_precision</th>\n",
       "      <th>test_precision</th>\n",
       "      <th>test_neg_brier_score</th>\n",
       "      <th>test_recall</th>\n",
       "      <th>test_f1</th>\n",
       "      <th>test_specificity</th>\n",
       "    </tr>\n",
       "  </thead>\n",
       "  <tbody>\n",
       "    <tr>\n",
       "      <th>0</th>\n",
       "      <td>3.183684</td>\n",
       "      <td>1.027003</td>\n",
       "      <td>0.818182</td>\n",
       "      <td>0.75</td>\n",
       "      <td>0.752525</td>\n",
       "      <td>0.836420</td>\n",
       "      <td>0.700000</td>\n",
       "      <td>-0.174114</td>\n",
       "      <td>0.777778</td>\n",
       "      <td>0.736842</td>\n",
       "      <td>0.727273</td>\n",
       "    </tr>\n",
       "    <tr>\n",
       "      <th>1</th>\n",
       "      <td>1.931161</td>\n",
       "      <td>1.220786</td>\n",
       "      <td>0.878788</td>\n",
       "      <td>0.80</td>\n",
       "      <td>0.797980</td>\n",
       "      <td>0.893827</td>\n",
       "      <td>0.777778</td>\n",
       "      <td>-0.157007</td>\n",
       "      <td>0.777778</td>\n",
       "      <td>0.777778</td>\n",
       "      <td>0.818182</td>\n",
       "    </tr>\n",
       "    <tr>\n",
       "      <th>2</th>\n",
       "      <td>1.890555</td>\n",
       "      <td>1.058255</td>\n",
       "      <td>0.838384</td>\n",
       "      <td>0.75</td>\n",
       "      <td>0.742424</td>\n",
       "      <td>0.827876</td>\n",
       "      <td>0.750000</td>\n",
       "      <td>-0.180518</td>\n",
       "      <td>0.666667</td>\n",
       "      <td>0.705882</td>\n",
       "      <td>0.818182</td>\n",
       "    </tr>\n",
       "    <tr>\n",
       "      <th>3</th>\n",
       "      <td>2.327900</td>\n",
       "      <td>0.873741</td>\n",
       "      <td>0.959596</td>\n",
       "      <td>0.95</td>\n",
       "      <td>0.944444</td>\n",
       "      <td>0.965812</td>\n",
       "      <td>1.000000</td>\n",
       "      <td>-0.114240</td>\n",
       "      <td>0.888889</td>\n",
       "      <td>0.941176</td>\n",
       "      <td>1.000000</td>\n",
       "    </tr>\n",
       "    <tr>\n",
       "      <th>4</th>\n",
       "      <td>2.050133</td>\n",
       "      <td>0.968666</td>\n",
       "      <td>0.737374</td>\n",
       "      <td>0.70</td>\n",
       "      <td>0.696970</td>\n",
       "      <td>0.765859</td>\n",
       "      <td>0.666667</td>\n",
       "      <td>-0.221338</td>\n",
       "      <td>0.666667</td>\n",
       "      <td>0.666667</td>\n",
       "      <td>0.727273</td>\n",
       "    </tr>\n",
       "  </tbody>\n",
       "</table>\n",
       "</div>"
      ],
      "text/plain": [
       "   fit_time  score_time  test_roc_auc  test_accuracy  test_balanced_accuracy  \\\n",
       "0  3.183684    1.027003      0.818182           0.75                0.752525   \n",
       "1  1.931161    1.220786      0.878788           0.80                0.797980   \n",
       "2  1.890555    1.058255      0.838384           0.75                0.742424   \n",
       "3  2.327900    0.873741      0.959596           0.95                0.944444   \n",
       "4  2.050133    0.968666      0.737374           0.70                0.696970   \n",
       "\n",
       "   test_average_precision  test_precision  test_neg_brier_score  test_recall  \\\n",
       "0                0.836420        0.700000             -0.174114     0.777778   \n",
       "1                0.893827        0.777778             -0.157007     0.777778   \n",
       "2                0.827876        0.750000             -0.180518     0.666667   \n",
       "3                0.965812        1.000000             -0.114240     0.888889   \n",
       "4                0.765859        0.666667             -0.221338     0.666667   \n",
       "\n",
       "    test_f1  test_specificity  \n",
       "0  0.736842          0.727273  \n",
       "1  0.777778          0.818182  \n",
       "2  0.705882          0.818182  \n",
       "3  0.941176          1.000000  \n",
       "4  0.666667          0.727273  "
      ]
     },
     "metadata": {},
     "output_type": "display_data"
    }
   ],
   "source": [
    "# create a dataframe from the statistics\n",
    "temp_scores = scores.copy()\n",
    "keys = list(temp_scores.keys())\n",
    "for key in keys:\n",
    "    if any(\n",
    "        [\n",
    "            chars in key\n",
    "            for chars in [\n",
    "                \"fpr\",\n",
    "                \"tpr\",\n",
    "                \"fnr\",\n",
    "                \"tnr\",\n",
    "                \"threshold\",\n",
    "                \"fraction_pos\",\n",
    "                \"mean_pred_value\",\n",
    "                \"subjects\",\n",
    "                \"y_pred_proba\",\n",
    "                \"importances\",\n",
    "                \"train\",\n",
    "            ]\n",
    "        ]\n",
    "    ):\n",
    "        temp_scores.pop(key)\n",
    "score_df = pd.DataFrame(temp_scores)\n",
    "\n",
    "display(score_df.head())"
   ]
  },
  {
   "cell_type": "code",
   "execution_count": 179,
   "id": "5fbf2edc-58b2-45dd-ac19-2b5a3fd95c3c",
   "metadata": {},
   "outputs": [],
   "source": [
    "score_df.describe().to_csv(f\"~/Downloads/{clf_name}_mtry=2n_{feature_set}_meansstd.csv\")"
   ]
  },
  {
   "cell_type": "markdown",
   "id": "2ca8309d-d1cb-4c04-85dd-8834e452570f",
   "metadata": {},
   "source": [
    "## Making ROC Curve With Confidence Interval"
   ]
  },
  {
   "cell_type": "code",
   "execution_count": 34,
   "id": "38e23c64-203d-42df-aabf-68dff8ee6b9b",
   "metadata": {},
   "outputs": [
    {
     "data": {
      "image/png": "[encoded data removed]",
      "text/plain": [
       "<Figure size 432x288 with 1 Axes>"
      ]
     },
     "metadata": {
      "needs_background": "light"
     },
     "output_type": "display_data"
    }
   ],
   "source": [
    "fig, ax = plt.subplots()\n",
    "\n",
    "for idx in range(n_splits):\n",
    "    fpr = scores[f\"{which_set}_fpr\"][idx]\n",
    "    tpr = scores[f\"{which_set}_tpr\"][idx]\n",
    "\n",
    "    ax.plot(fpr, tpr, color=\"b\", lw=2, alpha=0.5)\n",
    "\n",
    "ax.plot([0, 1], [0, 1], linestyle=\"--\", lw=2, color=\"r\", label=\"Chance\", alpha=0.8)\n",
    "ax.plot(\n",
    "    mean_fpr,\n",
    "    mean_tpr,\n",
    "    color=\"b\",\n",
    "    label=r\"Mean ROC (AUC = %0.2f $\\pm$ %0.2f)\" % (mean_auc, std_auc),\n",
    "    lw=2,\n",
    "    alpha=0.8,\n",
    ")\n",
    "\n",
    "\n",
    "ax.fill_between(\n",
    "    mean_fpr,\n",
    "    tprs_lower,\n",
    "    tprs_upper,\n",
    "    color=\"grey\",\n",
    "    alpha=0.2,\n",
    "    label=r\"$\\pm$ 1 std. dev.\",\n",
    ")\n",
    "ax.set(\n",
    "    xlim=[-0.05, 1.05],\n",
    "    ylim=[-0.05, 1.05],\n",
    "    title=f\"Receiver operating characteristic curve {which_set} set - {feature_set}\",\n",
    ")\n",
    "ax.legend(loc=\"lower right\")\n",
    "plt.show()"
   ]
  },
  {
   "cell_type": "markdown",
   "id": "224610e2-e596-4c6d-90cb-e169ce4e4b53",
   "metadata": {},
   "source": [
    "## Plotting Predicted Probability of Success Scores"
   ]
  },
  {
   "cell_type": "code",
   "execution_count": 43,
   "id": "7e5e80fe-1b49-43c9-804d-cd3feaf140c6",
   "metadata": {},
   "outputs": [],
   "source": [
    "y_probas = []\n",
    "subj_list = []\n",
    "outcomes = []\n",
    "centers = []\n",
    "folds = []\n",
    "engels = []\n",
    "ilaes = []\n",
    "\n",
    "for idx in range(n_splits):\n",
    "    y_pred_proba = scores[f\"{which_set}_y_pred_proba\"][idx]\n",
    "    cv_subjects = scores[f\"{which_set}_subjects\"][idx]\n",
    "    for subject in cv_subjects:\n",
    "        outcome = meta_df[meta_df[\"patient_id\"] == subject][\"outcome\"].values[0]\n",
    "        outcomes.append(outcome)\n",
    "\n",
    "        engel = meta_df[meta_df[\"patient_id\"] == subject][\"engel_score\"].values[0]\n",
    "        engels.append(engel)\n",
    "\n",
    "        ilae = meta_df[meta_df[\"patient_id\"] == subject][\"ilae_score\"].values[0]\n",
    "        ilaes.append(ilae)\n",
    "\n",
    "        center = meta_df[meta_df[\"patient_id\"] == subject][\"clinical_center\"].values[0]\n",
    "        centers.append(center)\n",
    "\n",
    "    y_probas.extend(y_pred_proba)\n",
    "    subj_list.extend(cv_subjects)\n",
    "    folds.extend([idx] * len(cv_subjects))"
   ]
  },
  {
   "cell_type": "code",
   "execution_count": 44,
   "id": "238a2588-1849-41fe-9ace-8ed352597c1c",
   "metadata": {},
   "outputs": [
    {
     "data": {
      "text/html": [
       "<div>\n",
       "<style scoped>\n",
       "    .dataframe tbody tr th:only-of-type {\n",
       "        vertical-align: middle;\n",
       "    }\n",
       "\n",
       "    .dataframe tbody tr th {\n",
       "        vertical-align: top;\n",
       "    }\n",
       "\n",
       "    .dataframe thead th {\n",
       "        text-align: right;\n",
       "    }\n",
       "</style>\n",
       "<table border=\"1\" class=\"dataframe\">\n",
       "  <thead>\n",
       "    <tr style=\"text-align: right;\">\n",
       "      <th></th>\n",
       "      <th>y_proba</th>\n",
       "      <th>subject</th>\n",
       "      <th>outcome</th>\n",
       "      <th>engel</th>\n",
       "      <th>ilae</th>\n",
       "      <th>center</th>\n",
       "      <th>fold</th>\n",
       "    </tr>\n",
       "  </thead>\n",
       "  <tbody>\n",
       "    <tr>\n",
       "      <th>0</th>\n",
       "      <td>0.609425</td>\n",
       "      <td>PY19N023</td>\n",
       "      <td>S</td>\n",
       "      <td>1</td>\n",
       "      <td>1.0</td>\n",
       "      <td>jhu</td>\n",
       "      <td>0</td>\n",
       "    </tr>\n",
       "    <tr>\n",
       "      <th>1</th>\n",
       "      <td>0.335533</td>\n",
       "      <td>la16</td>\n",
       "      <td>F</td>\n",
       "      <td>4</td>\n",
       "      <td>5.0</td>\n",
       "      <td>cc</td>\n",
       "      <td>0</td>\n",
       "    </tr>\n",
       "    <tr>\n",
       "      <th>2</th>\n",
       "      <td>0.292</td>\n",
       "      <td>rns015</td>\n",
       "      <td>F</td>\n",
       "      <td>2</td>\n",
       "      <td>NaN</td>\n",
       "      <td>miami</td>\n",
       "      <td>0</td>\n",
       "    </tr>\n",
       "    <tr>\n",
       "      <th>3</th>\n",
       "      <td>0.653967</td>\n",
       "      <td>upmc3</td>\n",
       "      <td>F</td>\n",
       "      <td>2</td>\n",
       "      <td>3.0</td>\n",
       "      <td>upmc</td>\n",
       "      <td>0</td>\n",
       "    </tr>\n",
       "    <tr>\n",
       "      <th>4</th>\n",
       "      <td>0.551758</td>\n",
       "      <td>la21</td>\n",
       "      <td>S</td>\n",
       "      <td>1</td>\n",
       "      <td>1.0</td>\n",
       "      <td>cc</td>\n",
       "      <td>0</td>\n",
       "    </tr>\n",
       "  </tbody>\n",
       "</table>\n",
       "</div>"
      ],
      "text/plain": [
       "    y_proba   subject outcome engel ilae center fold\n",
       "0  0.609425  PY19N023       S     1  1.0    jhu    0\n",
       "1  0.335533      la16       F     4  5.0     cc    0\n",
       "2     0.292    rns015       F     2  NaN  miami    0\n",
       "3  0.653967     upmc3       F     2  3.0   upmc    0\n",
       "4  0.551758      la21       S     1  1.0     cc    0"
      ]
     },
     "metadata": {},
     "output_type": "display_data"
    }
   ],
   "source": [
    "proba_df = pd.DataFrame(\n",
    "    (y_probas, subj_list, outcomes, engels, ilaes, centers, folds)\n",
    ").T\n",
    "proba_df.columns = [\"y_proba\", \"subject\", \"outcome\", \"engel\", \"ilae\", \"center\", \"fold\"]\n",
    "\n",
    "display(proba_df.head())"
   ]
  },
  {
   "cell_type": "code",
   "execution_count": 55,
   "id": "a2459534-d03e-453a-b8b8-3cbfc5dafd31",
   "metadata": {},
   "outputs": [
    {
     "data": {
      "text/plain": [
       "<AxesSubplot:xlabel='outcome', ylabel='y_proba'>"
      ]
     },
     "execution_count": 55,
     "metadata": {},
     "output_type": "execute_result"
    },
    {
     "data": {
      "image/png": "[encoded data removed]",
      "text/plain": [
       "<Figure size 504x360 with 1 Axes>"
      ]
     },
     "metadata": {
      "needs_background": "light"
     },
     "output_type": "display_data"
    }
   ],
   "source": [
    "fig, ax = plt.subplots(figsize=(7, 5))\n",
    "# sns.stripplot(x=\"outcome\", y=\"y_proba\", hue=\"center\", data=proba_df, ax=ax)\n",
    "sns.boxplot(x=\"outcome\", y=\"y_proba\", data=proba_df, ax=ax, boxprops=dict(alpha=0.4))\n",
    "sns.swarmplot(x=\"outcome\", y=\"y_proba\", hue=\"center\", data=proba_df, ax=ax)"
   ]
  },
  {
   "cell_type": "code",
   "execution_count": 46,
   "id": "7686154d-bcc7-40a3-9c14-0320819998df",
   "metadata": {},
   "outputs": [
    {
     "data": {
      "text/plain": [
       "<matplotlib.legend.Legend at 0x16c0f0700>"
      ]
     },
     "execution_count": 46,
     "metadata": {},
     "output_type": "execute_result"
    },
    {
     "data": {
      "image/png": "[encoded data removed]",
      "text/plain": [
       "<Figure size 504x360 with 1 Axes>"
      ]
     },
     "metadata": {
      "needs_background": "light"
     },
     "output_type": "display_data"
    }
   ],
   "source": [
    "fig, ax = plt.subplots(figsize=(7, 5))\n",
    "sns.stripplot(x=\"center\", y=\"y_proba\", hue=\"outcome\", data=proba_df, ax=ax)\n",
    "ax.axhline([0.5], ls=\"--\", label=\"decision boundary\")\n",
    "ax.legend()\n",
    "# sns.boxplot(x=\"outcome\", y=\"y_proba\", hue=\"fold\", data=proba_df, ax=ax)"
   ]
  },
  {
   "cell_type": "code",
   "execution_count": 53,
   "id": "80073cc5-ae6d-480d-af5c-284d99e542fb",
   "metadata": {},
   "outputs": [
    {
     "data": {
      "text/plain": [
       "<matplotlib.legend.Legend at 0x16831da90>"
      ]
     },
     "execution_count": 53,
     "metadata": {},
     "output_type": "execute_result"
    },
    {
     "data": {
      "image/png": "[encoded data removed]",
      "text/plain": [
       "<Figure size 504x360 with 1 Axes>"
      ]
     },
     "metadata": {
      "needs_background": "light"
     },
     "output_type": "display_data"
    }
   ],
   "source": [
    "fig, ax = plt.subplots(figsize=(7, 5))\n",
    "sns.boxplot(x=\"engel\", y=\"y_proba\", data=proba_df, ax=ax, boxprops=dict(alpha=0.4))\n",
    "sns.swarmplot(x=\"engel\", y=\"y_proba\", hue=\"outcome\", data=proba_df, ax=ax)\n",
    "ax.axhline([0.5], ls=\"--\", label=\"decision boundary\")\n",
    "ax.legend()\n",
    "# sns.boxplot(x=\"outcome\", y=\"y_proba\", hue=\"fold\", data=proba_df, ax=ax)"
   ]
  },
  {
   "cell_type": "code",
   "execution_count": 52,
   "id": "0718b27c-32d5-472e-968f-af15256b4fe5",
   "metadata": {},
   "outputs": [
    {
     "data": {
      "text/plain": [
       "<matplotlib.legend.Legend at 0x16e6c5760>"
      ]
     },
     "execution_count": 52,
     "metadata": {},
     "output_type": "execute_result"
    },
    {
     "data": {
      "image/png": "[encoded data removed]",
      "text/plain": [
       "<Figure size 504x360 with 1 Axes>"
      ]
     },
     "metadata": {
      "needs_background": "light"
     },
     "output_type": "display_data"
    }
   ],
   "source": [
    "fig, ax = plt.subplots(figsize=(7, 5))\n",
    "sns.boxplot(x=\"ilae\", y=\"y_proba\", data=proba_df, ax=ax, boxprops=dict(alpha=0.4))\n",
    "sns.swarmplot(x=\"ilae\", y=\"y_proba\", hue=\"outcome\", data=proba_df, ax=ax)\n",
    "ax.axhline([0.5], ls=\"--\", label=\"decision boundary\")\n",
    "ax.legend()\n",
    "# sns.boxplot(x=\"outcome\", y=\"y_proba\", hue=\"fold\", data=proba_df, ax=ax)"
   ]
  },
  {
   "cell_type": "code",
   "execution_count": 56,
   "id": "4c51a8dc-2705-4db5-9ecf-2354916ee627",
   "metadata": {},
   "outputs": [
    {
     "data": {
      "text/plain": [
       "<AxesSubplot:xlabel='outcome', ylabel='y_proba'>"
      ]
     },
     "execution_count": 56,
     "metadata": {},
     "output_type": "execute_result"
    },
    {
     "data": {
      "image/png": "[encoded data removed]",
      "text/plain": [
       "<Figure size 504x360 with 1 Axes>"
      ]
     },
     "metadata": {
      "needs_background": "light"
     },
     "output_type": "display_data"
    }
   ],
   "source": [
    "fig, ax = plt.subplots(figsize=(7, 5))\n",
    "# sns.stripplot(x=\"center\", y=\"y_proba\", hue=\"outcome\", data=proba_df, ax=ax)\n",
    "ax.axhline([0.5], ls=\"--\", label=\"decision boundary\")\n",
    "ax.legend()\n",
    "sns.boxplot(x=\"outcome\", y=\"y_proba\", hue=\"fold\", data=proba_df, ax=ax)"
   ]
  },
  {
   "cell_type": "markdown",
   "id": "1beac1a5-98e9-46e7-8c70-33989ae171eb",
   "metadata": {},
   "source": [
    "## Plotting Calibration Curve"
   ]
  },
  {
   "cell_type": "code",
   "execution_count": 184,
   "id": "3e8fea93-c063-4e34-a7fb-d7ab5e6b09d2",
   "metadata": {},
   "outputs": [],
   "source": [
    "mean_brier = np.mean(scores[\"test_neg_brier_score\"])\n",
    "std_brier = np.std(scores[\"test_neg_brier_score\"])"
   ]
  },
  {
   "cell_type": "code",
   "execution_count": 185,
   "id": "a037dcd4-7794-4784-b31f-34874fad9800",
   "metadata": {},
   "outputs": [
    {
     "data": {
      "image/png": "[encoded data removed]",
      "text/plain": [
       "<Figure size 432x288 with 1 Axes>"
      ]
     },
     "metadata": {
      "needs_background": "light"
     },
     "output_type": "display_data"
    }
   ],
   "source": [
    "frac_pred_vals = []\n",
    "mean_pred_values = np.linspace(0, 1.0, 200)\n",
    "\n",
    "fig, ax = plt.subplots()\n",
    "color = \"blue\"\n",
    "for idx in range(n_splits):\n",
    "    y_pred_proba = scores[f\"{which_set}_y_pred_proba\"][idx]\n",
    "\n",
    "    mean_predicted_value = scores[f\"{which_set}_mean_pred_value\"][idx]\n",
    "    fraction_of_positives = scores[f\"{which_set}_fraction_pos\"][idx]\n",
    "\n",
    "    # create a linear interpolation of the calibration\n",
    "    interp_frac_positives = np.interp(\n",
    "        mean_pred_values, mean_predicted_value, fraction_of_positives\n",
    "    )\n",
    "\n",
    "    # store curves\n",
    "    frac_pred_vals.append(interp_frac_positives)\n",
    "#     ax.plot(mean_pred_values, interp_frac_positives, \"s-\", alpha=0.5)\n",
    "\n",
    "# get the mean calibration curve\n",
    "mean_frac_pred_values = np.mean(frac_pred_vals, axis=0)\n",
    "ax.plot(\n",
    "    mean_pred_values,\n",
    "    mean_frac_pred_values,\n",
    "    \"s-\",\n",
    "    label=rf\"({np.round(mean_brier,3)} $\\pm$ {np.round(std_brier, 3)}\",\n",
    ")\n",
    "\n",
    "# get upper and lower bound for tpr\n",
    "std_fpv = np.std(frac_pred_vals, axis=0)\n",
    "tprs_upper = np.minimum(mean_frac_pred_values + std_fpv, 1)\n",
    "tprs_lower = np.maximum(mean_frac_pred_values - std_fpv, 0)\n",
    "ax.fill_between(\n",
    "    mean_pred_values,\n",
    "    tprs_lower,\n",
    "    tprs_upper,\n",
    "    color=color,\n",
    "    alpha=0.2,\n",
    "    # label=r\"$\\pm$ 1 std. dev.\",\n",
    ")\n",
    "ax.plot([0, 1], [0, 1], \"k:\", label=\"Perfectly calibrated\")\n",
    "\n",
    "\n",
    "ax.set(\n",
    "    ylabel=\"Fraction of Success Outcomes\",\n",
    "    ylim=[-0.05, 1.05],\n",
    "    xlabel=\"Mean Predicted Success Probabilities of Subjects\",\n",
    "    title=\"Calibration (Reliability) Curve\",\n",
    ")\n",
    "\n",
    "ax.legend(loc=\"lower right\")\n",
    "plt.show()"
   ]
  },
  {
   "cell_type": "markdown",
   "id": "6f30fd6f-768b-4696-8516-8a22d2e95975",
   "metadata": {},
   "source": [
    "# Run McNemar's Test Comparing HFO Rate Classifier vs Source-Sink Classifier"
   ]
  },
  {
   "cell_type": "code",
   "execution_count": null,
   "id": "c4f17d76-a66b-48ec-a5d7-a5a08b674320",
   "metadata": {},
   "outputs": [],
   "source": []
  }
 ],
 "metadata": {
  "kernelspec": {
   "display_name": "sklearn",
   "language": "python",
   "name": "sklearn"
  },
  "language_info": {
   "codemirror_mode": {
    "name": "ipython",
    "version": 3
   },
   "file_extension": ".py",
   "mimetype": "text/x-python",
   "name": "python",
   "nbconvert_exporter": "python",
   "pygments_lexer": "ipython3",
   "version": "3.9.4"
  }
 },
 "nbformat": 4,
 "nbformat_minor": 5
}
