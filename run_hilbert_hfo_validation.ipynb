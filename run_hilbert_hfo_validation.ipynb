{
 "cells": [
  {
   "cell_type": "markdown",
   "id": "0c5d28fe-f9ba-40db-b346-d95aaac86cec",
   "metadata": {},
   "source": [
    "# Hilbert HFO Analysis\n",
    "\n",
    "Per reviewer comments, they were interested in seeing alternative HFO detectors."
   ]
  },
  {
   "cell_type": "code",
   "execution_count": 1,
   "id": "c86eb1a3-171d-4660-9f7b-5d876d856e4b",
   "metadata": {},
   "outputs": [
    {
     "name": "stdout",
     "output_type": "stream",
     "text": [
      "\n",
      "     active environment : base\n",
      "    active env location : /Users/adam2392/miniconda3\n",
      "            shell level : 1\n",
      "       user config file : /Users/adam2392/.condarc\n",
      " populated config files : /Users/adam2392/.condarc\n",
      "          conda version : 4.12.0\n",
      "    conda-build version : not installed\n",
      "         python version : 3.9.10.final.0\n",
      "       virtual packages : __osx=11.6=0\n",
      "                          __unix=0=0\n",
      "                          __archspec=1=x86_64\n",
      "       base environment : /Users/adam2392/miniconda3  (writable)\n",
      "      conda av data dir : /Users/adam2392/miniconda3/etc/conda\n",
      "  conda av metadata url : None\n",
      "           channel URLs : https://conda.anaconda.org/conda-forge/osx-64\n",
      "                          https://conda.anaconda.org/conda-forge/noarch\n",
      "          package cache : /Users/adam2392/miniconda3/pkgs\n",
      "                          /Users/adam2392/.conda/pkgs\n",
      "       envs directories : /Users/adam2392/miniconda3/envs\n",
      "                          /Users/adam2392/.conda/envs\n",
      "               platform : osx-64\n",
      "             user-agent : conda/4.12.0 requests/2.27.1 CPython/3.9.10 Darwin/20.6.0 OSX/11.6\n",
      "                UID:GID : 501:20\n",
      "             netrc file : None\n",
      "           offline mode : False\n",
      "\n"
     ]
    }
   ],
   "source": [
    "!conda info"
   ]
  },
  {
   "cell_type": "code",
   "execution_count": 2,
   "id": "61aa5384-8dfe-49b6-8ab7-e6dab4c4d2ef",
   "metadata": {},
   "outputs": [],
   "source": [
    "%load_ext lab_black"
   ]
  },
  {
   "cell_type": "code",
   "execution_count": 3,
   "id": "9a6b5831-3241-435a-ba9b-8b550a741eef",
   "metadata": {},
   "outputs": [],
   "source": [
    "import numpy as np\n",
    "import scipy\n",
    "import scipy.io\n",
    "import pandas as pd\n",
    "from pathlib import Path\n",
    "import os\n",
    "import collections\n",
    "from natsort import natsorted\n",
    "import json\n",
    "import pickle\n",
    "\n",
    "from sklearn.preprocessing import OrdinalEncoder\n",
    "from sklearn.dummy import DummyClassifier\n",
    "from sklearn.ensemble import RandomForestClassifier\n",
    "from sklearn.linear_model import LogisticRegression\n",
    "from sklearn.calibration import calibration_curve\n",
    "from sklearn.metrics import (\n",
    "    brier_score_loss,\n",
    "    roc_curve,\n",
    "    average_precision_score,\n",
    "    roc_auc_score,\n",
    "    f1_score,\n",
    "    balanced_accuracy_score,\n",
    "    accuracy_score,\n",
    "    auc,\n",
    "    plot_precision_recall_curve,\n",
    "    average_precision_score,\n",
    "    precision_recall_curve,\n",
    "    confusion_matrix,\n",
    ")\n",
    "from sklearn.inspection import permutation_importance\n",
    "from sklearn.model_selection import (\n",
    "    GroupKFold,\n",
    "    GroupShuffleSplit,\n",
    "    StratifiedShuffleSplit,\n",
    "    ShuffleSplit,\n",
    "    cross_validate,\n",
    ")\n",
    "from sklearn.utils import resample\n",
    "\n",
    "from mne_bids import BIDSPath, get_entities_from_fname, get_entity_vals\n",
    "\n",
    "from rerf.rerfClassifier import rerfClassifier\n",
    "\n",
    "# from oblique_forests.sporf import ObliqueForestClassifier\n",
    "\n",
    "import matplotlib as mpl\n",
    "import matplotlib.pyplot as plt\n",
    "import seaborn as sns"
   ]
  },
  {
   "cell_type": "code",
   "execution_count": 4,
   "id": "07b138c9-5c83-402b-b816-6d8d05c0a928",
   "metadata": {},
   "outputs": [],
   "source": [
    "class NumpyEncoder(json.JSONEncoder):\n",
    "    \"\"\"Special json encoder for numpy types.\n",
    "\n",
    "    Pass to json.dump(), or json.load().\n",
    "    \"\"\"\n",
    "\n",
    "    def default(self, obj):  # noqa\n",
    "        if isinstance(\n",
    "            obj,\n",
    "            (\n",
    "                np.int_,\n",
    "                np.intc,\n",
    "                np.intp,\n",
    "                np.int8,\n",
    "                np.int16,\n",
    "                np.int32,\n",
    "                np.int64,\n",
    "                np.uint8,\n",
    "                np.uint16,\n",
    "                np.uint32,\n",
    "                np.uint64,\n",
    "            ),\n",
    "        ):\n",
    "            return int(obj)\n",
    "        elif isinstance(obj, (np.float_, np.float16, np.float32, np.float64)):\n",
    "            return float(obj)\n",
    "        elif isinstance(obj, (np.ndarray,)):  # This is the fix\n",
    "            return obj.tolist()\n",
    "        elif isinstance(obj, (datetime, date)):\n",
    "            return obj.isoformat()\n",
    "        return json.JSONEncoder.default(self, obj)"
   ]
  },
  {
   "cell_type": "code",
   "execution_count": 5,
   "id": "8688ba66-e312-4ede-9bfc-f57c6fe15da8",
   "metadata": {},
   "outputs": [],
   "source": [
    "from sklearn import preprocessing\n",
    "\n",
    "enc = preprocessing.OrdinalEncoder()"
   ]
  },
  {
   "cell_type": "code",
   "execution_count": 6,
   "id": "853bedf7-be30-47d1-acd9-fbefebaa30b9",
   "metadata": {},
   "outputs": [],
   "source": [
    "class MatReader:\n",
    "    \"\"\"\n",
    "    Object to read mat files into a nested dictionary if need be.\n",
    "    Helps keep strucutre from matlab similar to what is used in python.\n",
    "    \"\"\"\n",
    "\n",
    "    def __init__(self, filename=None):\n",
    "        self.filename = filename\n",
    "\n",
    "    def loadmat(self, filename):\n",
    "        \"\"\"\n",
    "        this function should be called instead of direct spio.loadmat\n",
    "        as it cures the problem of not properly recovering python dictionaries\n",
    "        from mat files. It calls the function check keys to cure all entries\n",
    "        which are still mat-objects\n",
    "        \"\"\"\n",
    "        try:\n",
    "            data = scipy.io.loadmat(\n",
    "                filename, struct_as_record=False, squeeze_me=True, chars_as_strings=True\n",
    "            )\n",
    "        except NotImplementedError as e:\n",
    "            print(e)\n",
    "            data = hdf5storage.loadmat(filename)\n",
    "        return self._check_keys(data)\n",
    "\n",
    "    def _check_keys(self, dict):\n",
    "        \"\"\"\n",
    "        checks if entries in dictionary are mat-objects. If yes\n",
    "        todict is called to change them to nested dictionaries\n",
    "        \"\"\"\n",
    "        for key in dict:\n",
    "            if isinstance(dict[key], scipy.io.matlab.mio5_params.mat_struct):\n",
    "                dict[key] = self._todict(dict[key])\n",
    "        return dict\n",
    "\n",
    "    def _todict(self, matobj):\n",
    "        \"\"\"\n",
    "        A recursive function which constructs from matobjects nested dictionaries\n",
    "        \"\"\"\n",
    "        dict = {}\n",
    "        for strg in matobj._fieldnames:\n",
    "            elem = matobj.__dict__[strg]\n",
    "            if isinstance(elem, scipy.io.matlab.mio5_params.mat_struct):\n",
    "                dict[strg] = self._todict(elem)\n",
    "            elif isinstance(elem, np.ndarray):\n",
    "                dict[strg] = self._tolist(elem)\n",
    "            else:\n",
    "                dict[strg] = elem\n",
    "        return dict\n",
    "\n",
    "    def _tolist(self, ndarray):\n",
    "        \"\"\"\n",
    "        A recursive function which constructs lists from cellarrays\n",
    "        (which are loaded as numpy ndarrays), recursing into the elements\n",
    "        if they contain matobjects.\n",
    "        \"\"\"\n",
    "        elem_list = []\n",
    "        for sub_elem in ndarray:\n",
    "            if isinstance(sub_elem, scipy.io.matlab.mio5_params.mat_struct):\n",
    "                elem_list.append(self._todict(sub_elem))\n",
    "            elif isinstance(sub_elem, np.ndarray):\n",
    "                elem_list.append(self._tolist(sub_elem))\n",
    "            else:\n",
    "                elem_list.append(sub_elem)\n",
    "        return elem_list"
   ]
  },
  {
   "cell_type": "code",
   "execution_count": 7,
   "id": "26cf4659-ed83-4a99-b789-afb508f90908",
   "metadata": {},
   "outputs": [],
   "source": [
    "def plot_subject_feature_map(dataset, desired_subject, feature_name):\n",
    "    for idx, subject in enumerate(dataset[\"subject\"]):\n",
    "        # get the index of the subject\n",
    "        if subject != desired_subject:\n",
    "            continue\n",
    "\n",
    "        # get the metadata\n",
    "        soz_chs = dataset[\"soz_chs\"][idx]\n",
    "        ch_names = dataset[\"ch_names\"][idx]\n",
    "        soz_inds = [idx for idx, ch in enumerate(ch_names) if ch in soz_chs]\n",
    "        nsoz_inds = [idx for idx in range(len(ch_names)) if idx not in soz_inds]\n",
    "\n",
    "        # get the data\n",
    "        feature_map = dataset[feature_name][idx]\n",
    "\n",
    "        # stratify data into two sets of signals\n",
    "        soz_feat = feature_map[soz_inds, :]\n",
    "        nsoz_feat = feature_map[nsoz_inds, :]\n",
    "\n",
    "        x = np.arange(soz_feat.shape[1])\n",
    "\n",
    "        sns.set_context(\"paper\", font_scale=1.75)\n",
    "        fig, ax = plt.subplots()\n",
    "        #     plt.tick_params(labelsize=14)\n",
    "        y_mean = soz_feat.mean(axis=0)\n",
    "        y_sem = scipy.stats.sem(soz_feat, axis=0)\n",
    "        ax.plot(x, y_mean, label=\"soz\", color=\"red\")\n",
    "        ax.fill_between(x, y_mean - y_sem, y_mean + y_sem, color=\"red\", alpha=0.5)\n",
    "\n",
    "        y_mean = nsoz_feat.mean(axis=0)\n",
    "        y_sem = scipy.stats.sem(nsoz_feat, axis=0)\n",
    "        ax.plot(x, y_mean, label=\"soz^c\", color=\"black\")\n",
    "        ax.fill_between(x, y_mean - y_sem, y_mean + y_sem, color=\"black\", alpha=0.5)\n",
    "\n",
    "        ax.set(\n",
    "            title=f\"Subject {subject} - {feature_name}\",\n",
    "            xlabel=\"Time (A.U.)\",\n",
    "            ylabel=f\"{feature_name} Value\",\n",
    "            #         font_size=20,\n",
    "        )\n",
    "        ax.legend()\n",
    "        break"
   ]
  },
  {
   "cell_type": "markdown",
   "id": "cebaa83f-4565-409b-9445-b853a1ed1e30",
   "metadata": {},
   "source": [
    "# Setup Data Directory"
   ]
  },
  {
   "cell_type": "code",
   "execution_count": 8,
   "id": "976707e8-7232-4e43-90e8-25c1b5f02237",
   "metadata": {},
   "outputs": [],
   "source": [
    "root = Path(\"/Users/adam2392/OneDrive - Johns Hopkins/epilepsy_interictal\")\n",
    "# root = Path(\"/home/adam2392/hdd/Dropbox/epilepsy_interictal\")\n",
    "deriv_root = root / \"derivatives\"\n",
    "source_root = root / \"sourcedata\"\n",
    "\n",
    "session = \"presurgery\"\n",
    "task = \"interictal\"\n",
    "acquisition = \"seeg\"  # note not all subjects are actually sEEG\n",
    "reference = \"car\"\n",
    "deriv_chain = Path(\"sourcesink\") / reference / \"remove_artifact_wins\"\n",
    "\n",
    "deriv_path = deriv_root / deriv_chain"
   ]
  },
  {
   "cell_type": "code",
   "execution_count": 9,
   "id": "5c9d1f4f-7b46-45cd-8e67-c458976cd9eb",
   "metadata": {},
   "outputs": [],
   "source": [
    "meta_fpath = source_root / \"ieeg_database_all.xlsx\""
   ]
  },
  {
   "cell_type": "code",
   "execution_count": 10,
   "id": "ab973403-7045-4f9c-8c6c-eef403ec40b5",
   "metadata": {},
   "outputs": [
    {
     "name": "stdout",
     "output_type": "stream",
     "text": [
      "['002', '003', '004', '005', '006', '009', '011', '013', '014', '015', 'NIH1', 'NIH2', 'NIH3', 'NIH4', 'NIH5', 'NIH7', 'NIH8', 'NIH9', 'NIH10', 'NIH11', 'PY18N002', 'PY18N013', 'PY18N015', 'PY19N012', 'PY19N015', 'PY19N023', 'PY19N026', 'la01', 'la02', 'la03', 'la04', 'la05', 'la06', 'la07', 'la08', 'la09', 'la10', 'la11', 'la13', 'la15', 'la16', 'la21', 'la22', 'la23', 'la24', 'nl01', 'nl02', 'nl04', 'nl05', 'nl06', 'nl07', 'nl08', 'nl11', 'nl12', 'nl13', 'nl14', 'nl15', 'nl16', 'nl18', 'nl19', 'nl20', 'pt1', 'pt2', 'pt3', 'pt4', 'pt5', 'pt6', 'pt7', 'pt8', 'pt9', 'pt10', 'pt11', 'pt12', 'pt13', 'upmc1', 'upmc2', 'upmc3', 'upmc5', 'upmc6']\n"
     ]
    }
   ],
   "source": [
    "subjects = natsorted(get_entity_vals(deriv_path, \"subject\"))\n",
    "print(subjects)"
   ]
  },
  {
   "cell_type": "code",
   "execution_count": 11,
   "id": "f23e7cf9-1a0a-48f1-b00e-f8c60c246ec5",
   "metadata": {},
   "outputs": [
    {
     "name": "stdout",
     "output_type": "stream",
     "text": [
      "['005', '014', 'PY19N012', 'PY19N026', 'la01', 'la07', 'nl02', 'nl06', 'nl11', 'pt2', 'pt5', 'pt7', 'pt9']\n",
      "['la02', 'la03', 'la04', 'la05', 'la06', 'la08', 'la09', 'la10', 'la11', 'la13', 'la15', 'la16', 'la21', 'la22', 'la23', 'la24', 'nl01', 'nl04', 'nl05', 'nl07', 'nl08', 'nl12', 'nl13', 'nl14', 'nl15', 'nl16', 'nl18', 'nl19', 'nl20', 'pt1', 'pt3', 'pt4', 'pt6', 'pt8', 'pt10', 'pt11', 'pt12', 'pt13', 'PY18N002', 'PY18N013', 'PY18N015', 'PY19N015', 'PY19N023', '002', '003', '004', '006', '009', '011', '013', '015', 'NIH2', 'NIH3', 'NIH4', 'NIH5', 'NIH7', 'NIH8', 'NIH9', 'NIH10', 'NIH11', 'upmc1', 'upmc2', 'upmc3', 'upmc5', 'upmc6']\n"
     ]
    }
   ],
   "source": [
    "# subjects given by Kristin/Group to use\n",
    "subjects_str = (\n",
    "    \"la02, la03, la04, la05, la06, la08, la09, la10, la11, la13, la15, la16, la21, la22, la23, la24, nl01, nl04, nl05, nl07, nl08, nl12, nl13, nl14, nl15, nl16, nl18, nl19, \"\n",
    "    \"nl20, pt1, pt3, pt4, pt6, pt8, pt10, pt11, pt12, pt13, PY18N002, PY18N013, PY18N015, PY19N015, PY19N023, 002, 003, 004, 006, 009, 011, 013, 015, NIH2, NIH3, NIH4, NIH5, NIH7, NIH8, \"\n",
    "    \"NIH9, NIH10, NIH11, upmc1, upmc2, upmc3, upmc5, upmc6\"\n",
    ")\n",
    "print([sub for sub in subjects if sub not in subjects_str])\n",
    "subjects = subjects_str.split(\", \")\n",
    "print(subjects)"
   ]
  },
  {
   "cell_type": "markdown",
   "id": "8a6dc1d7-756a-4476-8e83-4bbd0df70db7",
   "metadata": {},
   "source": [
    "## Obtain Labels Using Excel Sheet"
   ]
  },
  {
   "cell_type": "code",
   "execution_count": 12,
   "id": "df5e105b-4ed2-414d-b223-899fdb20aa9b",
   "metadata": {},
   "outputs": [
    {
     "data": {
      "text/html": [
       "<div>\n",
       "<style scoped>\n",
       "    .dataframe tbody tr th:only-of-type {\n",
       "        vertical-align: middle;\n",
       "    }\n",
       "\n",
       "    .dataframe tbody tr th {\n",
       "        vertical-align: top;\n",
       "    }\n",
       "\n",
       "    .dataframe thead th {\n",
       "        text-align: right;\n",
       "    }\n",
       "</style>\n",
       "<table border=\"1\" class=\"dataframe\">\n",
       "  <thead>\n",
       "    <tr style=\"text-align: right;\">\n",
       "      <th></th>\n",
       "      <th>org_patientid</th>\n",
       "      <th>patient_id</th>\n",
       "      <th>number_datasets</th>\n",
       "      <th>clinical_center</th>\n",
       "      <th>modality</th>\n",
       "      <th>sfreq</th>\n",
       "      <th>previous_surgery?</th>\n",
       "      <th>clinical_complexity</th>\n",
       "      <th>engel_score</th>\n",
       "      <th>ilae_score</th>\n",
       "      <th>...</th>\n",
       "      <th>mri_outcome</th>\n",
       "      <th>postop_progress_info</th>\n",
       "      <th>date_of_recording</th>\n",
       "      <th>date_of_surgery</th>\n",
       "      <th>date_of_last_follow_up</th>\n",
       "      <th>years_follow_up</th>\n",
       "      <th>engel_class_full</th>\n",
       "      <th>notes</th>\n",
       "      <th>Unnamed: 38</th>\n",
       "      <th>Unnamed: 39</th>\n",
       "    </tr>\n",
       "  </thead>\n",
       "  <tbody>\n",
       "    <tr>\n",
       "      <th>0</th>\n",
       "      <td>NaN</td>\n",
       "      <td>la01</td>\n",
       "      <td>1</td>\n",
       "      <td>cc</td>\n",
       "      <td>seeg</td>\n",
       "      <td>1000</td>\n",
       "      <td>Y (SEEG implant 4/2013, craniotomy 4/2013)</td>\n",
       "      <td>4</td>\n",
       "      <td>4</td>\n",
       "      <td>4.0</td>\n",
       "      <td>...</td>\n",
       "      <td>Normal</td>\n",
       "      <td>Seizure free since surgery.</td>\n",
       "      <td>2013-04-10 02:11:44</td>\n",
       "      <td>2014-01-01 00:00:00</td>\n",
       "      <td>2019-10-01 00:00:00</td>\n",
       "      <td>5</td>\n",
       "      <td>NaN</td>\n",
       "      <td>NaN</td>\n",
       "      <td>NaN</td>\n",
       "      <td>NaN</td>\n",
       "    </tr>\n",
       "    <tr>\n",
       "      <th>1</th>\n",
       "      <td>NaN</td>\n",
       "      <td>la02</td>\n",
       "      <td>1</td>\n",
       "      <td>cc</td>\n",
       "      <td>seeg</td>\n",
       "      <td>1000</td>\n",
       "      <td>VNS implant 4/24/2014</td>\n",
       "      <td>1</td>\n",
       "      <td>1</td>\n",
       "      <td>1.0</td>\n",
       "      <td>...</td>\n",
       "      <td>Normal</td>\n",
       "      <td>Seizure free since surgery.</td>\n",
       "      <td>NaN</td>\n",
       "      <td>2015-02-01 00:00:00</td>\n",
       "      <td>2018-11-01 00:00:00</td>\n",
       "      <td>3</td>\n",
       "      <td>NaN</td>\n",
       "      <td>PPT says: Lesion?</td>\n",
       "      <td>NaN</td>\n",
       "      <td>NaN</td>\n",
       "    </tr>\n",
       "  </tbody>\n",
       "</table>\n",
       "<p>2 rows × 40 columns</p>\n",
       "</div>"
      ],
      "text/plain": [
       "  org_patientid patient_id  number_datasets clinical_center modality  sfreq  \\\n",
       "0           NaN       la01                1              cc     seeg   1000   \n",
       "1           NaN       la02                1              cc     seeg   1000   \n",
       "\n",
       "                            previous_surgery? clinical_complexity  \\\n",
       "0  Y (SEEG implant 4/2013, craniotomy 4/2013)                   4   \n",
       "1                       VNS implant 4/24/2014                   1   \n",
       "\n",
       "   engel_score  ilae_score  ... mri_outcome         postop_progress_info  \\\n",
       "0            4         4.0  ...      Normal  Seizure free since surgery.   \n",
       "1            1         1.0  ...      Normal  Seizure free since surgery.   \n",
       "\n",
       "     date_of_recording      date_of_surgery  date_of_last_follow_up  \\\n",
       "0  2013-04-10 02:11:44  2014-01-01 00:00:00     2019-10-01 00:00:00   \n",
       "1                  NaN  2015-02-01 00:00:00     2018-11-01 00:00:00   \n",
       "\n",
       "  years_follow_up engel_class_full              notes Unnamed: 38 Unnamed: 39  \n",
       "0               5              NaN                NaN         NaN         NaN  \n",
       "1               3              NaN  PPT says: Lesion?         NaN         NaN  \n",
       "\n",
       "[2 rows x 40 columns]"
      ]
     },
     "metadata": {},
     "output_type": "display_data"
    }
   ],
   "source": [
    "meta_df = pd.read_excel(meta_fpath)\n",
    "\n",
    "display(meta_df.head(2))"
   ]
  },
  {
   "cell_type": "markdown",
   "id": "93b7c511-792d-4d99-9b49-5fe5d5a34cfa",
   "metadata": {},
   "source": [
    "# Obtain HFO Data From Each File"
   ]
  },
  {
   "cell_type": "code",
   "execution_count": 13,
   "id": "b1f9ac10-e274-4d8b-9911-acab81e0483a",
   "metadata": {},
   "outputs": [],
   "source": [
    "deriv_chain = Path(\"hfo_detection\") / \"hilbert_detector\" / \"noref\"\n",
    "\n",
    "deriv_path = deriv_root / deriv_chain"
   ]
  },
  {
   "cell_type": "code",
   "execution_count": 14,
   "id": "f9fc1110-e44a-45d1-9d78-aed183effed7",
   "metadata": {
    "tags": []
   },
   "outputs": [],
   "source": [
    "dataset = collections.defaultdict(list)\n",
    "\n",
    "for subject in subjects:\n",
    "    subj_dir = deriv_path / f\"sub-{subject}\"\n",
    "    fpaths = subj_dir.glob(\"*.mat\")\n",
    "    for idx, fpath in enumerate(fpaths):\n",
    "        data_path = BIDSPath(\n",
    "            subject=subject,\n",
    "            session=session,\n",
    "            task=task,\n",
    "            acquisition=acquisition,\n",
    "            run=idx + 1,\n",
    "            suffix=\"hfo_rates\",\n",
    "            extension=\".mat\",\n",
    "            check=False,\n",
    "        )\n",
    "        #         print(f\"Reading {fpath}\")\n",
    "        reader = MatReader()\n",
    "        data_dict = reader.loadmat(fpath)\n",
    "\n",
    "        #         print(data_dict.keys())\n",
    "        ch_names = data_dict[\"labels\"]\n",
    "        soz_chs = data_dict[\"ez_ch\"]\n",
    "        # bip_ch_names = [\"-\".join(ch.tolist()) for ch in ch_names]\n",
    "        soz_chs = [ch for ch in ch_names if any(soz in ch for soz in soz_chs)]\n",
    "\n",
    "        hfo_rates = np.array(data_dict[\"hfo_rates\"])\n",
    "\n",
    "        dataset[\"subject\"].append(subject)\n",
    "        dataset[\"hfo_rates\"].append(hfo_rates)\n",
    "        dataset[\"ch_names\"].append(ch_names)\n",
    "        dataset[\"soz_chs\"].append(soz_chs)\n",
    "\n",
    "#         break\n",
    "\n",
    "#     break"
   ]
  },
  {
   "cell_type": "markdown",
   "id": "ce6c83a6-4cb4-4356-8bb1-672f1bf5d345",
   "metadata": {
    "tags": []
   },
   "source": [
    "# Define Cross Validation Function"
   ]
  },
  {
   "cell_type": "code",
   "execution_count": 15,
   "id": "a797392f-1cef-41b2-9fbb-5a2628c76147",
   "metadata": {
    "tags": []
   },
   "outputs": [],
   "source": [
    "n_splits = 10\n",
    "train_size = 0.7\n",
    "random_state = 12345\n",
    "\n",
    "subject_groups = np.array(subjects)"
   ]
  },
  {
   "cell_type": "code",
   "execution_count": 16,
   "id": "66dc755c-b933-411f-b38a-1d618131a7ca",
   "metadata": {
    "tags": []
   },
   "outputs": [],
   "source": [
    "cv = StratifiedShuffleSplit(\n",
    "    n_splits=n_splits, train_size=train_size, random_state=random_state\n",
    ")"
   ]
  },
  {
   "cell_type": "markdown",
   "id": "b59715cf-adf7-45be-a197-78bcdeded216",
   "metadata": {
    "tags": []
   },
   "source": [
    "# Define Functions to Get XY data"
   ]
  },
  {
   "cell_type": "code",
   "execution_count": 17,
   "id": "26bf8fc8-2a55-423d-8eb3-5d8eaeec1be0",
   "metadata": {},
   "outputs": [],
   "source": [
    "def get_Xy_vector(dataset, feature_set):\n",
    "    # create X, y pair for training\n",
    "    X = []\n",
    "    y = []\n",
    "    engels = []\n",
    "    ilaes = []\n",
    "    subjects = []\n",
    "\n",
    "    for idx, subject in enumerate(dataset[\"subject\"]):\n",
    "        if subject.startswith(\"pt\"):\n",
    "            subject = \"kumc\" + subject.split(\"pt\")[1]\n",
    "        elif subject.isnumeric():\n",
    "            subject = \"rns\" + subject\n",
    "\n",
    "        # get the metadata\n",
    "        soz_chs = dataset[\"soz_chs\"][idx]\n",
    "        ch_names = dataset[\"ch_names\"][idx]\n",
    "        soz_inds = [idx for idx, ch in enumerate(ch_names) if ch in soz_chs]\n",
    "        nsoz_inds = [idx for idx in range(len(ch_names)) if idx not in soz_inds]\n",
    "\n",
    "        # compute quantiles in each\n",
    "        qtiles = np.linspace(0.1, 1.0, 3)\n",
    "\n",
    "        X_buff = []\n",
    "        for feature_name in feature_set:\n",
    "            # get the data\n",
    "            feature_map = dataset[feature_name][idx].copy()\n",
    "\n",
    "            # set threshold\n",
    "            if threshold is not None:\n",
    "                feature_map[feature_map < threshold] = 0.0\n",
    "\n",
    "            # stratify data into two sets of signals\n",
    "            soz_feat = feature_map[soz_inds]\n",
    "            nsoz_feat = feature_map[nsoz_inds]\n",
    "\n",
    "            #             print(soz_chs)\n",
    "            #             print(ch_names)\n",
    "            #             print(soz_feat.shape)\n",
    "            #             print(nsoz_feat.shape)\n",
    "            #             print(feature_map.shape)\n",
    "\n",
    "            # create a time-varying quantile heatmap\n",
    "            soz_quant_map = np.vstack([np.quantile(soz_feat, q=q) for q in qtiles])\n",
    "            nsoz_quant_map = np.vstack([np.quantile(nsoz_feat, q=q) for q in qtiles])\n",
    "            new_data_feat = np.vstack(\n",
    "                (\n",
    "                    np.mean(soz_feat),\n",
    "                    np.std(soz_feat, axis=0),\n",
    "                    #                     soz_quant_map,\n",
    "                    #                     np.median(soz_feat),\n",
    "                    #                     np.median(nsoz_feat),\n",
    "                    np.mean(nsoz_feat),\n",
    "                    np.std(nsoz_feat, axis=0),\n",
    "                    #                     nsoz_quant_map,\n",
    "                    np.mean(soz_feat) - np.mean(nsoz_feat),\n",
    "                )\n",
    "            )\n",
    "            #             new_data_feat = np.mean(new_data_feat, axis=1, keepdims=True)\n",
    "            X_buff.extend(new_data_feat.tolist())\n",
    "\n",
    "        # convert buffer to numpy array for feature vector\n",
    "        X_buff = np.array(X_buff)\n",
    "\n",
    "        # get metadata\n",
    "        outcome = meta_df[meta_df[\"patient_id\"] == subject][\"outcome\"].values[0]\n",
    "        engel = meta_df[meta_df[\"patient_id\"] == subject][\"engel_score\"].values[0]\n",
    "        ilae = meta_df[meta_df[\"patient_id\"] == subject][\"ilae_score\"].values[0]\n",
    "\n",
    "        if outcome == \"NR\":\n",
    "            continue\n",
    "\n",
    "        X.append(X_buff)\n",
    "        y.append(outcome)\n",
    "        engels.append(engel)\n",
    "        ilaes.append(ilae)\n",
    "        subjects.append(subject)\n",
    "\n",
    "    return X, y, subjects"
   ]
  },
  {
   "cell_type": "code",
   "execution_count": 18,
   "id": "ffc93518-4881-4e5c-9e6e-b80c643478f2",
   "metadata": {
    "tags": []
   },
   "outputs": [],
   "source": [
    "def get_Xy_matrix(dataset, feature_set):\n",
    "    # create X, y pair for training\n",
    "    X = []\n",
    "    y = []\n",
    "    engels = []\n",
    "    ilaes = []\n",
    "    subjects = []\n",
    "\n",
    "    for idx, subject in enumerate(dataset[\"subject\"]):\n",
    "        # get the metadata\n",
    "        soz_chs = dataset[\"soz_chs\"][idx]\n",
    "        ch_names = dataset[\"ch_names\"][idx]\n",
    "        soz_inds = [idx for idx, ch in enumerate(ch_names) if ch in soz_chs]\n",
    "        nsoz_inds = [idx for idx in range(len(ch_names)) if idx not in soz_inds]\n",
    "\n",
    "        # compute quantiles in each\n",
    "        qtiles = np.linspace(0.1, 1.0, 10)\n",
    "\n",
    "        X_buff = []\n",
    "        for feature_name in feature_set:\n",
    "            # get the data\n",
    "            feature_map = dataset[feature_name][idx].copy()\n",
    "\n",
    "            # set threshold\n",
    "            if threshold is not None:\n",
    "                feature_map[feature_map < threshold] = 0.0\n",
    "\n",
    "            # stratify data into two sets of signals\n",
    "            soz_feat = feature_map[soz_inds, :]\n",
    "            nsoz_feat = feature_map[nsoz_inds, :]\n",
    "\n",
    "            # create a time-varying quantile heatmap\n",
    "            soz_quant_map = np.vstack(\n",
    "                [np.quantile(soz_feat, q=q, axis=0) for q in qtiles]\n",
    "            )\n",
    "            nsoz_quant_map = np.vstack(\n",
    "                [np.quantile(nsoz_feat, q=q, axis=0) for q in qtiles]\n",
    "            )\n",
    "            new_data_feat = np.vstack(\n",
    "                (\n",
    "                    np.mean(soz_feat, axis=0),\n",
    "                    #                 np.std(soz_feat, axis=0),\n",
    "                    soz_quant_map,\n",
    "                    np.mean(nsoz_feat, axis=0),\n",
    "                    #                 np.std(nsoz_feat, axis=0),\n",
    "                    nsoz_quant_map,\n",
    "                )\n",
    "            )\n",
    "            new_data_feat = np.mean(new_data_feat, axis=1, keepdims=True)\n",
    "            X_buff.extend(new_data_feat.tolist())\n",
    "\n",
    "        # convert buffer to numpy array for feature vector\n",
    "        X_buff = np.array(X_buff)\n",
    "\n",
    "        # get metadata\n",
    "        outcome = meta_df[meta_df[\"patient_id\"] == subject][\"outcome\"].values[0]\n",
    "        engel = meta_df[meta_df[\"patient_id\"] == subject][\"engel_score\"].values[0]\n",
    "        ilae = meta_df[meta_df[\"patient_id\"] == subject][\"ilae_score\"].values[0]\n",
    "\n",
    "        if outcome == \"NR\":\n",
    "            continue\n",
    "\n",
    "        X.append(X_buff)\n",
    "        y.append(outcome)\n",
    "        engels.append(engel)\n",
    "        ilaes.append(ilae)\n",
    "        subjects.append(subject)\n",
    "\n",
    "    return X, y, subjects"
   ]
  },
  {
   "cell_type": "code",
   "execution_count": 19,
   "id": "392fbf65-6782-403e-9ca5-22b70a17878f",
   "metadata": {},
   "outputs": [],
   "source": [
    "def get_Xy_vector(dataset, feature_set):\n",
    "    # create X, y pair for training\n",
    "    X = []\n",
    "    y = []\n",
    "    engels = []\n",
    "    ilaes = []\n",
    "    subjects = []\n",
    "\n",
    "    for idx, subject in enumerate(dataset[\"subject\"]):\n",
    "        if subject.startswith(\"pt\"):\n",
    "            subject = \"kumc\" + subject.split(\"pt\")[1]\n",
    "        elif subject.isnumeric():\n",
    "            subject = \"rns\" + subject\n",
    "\n",
    "        # get the metadata\n",
    "        soz_chs = dataset[\"soz_chs\"][idx]\n",
    "        ch_names = dataset[\"ch_names\"][idx]\n",
    "        soz_inds = [idx for idx, ch in enumerate(ch_names) if ch in soz_chs]\n",
    "        nsoz_inds = [idx for idx in range(len(ch_names)) if idx not in soz_inds]\n",
    "\n",
    "        # compute quantiles in each\n",
    "        qtiles = np.linspace(0.1, 1.0, 3)\n",
    "\n",
    "        X_buff = []\n",
    "        for feature_name in feature_set:\n",
    "            # get the data\n",
    "            feature_map = dataset[feature_name][idx].copy()\n",
    "\n",
    "            # set threshold\n",
    "            if threshold is not None:\n",
    "                feature_map[feature_map < threshold] = 0.0\n",
    "\n",
    "            # stratify data into two sets of signals\n",
    "            soz_feat = feature_map[soz_inds]\n",
    "            nsoz_feat = feature_map[nsoz_inds]\n",
    "\n",
    "            # create a time-varying quantile heatmap\n",
    "            soz_quant_map = np.vstack([np.quantile(soz_feat, q=q) for q in qtiles])\n",
    "            nsoz_quant_map = np.vstack([np.quantile(nsoz_feat, q=q) for q in qtiles])\n",
    "            new_data_feat = np.vstack(\n",
    "                (\n",
    "                    np.mean(soz_feat),\n",
    "                    np.std(soz_feat, axis=0),\n",
    "                    #                     soz_quant_map,\n",
    "                    #                     np.median(soz_feat),\n",
    "                    #                     np.median(nsoz_feat),\n",
    "                    np.mean(nsoz_feat),\n",
    "                    np.std(nsoz_feat, axis=0),\n",
    "                    #                     nsoz_quant_map,\n",
    "                    np.mean(soz_feat) - np.mean(nsoz_feat),\n",
    "                )\n",
    "            )\n",
    "            #             new_data_feat = np.mean(new_data_feat, axis=1, keepdims=True)\n",
    "            X_buff.extend(new_data_feat.tolist())\n",
    "\n",
    "        # convert buffer to numpy array for feature vector\n",
    "        X_buff = np.array(X_buff)\n",
    "\n",
    "        # get metadata\n",
    "        outcome = meta_df[meta_df[\"patient_id\"] == subject][\"outcome\"].values[0]\n",
    "        engel = meta_df[meta_df[\"patient_id\"] == subject][\"engel_score\"].values[0]\n",
    "        ilae = meta_df[meta_df[\"patient_id\"] == subject][\"ilae_score\"].values[0]\n",
    "\n",
    "        if outcome == \"NR\":\n",
    "            continue\n",
    "\n",
    "        X.append(X_buff)\n",
    "        y.append(outcome)\n",
    "        engels.append(engel)\n",
    "        ilaes.append(ilae)\n",
    "        subjects.append(subject)\n",
    "\n",
    "    return X, y, subjects"
   ]
  },
  {
   "cell_type": "markdown",
   "id": "9652f4c9-c78a-4fa2-8787-c807454c0c5f",
   "metadata": {},
   "source": [
    "# Run Classification Using HFO Rates"
   ]
  },
  {
   "cell_type": "code",
   "execution_count": 20,
   "id": "c330a0bf-1e63-4838-b085-99f233ede2e4",
   "metadata": {},
   "outputs": [],
   "source": [
    "feature_set = [\"hfo_rates\"]"
   ]
  },
  {
   "cell_type": "code",
   "execution_count": 21,
   "id": "0732e522-18b1-427c-9f2f-ab0f917192c4",
   "metadata": {},
   "outputs": [],
   "source": [
    "# optional threshold\n",
    "threshold = None"
   ]
  },
  {
   "cell_type": "code",
   "execution_count": 22,
   "id": "9ec7abc4-198e-4405-9663-5c00709b1bd2",
   "metadata": {},
   "outputs": [],
   "source": [
    "X, y, subjects = get_Xy_vector(dataset, feature_set)"
   ]
  },
  {
   "cell_type": "code",
   "execution_count": 23,
   "id": "2e897fdf-9cff-473d-81e7-3cd150c5c82b",
   "metadata": {},
   "outputs": [
    {
     "name": "stdout",
     "output_type": "stream",
     "text": [
      "(65, 5)\n",
      "(65,)\n",
      "[1. 0. 0. 0. 0. 0. 0. 0. 0. 1. 0. 0. 1. 0. 1. 0. 0. 1. 1. 1. 1. 0. 1. 0.\n",
      " 1. 1. 1. 0. 1. 1. 1. 0. 0. 0. 1. 0. 0. 1. 0. 1. 1. 0. 1. 0. 0. 0. 1. 0.\n",
      " 0. 0. 0. 1. 1. 1. 1. 0. 0. 0. 0. 0. 1. 1. 0. 0. 1.]\n"
     ]
    }
   ],
   "source": [
    "X = np.array(X).squeeze()\n",
    "y = np.array(y).squeeze()\n",
    "subjects = np.array(subjects)\n",
    "y = enc.fit_transform(y[:, np.newaxis]).squeeze()\n",
    "print(X.shape)\n",
    "print(y.shape)\n",
    "print(y)"
   ]
  },
  {
   "cell_type": "code",
   "execution_count": 24,
   "id": "258cff52-3ada-487a-86ac-57cf422cc18a",
   "metadata": {
    "tags": []
   },
   "outputs": [
    {
     "name": "stdout",
     "output_type": "stream",
     "text": [
      "['nl12' 'NIH3' 'nl08' 'NIH9' 'la13' 'PY18N002' 'rns006' 'nl19' 'kumc13'\n",
      " 'la11' 'nl07' 'kumc4' 'nl20' 'la09' 'kumc1' 'rns013' 'la22' 'kumc3'\n",
      " 'NIH8' 'NIH4' 'upmc6' 'rns009' 'PY18N015' 'NIH10' 'kumc12' 'la08' 'nl01'\n",
      " 'la15' 'nl16' 'upmc2' 'la05' 'la06' 'la02' 'kumc11' 'nl04' 'nl15'\n",
      " 'kumc10' 'rns003' 'la23' 'rns004' 'la10' 'la03' 'la24' 'kumc8' 'NIH7']\n",
      "['nl07' 'la21' 'PY18N013' 'rns002' 'PY19N023' 'kumc10' 'nl04' 'rns013'\n",
      " 'NIH3' 'upmc1' 'la10' 'rns015' 'nl16' 'la03' 'NIH10' 'rns006' 'rns009'\n",
      " 'nl19' 'upmc5' 'la24' 'NIH8' 'la16' 'upmc3' 'NIH7' 'NIH11' 'kumc4' 'nl08'\n",
      " 'kumc3' 'nl18' 'la08' 'la06' 'NIH4' 'nl15' 'la22' 'la11' 'rns003' 'NIH5'\n",
      " 'rns011' 'kumc13' 'PY18N002' 'la15' 'kumc8' 'nl14' 'NIH2' 'la23']\n",
      "['la03' 'PY19N015' 'nl19' 'la06' 'nl16' 'nl01' 'la24' 'nl13' 'upmc1'\n",
      " 'la16' 'la02' 'la21' 'la11' 'rns002' 'kumc1' 'kumc10' 'rns013' 'kumc12'\n",
      " 'la08' 'upmc2' 'kumc11' 'NIH10' 'nl15' 'upmc5' 'rns011' 'NIH5' 'NIH11'\n",
      " 'PY18N002' 'la23' 'nl05' 'NIH4' 'rns003' 'la22' 'la04' 'nl08' 'la09'\n",
      " 'NIH2' 'rns006' 'rns009' 'NIH8' 'PY18N015' 'nl20' 'nl12' 'PY19N023'\n",
      " 'la05']\n",
      "['kumc1' 'la23' 'nl01' 'la13' 'NIH10' 'la16' 'kumc6' 'upmc1' 'la11'\n",
      " 'rns003' 'rns006' 'la21' 'nl15' 'NIH8' 'nl04' 'rns002' 'nl14' 'PY18N013'\n",
      " 'kumc11' 'nl12' 'upmc2' 'rns009' 'rns013' 'la04' 'nl08' 'kumc13' 'la06'\n",
      " 'NIH11' 'upmc5' 'upmc3' 'rns011' 'NIH7' 'la05' 'la02' 'PY18N015' 'la09'\n",
      " 'PY18N002' 'la15' 'la22' 'NIH2' 'NIH4' 'kumc3' 'kumc4' 'nl16' 'nl20']\n",
      "['nl14' 'kumc11' 'kumc3' 'NIH10' 'NIH7' 'nl16' 'rns002' 'nl15' 'kumc1'\n",
      " 'nl01' 'upmc5' 'la10' 'rns006' 'upmc6' 'NIH4' 'la11' 'nl07' 'nl08' 'nl19'\n",
      " 'PY19N023' 'la24' 'kumc10' 'upmc2' 'rns004' 'rns015' 'la08' 'nl18'\n",
      " 'rns009' 'la09' 'rns013' 'rns003' 'kumc8' 'la21' 'PY18N002' 'kumc6'\n",
      " 'la04' 'la22' 'la02' 'PY18N015' 'la06' 'la16' 'NIH2' 'NIH9' 'nl04' 'nl13']\n",
      "['la11' 'la23' 'upmc6' 'la05' 'nl07' 'upmc2' 'kumc10' 'upmc3' 'NIH11'\n",
      " 'nl13' 'kumc3' 'la06' 'rns009' 'PY18N013' 'PY19N023' 'kumc8' 'kumc1'\n",
      " 'la22' 'nl05' 'la03' 'nl01' 'nl15' 'rns004' 'NIH7' 'nl12' 'nl08'\n",
      " 'PY19N015' 'upmc5' 'la09' 'NIH9' 'PY18N002' 'la08' 'la16' 'rns006'\n",
      " 'kumc6' 'NIH2' 'kumc13' 'rns015' 'upmc1' 'rns003' 'la10' 'nl16' 'rns013'\n",
      " 'rns002' 'NIH4']\n",
      "['la08' 'kumc3' 'kumc12' 'la24' 'upmc2' 'PY18N013' 'NIH9' 'la16' 'la15'\n",
      " 'la22' 'NIH4' 'kumc1' 'NIH8' 'nl19' 'rns006' 'rns004' 'kumc4' 'NIH3'\n",
      " 'kumc11' 'kumc10' 'NIH2' 'la04' 'rns003' 'NIH10' 'PY18N015' 'nl20' 'la21'\n",
      " 'kumc8' 'la10' 'la03' 'upmc1' 'nl12' 'nl13' 'rns011' 'kumc13' 'upmc6'\n",
      " 'upmc3' 'nl01' 'la09' 'nl18' 'PY18N002' 'la06' 'la13' 'rns013' 'nl04']\n",
      "['nl19' 'upmc5' 'nl12' 'kumc6' 'nl13' 'nl16' 'upmc2' 'PY18N013' 'nl14'\n",
      " 'la15' 'rns006' 'nl20' 'rns011' 'nl01' 'nl05' 'rns004' 'kumc4' 'la06'\n",
      " 'la16' 'nl15' 'nl07' 'NIH8' 'NIH4' 'kumc8' 'NIH7' 'kumc13' 'la04'\n",
      " 'rns015' 'kumc3' 'PY18N015' 'upmc1' 'NIH3' 'NIH9' 'la03' 'rns003' 'la09'\n",
      " 'la11' 'nl18' 'upmc6' 'la13' 'rns002' 'NIH10' 'PY19N015' 'la08'\n",
      " 'PY19N023']\n",
      "['kumc12' 'nl04' 'nl19' 'la13' 'NIH7' 'NIH5' 'kumc13' 'NIH4' 'la05'\n",
      " 'rns011' 'la15' 'kumc8' 'nl20' 'upmc1' 'la09' 'PY18N013' 'nl15' 'kumc10'\n",
      " 'rns013' 'la23' 'rns015' 'la03' 'nl05' 'la06' 'kumc11' 'nl07' 'NIH2'\n",
      " 'upmc5' 'la04' 'rns006' 'rns009' 'la16' 'PY18N002' 'NIH11' 'upmc3' 'nl14'\n",
      " 'nl16' 'la02' 'kumc6' 'kumc4' 'la22' 'nl12' 'NIH3' 'upmc6' 'rns003']\n",
      "['kumc4' 'la16' 'la08' 'nl04' 'PY18N002' 'la09' 'NIH4' 'nl14' 'PY19N015'\n",
      " 'la21' 'nl20' 'nl13' 'rns004' 'kumc13' 'NIH2' 'kumc6' 'la03' 'la11'\n",
      " 'la22' 'la23' 'kumc11' 'rns011' 'NIH10' 'la02' 'rns013' 'kumc3' 'NIH5'\n",
      " 'nl19' 'upmc1' 'NIH11' 'upmc6' 'la24' 'rns006' 'la06' 'la13' 'rns003'\n",
      " 'upmc3' 'kumc8' 'upmc5' 'la04' 'rns002' 'nl07' 'NIH3' 'nl15' 'nl18']\n"
     ]
    }
   ],
   "source": [
    "for train_inds, test_inds in cv.split(X, y):\n",
    "    print(subjects[train_inds])"
   ]
  },
  {
   "cell_type": "markdown",
   "id": "393bac88-7c33-42ad-9dd7-04476724fe4c",
   "metadata": {},
   "source": [
    "## Define Classification Model and Run cross_validate"
   ]
  },
  {
   "cell_type": "code",
   "execution_count": 25,
   "id": "5173b0a8-c9e8-4277-8d95-8c74157acf32",
   "metadata": {},
   "outputs": [],
   "source": [
    "n_features = X.shape[1]\n",
    "model_params = {\n",
    "    #     \"projection_matrix\": \"RerF\",\n",
    "    \"n_estimators\": 2000,\n",
    "    \"max_features\": 2 * n_features,  # * 2,\n",
    "    \"n_jobs\": -1,\n",
    "    \"random_state\": random_state,\n",
    "}\n",
    "clf = rerfClassifier(**model_params)\n",
    "clf_name = \"sporf\"\n",
    "# clf = ObliqueForestClassifier(**model_params)\n",
    "\n",
    "# clf_name = 'rf'\n",
    "# clf = RandomForestClassifier(**model_params)\n",
    "\n",
    "# clf_name = 'lr'\n",
    "# clf = LogisticRegression(penalty=\"none\", fit_intercept=False)"
   ]
  },
  {
   "cell_type": "code",
   "execution_count": 26,
   "id": "a426ef42-ceca-48b9-b85a-9b885cf0ce30",
   "metadata": {
    "tags": []
   },
   "outputs": [],
   "source": [
    "# perform CV using Sklearn\n",
    "scoring_funcs = {\n",
    "    \"roc_auc\": roc_auc_score,\n",
    "    \"accuracy\": accuracy_score,\n",
    "    \"balanced_accuracy\": balanced_accuracy_score,\n",
    "    \"average_precision\": average_precision_score,\n",
    "    \"precision\": \"\",\n",
    "    \"neg_brier_score\": brier_score_loss,\n",
    "    \"recall\": \"\",\n",
    "    \"f1\": \"\",\n",
    "}\n",
    "\n",
    "# run cross-validation\n",
    "scores = cross_validate(\n",
    "    clf,\n",
    "    X,\n",
    "    y,\n",
    "    #     groups=subject_groups,\n",
    "    cv=cv,\n",
    "    #     cv=zip(train_index, test_index),\n",
    "    scoring=list(scoring_funcs.keys()),\n",
    "    return_estimator=True,\n",
    "    return_train_score=True,\n",
    "    n_jobs=1,\n",
    ")\n",
    "\n",
    "# get the estimators\n",
    "estimators = scores.pop(\"estimator\")"
   ]
  },
  {
   "cell_type": "code",
   "execution_count": 27,
   "id": "1732a280-8551-4746-95c2-affa11f3b2aa",
   "metadata": {},
   "outputs": [
    {
     "name": "stdout",
     "output_type": "stream",
     "text": [
      "Using estimator  rerfClassifier(max_features=10, n_estimators=2000, n_jobs=-1,\n",
      "               random_state=12345)\n"
     ]
    }
   ],
   "source": [
    "print(\"Using estimator \", estimators[0])\n",
    "\n",
    "# initialize keys to list\n",
    "for key in [\n",
    "    \"test_fraction_pos\",\n",
    "    \"test_mean_pred_value\",\n",
    "    \"test_fpr\",\n",
    "    \"test_tpr\",\n",
    "    \"test_fnr\",\n",
    "    \"test_tnr\",\n",
    "    \"test_thresholds\",\n",
    "    \"train_fraction_pos\",\n",
    "    \"train_mean_pred_value\",\n",
    "    \"train_y_pred_proba\",\n",
    "    \"train_fpr\",\n",
    "    \"train_tpr\",\n",
    "    \"train_fnr\",\n",
    "    \"train_tnr\",\n",
    "    \"train_thresholds\",\n",
    "    \"train_subjects\",\n",
    "    \"test_subjects\",\n",
    "    \"test_y_pred_proba\",\n",
    "    \"test_importances\",\n",
    "    \"test_specificity\",\n",
    "]:\n",
    "    scores[key] = []\n",
    "\n",
    "for idx, (train_inds, test_inds) in enumerate(cv.split(X, y)):\n",
    "    estimator = estimators[idx]\n",
    "\n",
    "    # append subjects\n",
    "    scores[\"train_subjects\"].append(subjects[train_inds])\n",
    "    scores[\"test_subjects\"].append(subjects[test_inds])\n",
    "\n",
    "    # evaluate on the test set\n",
    "    y_train = y[train_inds]\n",
    "    X_train = X[train_inds, :]\n",
    "    y_pred_prob = estimator.predict_proba(X_train)[:, 1]\n",
    "\n",
    "    # compute calibration curve\n",
    "    fraction_of_positives, mean_predicted_value = calibration_curve(\n",
    "        y_train, y_pred_prob, n_bins=10, strategy=\"quantile\"\n",
    "    )\n",
    "\n",
    "    # append training data\n",
    "    scores[\"train_y_pred_proba\"].append(y_pred_prob)\n",
    "    scores[\"train_fraction_pos\"].append(fraction_of_positives)\n",
    "    scores[\"train_mean_pred_value\"].append(mean_predicted_value)\n",
    "\n",
    "    # store ROC curve metrics on the held-out test set\n",
    "    fpr, tpr, thresholds = roc_curve(y_train, y_pred_prob, pos_label=1)\n",
    "    fnr, tnr, neg_thresholds = roc_curve(y_train, y_pred_prob, pos_label=0)\n",
    "    scores[\"train_fpr\"].append(fpr)\n",
    "    scores[\"train_tpr\"].append(tpr)\n",
    "    scores[\"train_fnr\"].append(fnr)\n",
    "    scores[\"train_tnr\"].append(tnr)\n",
    "    scores[\"train_thresholds\"].append(thresholds)\n",
    "\n",
    "    # evaluate on the test set\n",
    "    y_test = y[test_inds]\n",
    "    X_test = X[test_inds, :]\n",
    "    y_pred_prob = estimator.predict_proba(X_test)[:, 1]\n",
    "\n",
    "    # compute calibration curve\n",
    "    fraction_of_positives, mean_predicted_value = calibration_curve(\n",
    "        y_test, y_pred_prob, n_bins=10, strategy=\"quantile\"\n",
    "    )\n",
    "\n",
    "    # append testing data\n",
    "    scores[\"test_y_pred_proba\"].append(y_pred_prob)\n",
    "    scores[\"test_fraction_pos\"].append(fraction_of_positives)\n",
    "    scores[\"test_mean_pred_value\"].append(mean_predicted_value)\n",
    "\n",
    "    # store ROC curve metrics on the held-out test set\n",
    "    fpr, tpr, thresholds = roc_curve(y_test, y_pred_prob, pos_label=1)\n",
    "    fnr, tnr, neg_thresholds = roc_curve(y_test, y_pred_prob, pos_label=0)\n",
    "    scores[\"test_fpr\"].append(fpr)\n",
    "    scores[\"test_tpr\"].append(tpr)\n",
    "    scores[\"test_fnr\"].append(fnr)\n",
    "    scores[\"test_tnr\"].append(tnr)\n",
    "    scores[\"test_thresholds\"].append(thresholds)\n",
    "\n",
    "    tn, fp, fn, tp = confusion_matrix(\n",
    "        y_test.astype(int), (y_pred_prob > 0.5).astype(int)\n",
    "    ).ravel()\n",
    "    scores[\"test_specificity\"].append(tn / (tn + fp))\n",
    "\n",
    "    # get the permutation importances\n",
    "    # r = permutation_importance(\n",
    "    #     estimator, X_test, y_test, n_repeats=5, random_state=random_state, n_jobs=-1\n",
    "    # )\n",
    "    # scores[\"test_importances\"].append(r.importances)"
   ]
  },
  {
   "cell_type": "code",
   "execution_count": 28,
   "id": "1cfe3888-a946-4ddb-8e72-4386eaa63015",
   "metadata": {},
   "outputs": [
    {
     "name": "stdout",
     "output_type": "stream",
     "text": [
      "/Users/adam2392/OneDrive - Johns Hopkins/epilepsy_interictal/derivatives/cv10_sporf_mtry10_exp_hilberthforates_meandiff.pkl\n"
     ]
    }
   ],
   "source": [
    "fname = (\n",
    "    deriv_root\n",
    "    / f\"cv{n_splits}_{clf_name}_mtry{model_params['max_features']}_exp_hilberthforates_meandiff.pkl\"\n",
    ")\n",
    "print(fname)"
   ]
  },
  {
   "cell_type": "code",
   "execution_count": 29,
   "id": "2a69b48b-699b-4d5b-9370-143250c2e19a",
   "metadata": {},
   "outputs": [],
   "source": [
    "with open(fname.with_suffix(\".json\"), \"w\") as fp:\n",
    "    json.dump(scores, fp, cls=NumpyEncoder)"
   ]
  },
  {
   "cell_type": "markdown",
   "id": "33135a09-179e-4faa-946a-e91cac55b99d",
   "metadata": {
    "tags": []
   },
   "source": [
    "## Make Plots of the Data\n",
    "\n",
    "- Box plots probability values of success/failures\n",
    "- ^ for engel, ilae, maybe clinical complexity\n",
    "- ^ for other stuff if available"
   ]
  },
  {
   "cell_type": "code",
   "execution_count": 30,
   "id": "cd78288f-d89d-4e0a-b4e8-649aec15b3e1",
   "metadata": {},
   "outputs": [],
   "source": [
    "which_set = \"test\"\n",
    "\n",
    "tprs = []\n",
    "aucs = scores[f\"{which_set}_roc_auc\"]\n",
    "mean_fpr = np.linspace(0, 1, 100)\n",
    "\n",
    "for idx in range(n_splits):\n",
    "    fpr = scores[f\"{which_set}_fpr\"][idx]\n",
    "    tpr = scores[f\"{which_set}_tpr\"][idx]\n",
    "\n",
    "    # interpolate the tpr\n",
    "    interp_tpr = np.interp(mean_fpr, fpr, tpr)\n",
    "    interp_tpr[0] = 0.0\n",
    "    tprs.append(interp_tpr)\n",
    "\n",
    "mean_tpr = np.mean(tprs, axis=0)\n",
    "mean_tpr[-1] = 1.0\n",
    "mean_auc = auc(mean_fpr, mean_tpr)\n",
    "mean_auc = np.mean(aucs)\n",
    "std_auc = np.std(aucs)\n",
    "\n",
    "std_tpr = np.std(tprs, axis=0)\n",
    "tprs_upper = np.minimum(mean_tpr + std_tpr, 1)\n",
    "tprs_lower = np.maximum(mean_tpr - std_tpr, 0)"
   ]
  },
  {
   "cell_type": "code",
   "execution_count": 31,
   "id": "da151fcd-a592-46fd-a8be-ca503f82b7cd",
   "metadata": {},
   "outputs": [
    {
     "name": "stdout",
     "output_type": "stream",
     "text": [
      "0.7227272727272727 0.06882228184919997\n"
     ]
    }
   ],
   "source": [
    "print(np.mean(aucs), np.std(aucs))"
   ]
  },
  {
   "cell_type": "code",
   "execution_count": 32,
   "id": "6dc111f2-341e-4354-986f-07b53201c9c4",
   "metadata": {},
   "outputs": [
    {
     "name": "stdout",
     "output_type": "stream",
     "text": [
      "test_balanced_accuracy 0.6661616161616162 +/- 0.09594497496268233\n"
     ]
    }
   ],
   "source": [
    "metric = \"test_balanced_accuracy\"\n",
    "print(metric, np.mean(scores[metric]), \"+/-\", np.std(scores[metric]))"
   ]
  },
  {
   "cell_type": "code",
   "execution_count": 33,
   "id": "74ffb04e-b444-48e7-b970-759a7b4e79af",
   "metadata": {},
   "outputs": [
    {
     "name": "stdout",
     "output_type": "stream",
     "text": [
      "test_average_precision 0.7163628488718788 +/- 0.10022623048666207\n"
     ]
    }
   ],
   "source": [
    "metric = \"test_average_precision\"\n",
    "print(metric, np.mean(scores[metric]), \"+/-\", np.std(scores[metric]))"
   ]
  },
  {
   "cell_type": "code",
   "execution_count": 34,
   "id": "aef36a1a-485b-4960-9e12-57e8fb3e3ec3",
   "metadata": {},
   "outputs": [
    {
     "name": "stdout",
     "output_type": "stream",
     "text": [
      "test_recall 0.5777777777777777 +/- 0.17069212773041353\n"
     ]
    }
   ],
   "source": [
    "metric = \"test_recall\"\n",
    "print(metric, np.mean(scores[metric]), \"+/-\", np.std(scores[metric]))"
   ]
  },
  {
   "cell_type": "code",
   "execution_count": 35,
   "id": "1a8758f2-2f3a-4ca6-a597-507eff0e9ba7",
   "metadata": {},
   "outputs": [
    {
     "name": "stdout",
     "output_type": "stream",
     "text": [
      "test_specificity 0.7545454545454546 +/- 0.12230567315521554\n"
     ]
    }
   ],
   "source": [
    "metric = \"test_specificity\"\n",
    "print(metric, np.mean(scores[metric]), \"+/-\", np.std(scores[metric]))"
   ]
  },
  {
   "cell_type": "code",
   "execution_count": 36,
   "id": "50e88824-ed1a-44cf-aeef-d7970c5ac2ab",
   "metadata": {},
   "outputs": [
    {
     "name": "stdout",
     "output_type": "stream",
     "text": [
      "test_f1 0.605309210053792 +/- 0.14101163706154013\n"
     ]
    }
   ],
   "source": [
    "metric = \"test_f1\"\n",
    "print(metric, np.mean(scores[metric]), \"+/-\", np.std(scores[metric]))"
   ]
  },
  {
   "cell_type": "code",
   "execution_count": 37,
   "id": "8b1b8157-e8c9-47c6-8212-d50599ddab99",
   "metadata": {},
   "outputs": [
    {
     "data": {
      "text/html": [
       "<div>\n",
       "<style scoped>\n",
       "    .dataframe tbody tr th:only-of-type {\n",
       "        vertical-align: middle;\n",
       "    }\n",
       "\n",
       "    .dataframe tbody tr th {\n",
       "        vertical-align: top;\n",
       "    }\n",
       "\n",
       "    .dataframe thead th {\n",
       "        text-align: right;\n",
       "    }\n",
       "</style>\n",
       "<table border=\"1\" class=\"dataframe\">\n",
       "  <thead>\n",
       "    <tr style=\"text-align: right;\">\n",
       "      <th></th>\n",
       "      <th>fit_time</th>\n",
       "      <th>score_time</th>\n",
       "      <th>test_roc_auc</th>\n",
       "      <th>test_accuracy</th>\n",
       "      <th>test_balanced_accuracy</th>\n",
       "      <th>test_average_precision</th>\n",
       "      <th>test_precision</th>\n",
       "      <th>test_neg_brier_score</th>\n",
       "      <th>test_recall</th>\n",
       "      <th>test_f1</th>\n",
       "      <th>test_specificity</th>\n",
       "    </tr>\n",
       "  </thead>\n",
       "  <tbody>\n",
       "    <tr>\n",
       "      <th>0</th>\n",
       "      <td>0.045636</td>\n",
       "      <td>0.007776</td>\n",
       "      <td>0.828283</td>\n",
       "      <td>0.75</td>\n",
       "      <td>0.752525</td>\n",
       "      <td>0.833267</td>\n",
       "      <td>0.700000</td>\n",
       "      <td>-0.170620</td>\n",
       "      <td>0.777778</td>\n",
       "      <td>0.736842</td>\n",
       "      <td>0.727273</td>\n",
       "    </tr>\n",
       "    <tr>\n",
       "      <th>1</th>\n",
       "      <td>0.041809</td>\n",
       "      <td>0.004078</td>\n",
       "      <td>0.621212</td>\n",
       "      <td>0.50</td>\n",
       "      <td>0.474747</td>\n",
       "      <td>0.596543</td>\n",
       "      <td>0.400000</td>\n",
       "      <td>-0.273767</td>\n",
       "      <td>0.222222</td>\n",
       "      <td>0.285714</td>\n",
       "      <td>0.727273</td>\n",
       "    </tr>\n",
       "    <tr>\n",
       "      <th>2</th>\n",
       "      <td>0.031490</td>\n",
       "      <td>0.005477</td>\n",
       "      <td>0.656566</td>\n",
       "      <td>0.65</td>\n",
       "      <td>0.651515</td>\n",
       "      <td>0.560953</td>\n",
       "      <td>0.600000</td>\n",
       "      <td>-0.263108</td>\n",
       "      <td>0.666667</td>\n",
       "      <td>0.631579</td>\n",
       "      <td>0.636364</td>\n",
       "    </tr>\n",
       "    <tr>\n",
       "      <th>3</th>\n",
       "      <td>0.039651</td>\n",
       "      <td>0.005620</td>\n",
       "      <td>0.717172</td>\n",
       "      <td>0.60</td>\n",
       "      <td>0.595960</td>\n",
       "      <td>0.705371</td>\n",
       "      <td>0.555556</td>\n",
       "      <td>-0.223583</td>\n",
       "      <td>0.555556</td>\n",
       "      <td>0.555556</td>\n",
       "      <td>0.636364</td>\n",
       "    </tr>\n",
       "    <tr>\n",
       "      <th>4</th>\n",
       "      <td>0.043391</td>\n",
       "      <td>0.004906</td>\n",
       "      <td>0.636364</td>\n",
       "      <td>0.60</td>\n",
       "      <td>0.606061</td>\n",
       "      <td>0.565305</td>\n",
       "      <td>0.545455</td>\n",
       "      <td>-0.239745</td>\n",
       "      <td>0.666667</td>\n",
       "      <td>0.600000</td>\n",
       "      <td>0.545455</td>\n",
       "    </tr>\n",
       "  </tbody>\n",
       "</table>\n",
       "</div>"
      ],
      "text/plain": [
       "   fit_time  score_time  test_roc_auc  test_accuracy  test_balanced_accuracy  \\\n",
       "0  0.045636    0.007776      0.828283           0.75                0.752525   \n",
       "1  0.041809    0.004078      0.621212           0.50                0.474747   \n",
       "2  0.031490    0.005477      0.656566           0.65                0.651515   \n",
       "3  0.039651    0.005620      0.717172           0.60                0.595960   \n",
       "4  0.043391    0.004906      0.636364           0.60                0.606061   \n",
       "\n",
       "   test_average_precision  test_precision  test_neg_brier_score  test_recall  \\\n",
       "0                0.833267        0.700000             -0.170620     0.777778   \n",
       "1                0.596543        0.400000             -0.273767     0.222222   \n",
       "2                0.560953        0.600000             -0.263108     0.666667   \n",
       "3                0.705371        0.555556             -0.223583     0.555556   \n",
       "4                0.565305        0.545455             -0.239745     0.666667   \n",
       "\n",
       "    test_f1  test_specificity  \n",
       "0  0.736842          0.727273  \n",
       "1  0.285714          0.727273  \n",
       "2  0.631579          0.636364  \n",
       "3  0.555556          0.636364  \n",
       "4  0.600000          0.545455  "
      ]
     },
     "metadata": {},
     "output_type": "display_data"
    }
   ],
   "source": [
    "# create a dataframe from the statistics\n",
    "temp_scores = scores.copy()\n",
    "keys = list(temp_scores.keys())\n",
    "for key in keys:\n",
    "    if any(\n",
    "        [\n",
    "            chars in key\n",
    "            for chars in [\n",
    "                \"fpr\",\n",
    "                \"tpr\",\n",
    "                \"fnr\",\n",
    "                \"tnr\",\n",
    "                \"threshold\",\n",
    "                \"fraction_pos\",\n",
    "                \"mean_pred_value\",\n",
    "                \"subjects\",\n",
    "                \"y_pred_proba\",\n",
    "                \"importances\",\n",
    "                \"train\",\n",
    "            ]\n",
    "        ]\n",
    "    ):\n",
    "        temp_scores.pop(key)\n",
    "score_df = pd.DataFrame(temp_scores)\n",
    "\n",
    "display(score_df.head())"
   ]
  },
  {
   "cell_type": "code",
   "execution_count": 38,
   "id": "6412a7ab-035d-439b-8b9f-168a24c62569",
   "metadata": {},
   "outputs": [],
   "source": [
    "score_df.describe().to_csv(\n",
    "    f\"~/Downloads/{clf_name}_mtry=2n_hilbert{feature_set}_meansstd.csv\"\n",
    ")"
   ]
  },
  {
   "cell_type": "markdown",
   "id": "938445f3-e4fe-4f46-ac52-99480c5aa1cd",
   "metadata": {},
   "source": [
    "## Making ROC Curve With Confidence Interval"
   ]
  },
  {
   "cell_type": "code",
   "execution_count": 39,
   "id": "c35ac72a-f1e8-4b76-bf47-cb70ced3e446",
   "metadata": {},
   "outputs": [
    {
     "data": {
      "image/png": "[encoded data removed]",
      "text/plain": [
       "<Figure size 432x288 with 1 Axes>"
      ]
     },
     "metadata": {
      "needs_background": "light"
     },
     "output_type": "display_data"
    }
   ],
   "source": [
    "fig, ax = plt.subplots()\n",
    "\n",
    "for idx in range(n_splits):\n",
    "    fpr = scores[f\"{which_set}_fpr\"][idx]\n",
    "    tpr = scores[f\"{which_set}_tpr\"][idx]\n",
    "\n",
    "    ax.plot(fpr, tpr, color=\"b\", lw=2, alpha=0.5)\n",
    "\n",
    "ax.plot([0, 1], [0, 1], linestyle=\"--\", lw=2, color=\"r\", label=\"Chance\", alpha=0.8)\n",
    "ax.plot(\n",
    "    mean_fpr,\n",
    "    mean_tpr,\n",
    "    color=\"b\",\n",
    "    label=r\"Mean ROC (AUC = %0.2f $\\pm$ %0.2f)\" % (mean_auc, std_auc),\n",
    "    lw=2,\n",
    "    alpha=0.8,\n",
    ")\n",
    "\n",
    "\n",
    "ax.fill_between(\n",
    "    mean_fpr,\n",
    "    tprs_lower,\n",
    "    tprs_upper,\n",
    "    color=\"grey\",\n",
    "    alpha=0.2,\n",
    "    label=r\"$\\pm$ 1 std. dev.\",\n",
    ")\n",
    "ax.set(\n",
    "    xlim=[-0.05, 1.05],\n",
    "    ylim=[-0.05, 1.05],\n",
    "    title=f\"Receiver operating characteristic curve {which_set} set - {feature_set}\",\n",
    ")\n",
    "ax.legend(loc=\"lower right\")\n",
    "plt.show()"
   ]
  },
  {
   "cell_type": "markdown",
   "id": "a4eaee82-aeaa-4221-986d-0905969857e5",
   "metadata": {},
   "source": [
    "## Plotting Predicted Probability of Success Scores"
   ]
  },
  {
   "cell_type": "code",
   "execution_count": 40,
   "id": "3da4baa5-d3f9-4c38-b16f-bb76d2b5bb88",
   "metadata": {},
   "outputs": [],
   "source": [
    "y_probas = []\n",
    "subj_list = []\n",
    "outcomes = []\n",
    "centers = []\n",
    "folds = []\n",
    "engels = []\n",
    "ilaes = []\n",
    "\n",
    "for idx in range(n_splits):\n",
    "    y_pred_proba = scores[f\"{which_set}_y_pred_proba\"][idx]\n",
    "    cv_subjects = scores[f\"{which_set}_subjects\"][idx]\n",
    "    for subject in cv_subjects:\n",
    "        outcome = meta_df[meta_df[\"patient_id\"] == subject][\"outcome\"].values[0]\n",
    "        outcomes.append(outcome)\n",
    "\n",
    "        engel = meta_df[meta_df[\"patient_id\"] == subject][\"engel_score\"].values[0]\n",
    "        engels.append(engel)\n",
    "\n",
    "        ilae = meta_df[meta_df[\"patient_id\"] == subject][\"ilae_score\"].values[0]\n",
    "        ilaes.append(ilae)\n",
    "\n",
    "        center = meta_df[meta_df[\"patient_id\"] == subject][\"clinical_center\"].values[0]\n",
    "        centers.append(center)\n",
    "\n",
    "    y_probas.extend(y_pred_proba)\n",
    "    subj_list.extend(cv_subjects)\n",
    "    folds.extend([idx] * len(cv_subjects))"
   ]
  },
  {
   "cell_type": "code",
   "execution_count": 41,
   "id": "b3eea2f8-22f5-42d6-a1ca-097759e55353",
   "metadata": {},
   "outputs": [
    {
     "data": {
      "text/html": [
       "<div>\n",
       "<style scoped>\n",
       "    .dataframe tbody tr th:only-of-type {\n",
       "        vertical-align: middle;\n",
       "    }\n",
       "\n",
       "    .dataframe tbody tr th {\n",
       "        vertical-align: top;\n",
       "    }\n",
       "\n",
       "    .dataframe thead th {\n",
       "        text-align: right;\n",
       "    }\n",
       "</style>\n",
       "<table border=\"1\" class=\"dataframe\">\n",
       "  <thead>\n",
       "    <tr style=\"text-align: right;\">\n",
       "      <th></th>\n",
       "      <th>y_proba</th>\n",
       "      <th>subject</th>\n",
       "      <th>outcome</th>\n",
       "      <th>engel</th>\n",
       "      <th>ilae</th>\n",
       "      <th>center</th>\n",
       "      <th>fold</th>\n",
       "    </tr>\n",
       "  </thead>\n",
       "  <tbody>\n",
       "    <tr>\n",
       "      <th>0</th>\n",
       "      <td>0.332</td>\n",
       "      <td>PY19N023</td>\n",
       "      <td>S</td>\n",
       "      <td>1</td>\n",
       "      <td>1.0</td>\n",
       "      <td>jhu</td>\n",
       "      <td>0</td>\n",
       "    </tr>\n",
       "    <tr>\n",
       "      <th>1</th>\n",
       "      <td>0.1165</td>\n",
       "      <td>la16</td>\n",
       "      <td>F</td>\n",
       "      <td>4</td>\n",
       "      <td>5.0</td>\n",
       "      <td>cc</td>\n",
       "      <td>0</td>\n",
       "    </tr>\n",
       "    <tr>\n",
       "      <th>2</th>\n",
       "      <td>0.269</td>\n",
       "      <td>rns015</td>\n",
       "      <td>F</td>\n",
       "      <td>2</td>\n",
       "      <td>NaN</td>\n",
       "      <td>miami</td>\n",
       "      <td>0</td>\n",
       "    </tr>\n",
       "    <tr>\n",
       "      <th>3</th>\n",
       "      <td>0.7615</td>\n",
       "      <td>upmc3</td>\n",
       "      <td>F</td>\n",
       "      <td>2</td>\n",
       "      <td>3.0</td>\n",
       "      <td>upmc</td>\n",
       "      <td>0</td>\n",
       "    </tr>\n",
       "    <tr>\n",
       "      <th>4</th>\n",
       "      <td>0.6995</td>\n",
       "      <td>la21</td>\n",
       "      <td>S</td>\n",
       "      <td>1</td>\n",
       "      <td>1.0</td>\n",
       "      <td>cc</td>\n",
       "      <td>0</td>\n",
       "    </tr>\n",
       "  </tbody>\n",
       "</table>\n",
       "</div>"
      ],
      "text/plain": [
       "  y_proba   subject outcome engel ilae center fold\n",
       "0   0.332  PY19N023       S     1  1.0    jhu    0\n",
       "1  0.1165      la16       F     4  5.0     cc    0\n",
       "2   0.269    rns015       F     2  NaN  miami    0\n",
       "3  0.7615     upmc3       F     2  3.0   upmc    0\n",
       "4  0.6995      la21       S     1  1.0     cc    0"
      ]
     },
     "metadata": {},
     "output_type": "display_data"
    }
   ],
   "source": [
    "proba_df = pd.DataFrame(\n",
    "    (y_probas, subj_list, outcomes, engels, ilaes, centers, folds)\n",
    ").T\n",
    "proba_df.columns = [\"y_proba\", \"subject\", \"outcome\", \"engel\", \"ilae\", \"center\", \"fold\"]\n",
    "\n",
    "display(proba_df.head())"
   ]
  },
  {
   "cell_type": "code",
   "execution_count": 42,
   "id": "2aa49e2e-3d8d-469c-97d7-cdbcf47a09f7",
   "metadata": {},
   "outputs": [
    {
     "data": {
      "text/plain": [
       "<AxesSubplot:xlabel='outcome', ylabel='y_proba'>"
      ]
     },
     "execution_count": 42,
     "metadata": {},
     "output_type": "execute_result"
    },
    {
     "data": {
      "image/png": "[encoded data removed]",
      "text/plain": [
       "<Figure size 504x360 with 1 Axes>"
      ]
     },
     "metadata": {
      "needs_background": "light"
     },
     "output_type": "display_data"
    }
   ],
   "source": [
    "fig, ax = plt.subplots(figsize=(7, 5))\n",
    "# sns.stripplot(x=\"outcome\", y=\"y_proba\", hue=\"center\", data=proba_df, ax=ax)\n",
    "sns.boxplot(x=\"outcome\", y=\"y_proba\", data=proba_df, ax=ax, boxprops=dict(alpha=0.4))\n",
    "sns.swarmplot(x=\"outcome\", y=\"y_proba\", hue=\"center\", data=proba_df, ax=ax)"
   ]
  },
  {
   "cell_type": "code",
   "execution_count": 43,
   "id": "4f2c28bf-6cd4-4522-9c17-dc3b5c82be83",
   "metadata": {},
   "outputs": [
    {
     "data": {
      "text/plain": [
       "<matplotlib.legend.Legend at 0x158deed00>"
      ]
     },
     "execution_count": 43,
     "metadata": {},
     "output_type": "execute_result"
    },
    {
     "data": {
      "image/png": "[encoded data removed]",
      "text/plain": [
       "<Figure size 504x360 with 1 Axes>"
      ]
     },
     "metadata": {
      "needs_background": "light"
     },
     "output_type": "display_data"
    }
   ],
   "source": [
    "fig, ax = plt.subplots(figsize=(7, 5))\n",
    "sns.stripplot(x=\"center\", y=\"y_proba\", hue=\"outcome\", data=proba_df, ax=ax)\n",
    "ax.axhline([0.5], ls=\"--\", label=\"decision boundary\")\n",
    "ax.legend()\n",
    "# sns.boxplot(x=\"outcome\", y=\"y_proba\", hue=\"fold\", data=proba_df, ax=ax)"
   ]
  },
  {
   "cell_type": "code",
   "execution_count": 44,
   "id": "bcf53edb-f22d-4136-9daf-8db23b6d6e35",
   "metadata": {},
   "outputs": [
    {
     "data": {
      "text/plain": [
       "<matplotlib.legend.Legend at 0x15a357d00>"
      ]
     },
     "execution_count": 44,
     "metadata": {},
     "output_type": "execute_result"
    },
    {
     "data": {
      "image/png": "[encoded data removed]",
      "text/plain": [
       "<Figure size 504x360 with 1 Axes>"
      ]
     },
     "metadata": {
      "needs_background": "light"
     },
     "output_type": "display_data"
    }
   ],
   "source": [
    "fig, ax = plt.subplots(figsize=(7, 5))\n",
    "sns.boxplot(x=\"engel\", y=\"y_proba\", data=proba_df, ax=ax, boxprops=dict(alpha=0.4))\n",
    "sns.swarmplot(x=\"engel\", y=\"y_proba\", hue=\"outcome\", data=proba_df, ax=ax)\n",
    "ax.axhline([0.5], ls=\"--\", label=\"decision boundary\")\n",
    "ax.legend()\n",
    "# sns.boxplot(x=\"outcome\", y=\"y_proba\", hue=\"fold\", data=proba_df, ax=ax)"
   ]
  },
  {
   "cell_type": "code",
   "execution_count": 45,
   "id": "a98d0c4f-916a-49c4-91b8-035ca2048dec",
   "metadata": {},
   "outputs": [
    {
     "data": {
      "text/plain": [
       "<matplotlib.legend.Legend at 0x15a3f6760>"
      ]
     },
     "execution_count": 45,
     "metadata": {},
     "output_type": "execute_result"
    },
    {
     "data": {
      "image/png": "[encoded data removed]",
      "text/plain": [
       "<Figure size 504x360 with 1 Axes>"
      ]
     },
     "metadata": {
      "needs_background": "light"
     },
     "output_type": "display_data"
    }
   ],
   "source": [
    "fig, ax = plt.subplots(figsize=(7, 5))\n",
    "sns.boxplot(x=\"ilae\", y=\"y_proba\", data=proba_df, ax=ax, boxprops=dict(alpha=0.4))\n",
    "sns.swarmplot(x=\"ilae\", y=\"y_proba\", hue=\"outcome\", data=proba_df, ax=ax)\n",
    "ax.axhline([0.5], ls=\"--\", label=\"decision boundary\")\n",
    "ax.legend()\n",
    "# sns.boxplot(x=\"outcome\", y=\"y_proba\", hue=\"fold\", data=proba_df, ax=ax)"
   ]
  },
  {
   "cell_type": "code",
   "execution_count": 46,
   "id": "400b3440-570f-4104-8a37-748540d8d5e0",
   "metadata": {},
   "outputs": [
    {
     "data": {
      "text/plain": [
       "<AxesSubplot:xlabel='outcome', ylabel='y_proba'>"
      ]
     },
     "execution_count": 46,
     "metadata": {},
     "output_type": "execute_result"
    },
    {
     "data": {
      "image/png": "[encoded data removed]",
      "text/plain": [
       "<Figure size 504x360 with 1 Axes>"
      ]
     },
     "metadata": {
      "needs_background": "light"
     },
     "output_type": "display_data"
    }
   ],
   "source": [
    "fig, ax = plt.subplots(figsize=(7, 5))\n",
    "# sns.stripplot(x=\"center\", y=\"y_proba\", hue=\"outcome\", data=proba_df, ax=ax)\n",
    "ax.axhline([0.5], ls=\"--\", label=\"decision boundary\")\n",
    "ax.legend()\n",
    "sns.boxplot(x=\"outcome\", y=\"y_proba\", hue=\"fold\", data=proba_df, ax=ax)"
   ]
  },
  {
   "cell_type": "markdown",
   "id": "af3a9307-fc88-415e-89b6-57b23dc853a5",
   "metadata": {},
   "source": [
    "## Plotting Calibration Curve"
   ]
  },
  {
   "cell_type": "code",
   "execution_count": 47,
   "id": "ec07096e-f799-494c-b3f5-3c0fc20cd549",
   "metadata": {},
   "outputs": [],
   "source": [
    "mean_brier = np.mean(scores[\"test_neg_brier_score\"])\n",
    "std_brier = np.std(scores[\"test_neg_brier_score\"])"
   ]
  },
  {
   "cell_type": "code",
   "execution_count": 48,
   "id": "6dee6c31-9b28-4fc1-93ec-efd8ded96d0b",
   "metadata": {},
   "outputs": [
    {
     "data": {
      "image/png": "[encoded data removed]",
      "text/plain": [
       "<Figure size 432x288 with 1 Axes>"
      ]
     },
     "metadata": {
      "needs_background": "light"
     },
     "output_type": "display_data"
    }
   ],
   "source": [
    "frac_pred_vals = []\n",
    "mean_pred_values = np.linspace(0, 1.0, 200)\n",
    "\n",
    "fig, ax = plt.subplots()\n",
    "color = \"blue\"\n",
    "for idx in range(n_splits):\n",
    "    y_pred_proba = scores[f\"{which_set}_y_pred_proba\"][idx]\n",
    "\n",
    "    mean_predicted_value = scores[f\"{which_set}_mean_pred_value\"][idx]\n",
    "    fraction_of_positives = scores[f\"{which_set}_fraction_pos\"][idx]\n",
    "\n",
    "    # create a linear interpolation of the calibration\n",
    "    interp_frac_positives = np.interp(\n",
    "        mean_pred_values, mean_predicted_value, fraction_of_positives\n",
    "    )\n",
    "\n",
    "    # store curves\n",
    "    frac_pred_vals.append(interp_frac_positives)\n",
    "#     ax.plot(mean_pred_values, interp_frac_positives, \"s-\", alpha=0.5)\n",
    "\n",
    "# get the mean calibration curve\n",
    "mean_frac_pred_values = np.mean(frac_pred_vals, axis=0)\n",
    "ax.plot(\n",
    "    mean_pred_values,\n",
    "    mean_frac_pred_values,\n",
    "    \"s-\",\n",
    "    label=rf\"({np.round(mean_brier,3)} $\\pm$ {np.round(std_brier, 3)}\",\n",
    ")\n",
    "\n",
    "# get upper and lower bound for tpr\n",
    "std_fpv = np.std(frac_pred_vals, axis=0)\n",
    "tprs_upper = np.minimum(mean_frac_pred_values + std_fpv, 1)\n",
    "tprs_lower = np.maximum(mean_frac_pred_values - std_fpv, 0)\n",
    "ax.fill_between(\n",
    "    mean_pred_values,\n",
    "    tprs_lower,\n",
    "    tprs_upper,\n",
    "    color=color,\n",
    "    alpha=0.2,\n",
    "    # label=r\"$\\pm$ 1 std. dev.\",\n",
    ")\n",
    "ax.plot([0, 1], [0, 1], \"k:\", label=\"Perfectly calibrated\")\n",
    "\n",
    "\n",
    "ax.set(\n",
    "    ylabel=\"Fraction of Success Outcomes\",\n",
    "    ylim=[-0.05, 1.05],\n",
    "    xlabel=\"Mean Predicted Success Probabilities of Subjects\",\n",
    "    title=\"Calibration (Reliability) Curve\",\n",
    ")\n",
    "\n",
    "ax.legend(loc=\"lower right\")\n",
    "plt.show()"
   ]
  },
  {
   "cell_type": "markdown",
   "id": "c9aea77c-7a80-4d05-b010-09fd6b61f0cc",
   "metadata": {},
   "source": []
  },
  {
   "cell_type": "code",
   "execution_count": null,
   "id": "762693e6-21f6-4987-9c89-20a079ef5890",
   "metadata": {},
   "outputs": [],
   "source": []
  }
 ],
 "metadata": {
  "kernelspec": {
   "display_name": "eztrack",
   "language": "python",
   "name": "eztrack"
  },
  "language_info": {
   "codemirror_mode": {
    "name": "ipython",
    "version": 3
   },
   "file_extension": ".py",
   "mimetype": "text/x-python",
   "name": "python",
   "nbconvert_exporter": "python",
   "pygments_lexer": "ipython3",
   "version": "3.8.10"
  }
 },
 "nbformat": 4,
 "nbformat_minor": 5
}
